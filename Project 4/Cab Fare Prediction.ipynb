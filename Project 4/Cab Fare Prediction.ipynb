{
 "cells": [
  {
   "cell_type": "code",
   "execution_count": 66,
   "id": "8d0d2db7-dbe6-43fa-ba8e-b73cdb7a061d",
   "metadata": {},
   "outputs": [],
   "source": [
    "# You are a cab rental start-up company. You have successfully run the pilot project and now want to launch your cab service across the country.\n",
    "# You have collected the historical data from your pilot project and now have a requirement to apply analytics for fare prediction.\n",
    "# You need to design a system that predicts the fare amount for a cab ride in the city. "
   ]
  },
  {
   "cell_type": "code",
   "execution_count": 67,
   "id": "c1c90cee-b8d6-4355-bede-48750867fee0",
   "metadata": {},
   "outputs": [],
   "source": [
    "#  import required libraries\n",
    "import os as os\n",
    "import pandas as pd\n",
    "import numpy as np\n",
    "import matplotlib.pyplot as plt\n",
    "import seaborn as sns\n",
    "from collections import Counter\n",
    "from sklearn.tree import DecisionTreeRegressor\n",
    "from sklearn.ensemble import RandomForestRegressor\n",
    "from sklearn.ensemble import GradientBoostingRegressor\n",
    "from sklearn.linear_model import LinearRegression\n",
    "from sklearn.model_selection import train_test_split\n",
    "from sklearn.metrics import mean_squared_error\n",
    "from sklearn.metrics import r2_score\n",
    "from pprint import pprint\n",
    "from sklearn.model_selection import GridSearchCV"
   ]
  },
  {
   "cell_type": "code",
   "execution_count": 68,
   "id": "f341ec38-9df8-4c98-a884-e67a0dfa70a8",
   "metadata": {},
   "outputs": [
    {
     "name": "stdout",
     "output_type": "stream",
     "text": [
      "E:\\JUPYTER\\Data Science\\Project 4\n"
     ]
    }
   ],
   "source": [
    "os.chdir(\"E:/JUPYTER/Data Science/Project 4\")\n",
    "print(os.getcwd())"
   ]
  },
  {
   "cell_type": "code",
   "execution_count": 69,
   "id": "13c6756c-e8b8-494d-979a-0234a0854168",
   "metadata": {},
   "outputs": [
    {
     "data": {
      "text/html": [
       "<div>\n",
       "<style scoped>\n",
       "    .dataframe tbody tr th:only-of-type {\n",
       "        vertical-align: middle;\n",
       "    }\n",
       "\n",
       "    .dataframe tbody tr th {\n",
       "        vertical-align: top;\n",
       "    }\n",
       "\n",
       "    .dataframe thead th {\n",
       "        text-align: right;\n",
       "    }\n",
       "</style>\n",
       "<table border=\"1\" class=\"dataframe\">\n",
       "  <thead>\n",
       "    <tr style=\"text-align: right;\">\n",
       "      <th></th>\n",
       "      <th>fare_amount</th>\n",
       "      <th>pickup_datetime</th>\n",
       "      <th>pickup_longitude</th>\n",
       "      <th>pickup_latitude</th>\n",
       "      <th>dropoff_longitude</th>\n",
       "      <th>dropoff_latitude</th>\n",
       "      <th>passenger_count</th>\n",
       "    </tr>\n",
       "  </thead>\n",
       "  <tbody>\n",
       "    <tr>\n",
       "      <th>0</th>\n",
       "      <td>4.5</td>\n",
       "      <td>2009-06-15 17:26:21 UTC</td>\n",
       "      <td>-73.844311</td>\n",
       "      <td>40.721319</td>\n",
       "      <td>-73.841610</td>\n",
       "      <td>40.712278</td>\n",
       "      <td>1.0</td>\n",
       "    </tr>\n",
       "    <tr>\n",
       "      <th>1</th>\n",
       "      <td>16.9</td>\n",
       "      <td>2010-01-05 16:52:16 UTC</td>\n",
       "      <td>-74.016048</td>\n",
       "      <td>40.711303</td>\n",
       "      <td>-73.979268</td>\n",
       "      <td>40.782004</td>\n",
       "      <td>1.0</td>\n",
       "    </tr>\n",
       "    <tr>\n",
       "      <th>2</th>\n",
       "      <td>5.7</td>\n",
       "      <td>2011-08-18 00:35:00 UTC</td>\n",
       "      <td>-73.982738</td>\n",
       "      <td>40.761270</td>\n",
       "      <td>-73.991242</td>\n",
       "      <td>40.750562</td>\n",
       "      <td>2.0</td>\n",
       "    </tr>\n",
       "    <tr>\n",
       "      <th>3</th>\n",
       "      <td>7.7</td>\n",
       "      <td>2012-04-21 04:30:42 UTC</td>\n",
       "      <td>-73.987130</td>\n",
       "      <td>40.733143</td>\n",
       "      <td>-73.991567</td>\n",
       "      <td>40.758092</td>\n",
       "      <td>1.0</td>\n",
       "    </tr>\n",
       "    <tr>\n",
       "      <th>4</th>\n",
       "      <td>5.3</td>\n",
       "      <td>2010-03-09 07:51:00 UTC</td>\n",
       "      <td>-73.968095</td>\n",
       "      <td>40.768008</td>\n",
       "      <td>-73.956655</td>\n",
       "      <td>40.783762</td>\n",
       "      <td>1.0</td>\n",
       "    </tr>\n",
       "    <tr>\n",
       "      <th>...</th>\n",
       "      <td>...</td>\n",
       "      <td>...</td>\n",
       "      <td>...</td>\n",
       "      <td>...</td>\n",
       "      <td>...</td>\n",
       "      <td>...</td>\n",
       "      <td>...</td>\n",
       "    </tr>\n",
       "    <tr>\n",
       "      <th>16062</th>\n",
       "      <td>6.5</td>\n",
       "      <td>2014-12-12 07:41:00 UTC</td>\n",
       "      <td>-74.008820</td>\n",
       "      <td>40.718757</td>\n",
       "      <td>-73.998865</td>\n",
       "      <td>40.719987</td>\n",
       "      <td>1.0</td>\n",
       "    </tr>\n",
       "    <tr>\n",
       "      <th>16063</th>\n",
       "      <td>16.1</td>\n",
       "      <td>2009-07-13 07:58:00 UTC</td>\n",
       "      <td>-73.981310</td>\n",
       "      <td>40.781695</td>\n",
       "      <td>-74.014392</td>\n",
       "      <td>40.715527</td>\n",
       "      <td>2.0</td>\n",
       "    </tr>\n",
       "    <tr>\n",
       "      <th>16064</th>\n",
       "      <td>8.5</td>\n",
       "      <td>2009-11-11 11:19:07 UTC</td>\n",
       "      <td>-73.972507</td>\n",
       "      <td>40.753417</td>\n",
       "      <td>-73.979577</td>\n",
       "      <td>40.765495</td>\n",
       "      <td>1.0</td>\n",
       "    </tr>\n",
       "    <tr>\n",
       "      <th>16065</th>\n",
       "      <td>8.1</td>\n",
       "      <td>2010-05-11 23:53:00 UTC</td>\n",
       "      <td>-73.957027</td>\n",
       "      <td>40.765945</td>\n",
       "      <td>-73.981983</td>\n",
       "      <td>40.779560</td>\n",
       "      <td>1.0</td>\n",
       "    </tr>\n",
       "    <tr>\n",
       "      <th>16066</th>\n",
       "      <td>8.5</td>\n",
       "      <td>2011-12-14 06:24:33 UTC</td>\n",
       "      <td>-74.002111</td>\n",
       "      <td>40.729755</td>\n",
       "      <td>-73.983877</td>\n",
       "      <td>40.761975</td>\n",
       "      <td>NaN</td>\n",
       "    </tr>\n",
       "  </tbody>\n",
       "</table>\n",
       "<p>16067 rows × 7 columns</p>\n",
       "</div>"
      ],
      "text/plain": [
       "      fare_amount          pickup_datetime  pickup_longitude  pickup_latitude  \\\n",
       "0             4.5  2009-06-15 17:26:21 UTC        -73.844311        40.721319   \n",
       "1            16.9  2010-01-05 16:52:16 UTC        -74.016048        40.711303   \n",
       "2             5.7  2011-08-18 00:35:00 UTC        -73.982738        40.761270   \n",
       "3             7.7  2012-04-21 04:30:42 UTC        -73.987130        40.733143   \n",
       "4             5.3  2010-03-09 07:51:00 UTC        -73.968095        40.768008   \n",
       "...           ...                      ...               ...              ...   \n",
       "16062         6.5  2014-12-12 07:41:00 UTC        -74.008820        40.718757   \n",
       "16063        16.1  2009-07-13 07:58:00 UTC        -73.981310        40.781695   \n",
       "16064         8.5  2009-11-11 11:19:07 UTC        -73.972507        40.753417   \n",
       "16065         8.1  2010-05-11 23:53:00 UTC        -73.957027        40.765945   \n",
       "16066         8.5  2011-12-14 06:24:33 UTC        -74.002111        40.729755   \n",
       "\n",
       "       dropoff_longitude  dropoff_latitude  passenger_count  \n",
       "0             -73.841610         40.712278              1.0  \n",
       "1             -73.979268         40.782004              1.0  \n",
       "2             -73.991242         40.750562              2.0  \n",
       "3             -73.991567         40.758092              1.0  \n",
       "4             -73.956655         40.783762              1.0  \n",
       "...                  ...               ...              ...  \n",
       "16062         -73.998865         40.719987              1.0  \n",
       "16063         -74.014392         40.715527              2.0  \n",
       "16064         -73.979577         40.765495              1.0  \n",
       "16065         -73.981983         40.779560              1.0  \n",
       "16066         -73.983877         40.761975              NaN  \n",
       "\n",
       "[16067 rows x 7 columns]"
      ]
     },
     "execution_count": 69,
     "metadata": {},
     "output_type": "execute_result"
    }
   ],
   "source": [
    "# Loading the data\n",
    "train = pd.read_csv(\"train_cab_fare.csv\")\n",
    "test = pd.read_csv(\"test_cab_fare.csv\")\n",
    "train"
   ]
  },
  {
   "cell_type": "code",
   "execution_count": 70,
   "id": "0351a77e-9522-484a-8447-7ae44fa27789",
   "metadata": {},
   "outputs": [
    {
     "data": {
      "text/html": [
       "<div>\n",
       "<style scoped>\n",
       "    .dataframe tbody tr th:only-of-type {\n",
       "        vertical-align: middle;\n",
       "    }\n",
       "\n",
       "    .dataframe tbody tr th {\n",
       "        vertical-align: top;\n",
       "    }\n",
       "\n",
       "    .dataframe thead th {\n",
       "        text-align: right;\n",
       "    }\n",
       "</style>\n",
       "<table border=\"1\" class=\"dataframe\">\n",
       "  <thead>\n",
       "    <tr style=\"text-align: right;\">\n",
       "      <th></th>\n",
       "      <th>pickup_datetime</th>\n",
       "      <th>pickup_longitude</th>\n",
       "      <th>pickup_latitude</th>\n",
       "      <th>dropoff_longitude</th>\n",
       "      <th>dropoff_latitude</th>\n",
       "      <th>passenger_count</th>\n",
       "    </tr>\n",
       "  </thead>\n",
       "  <tbody>\n",
       "    <tr>\n",
       "      <th>0</th>\n",
       "      <td>2015-01-27 13:08:24 UTC</td>\n",
       "      <td>-73.973320</td>\n",
       "      <td>40.763805</td>\n",
       "      <td>-73.981430</td>\n",
       "      <td>40.743835</td>\n",
       "      <td>1</td>\n",
       "    </tr>\n",
       "    <tr>\n",
       "      <th>1</th>\n",
       "      <td>2015-01-27 13:08:24 UTC</td>\n",
       "      <td>-73.986862</td>\n",
       "      <td>40.719383</td>\n",
       "      <td>-73.998886</td>\n",
       "      <td>40.739201</td>\n",
       "      <td>1</td>\n",
       "    </tr>\n",
       "    <tr>\n",
       "      <th>2</th>\n",
       "      <td>2011-10-08 11:53:44 UTC</td>\n",
       "      <td>-73.982524</td>\n",
       "      <td>40.751260</td>\n",
       "      <td>-73.979654</td>\n",
       "      <td>40.746139</td>\n",
       "      <td>1</td>\n",
       "    </tr>\n",
       "    <tr>\n",
       "      <th>3</th>\n",
       "      <td>2012-12-01 21:12:12 UTC</td>\n",
       "      <td>-73.981160</td>\n",
       "      <td>40.767807</td>\n",
       "      <td>-73.990448</td>\n",
       "      <td>40.751635</td>\n",
       "      <td>1</td>\n",
       "    </tr>\n",
       "    <tr>\n",
       "      <th>4</th>\n",
       "      <td>2012-12-01 21:12:12 UTC</td>\n",
       "      <td>-73.966046</td>\n",
       "      <td>40.789775</td>\n",
       "      <td>-73.988565</td>\n",
       "      <td>40.744427</td>\n",
       "      <td>1</td>\n",
       "    </tr>\n",
       "    <tr>\n",
       "      <th>...</th>\n",
       "      <td>...</td>\n",
       "      <td>...</td>\n",
       "      <td>...</td>\n",
       "      <td>...</td>\n",
       "      <td>...</td>\n",
       "      <td>...</td>\n",
       "    </tr>\n",
       "    <tr>\n",
       "      <th>9909</th>\n",
       "      <td>2015-05-10 12:37:51 UTC</td>\n",
       "      <td>-73.968124</td>\n",
       "      <td>40.796997</td>\n",
       "      <td>-73.955643</td>\n",
       "      <td>40.780388</td>\n",
       "      <td>6</td>\n",
       "    </tr>\n",
       "    <tr>\n",
       "      <th>9910</th>\n",
       "      <td>2015-01-12 17:05:51 UTC</td>\n",
       "      <td>-73.945511</td>\n",
       "      <td>40.803600</td>\n",
       "      <td>-73.960213</td>\n",
       "      <td>40.776371</td>\n",
       "      <td>6</td>\n",
       "    </tr>\n",
       "    <tr>\n",
       "      <th>9911</th>\n",
       "      <td>2015-04-19 20:44:15 UTC</td>\n",
       "      <td>-73.991600</td>\n",
       "      <td>40.726608</td>\n",
       "      <td>-73.789742</td>\n",
       "      <td>40.647011</td>\n",
       "      <td>6</td>\n",
       "    </tr>\n",
       "    <tr>\n",
       "      <th>9912</th>\n",
       "      <td>2015-01-31 01:05:19 UTC</td>\n",
       "      <td>-73.985573</td>\n",
       "      <td>40.735432</td>\n",
       "      <td>-73.939178</td>\n",
       "      <td>40.801731</td>\n",
       "      <td>6</td>\n",
       "    </tr>\n",
       "    <tr>\n",
       "      <th>9913</th>\n",
       "      <td>2015-01-18 14:06:23 UTC</td>\n",
       "      <td>-73.988022</td>\n",
       "      <td>40.754070</td>\n",
       "      <td>-74.000282</td>\n",
       "      <td>40.759220</td>\n",
       "      <td>6</td>\n",
       "    </tr>\n",
       "  </tbody>\n",
       "</table>\n",
       "<p>9914 rows × 6 columns</p>\n",
       "</div>"
      ],
      "text/plain": [
       "              pickup_datetime  pickup_longitude  pickup_latitude  \\\n",
       "0     2015-01-27 13:08:24 UTC        -73.973320        40.763805   \n",
       "1     2015-01-27 13:08:24 UTC        -73.986862        40.719383   \n",
       "2     2011-10-08 11:53:44 UTC        -73.982524        40.751260   \n",
       "3     2012-12-01 21:12:12 UTC        -73.981160        40.767807   \n",
       "4     2012-12-01 21:12:12 UTC        -73.966046        40.789775   \n",
       "...                       ...               ...              ...   \n",
       "9909  2015-05-10 12:37:51 UTC        -73.968124        40.796997   \n",
       "9910  2015-01-12 17:05:51 UTC        -73.945511        40.803600   \n",
       "9911  2015-04-19 20:44:15 UTC        -73.991600        40.726608   \n",
       "9912  2015-01-31 01:05:19 UTC        -73.985573        40.735432   \n",
       "9913  2015-01-18 14:06:23 UTC        -73.988022        40.754070   \n",
       "\n",
       "      dropoff_longitude  dropoff_latitude  passenger_count  \n",
       "0            -73.981430         40.743835                1  \n",
       "1            -73.998886         40.739201                1  \n",
       "2            -73.979654         40.746139                1  \n",
       "3            -73.990448         40.751635                1  \n",
       "4            -73.988565         40.744427                1  \n",
       "...                 ...               ...              ...  \n",
       "9909         -73.955643         40.780388                6  \n",
       "9910         -73.960213         40.776371                6  \n",
       "9911         -73.789742         40.647011                6  \n",
       "9912         -73.939178         40.801731                6  \n",
       "9913         -74.000282         40.759220                6  \n",
       "\n",
       "[9914 rows x 6 columns]"
      ]
     },
     "execution_count": 70,
     "metadata": {},
     "output_type": "execute_result"
    }
   ],
   "source": [
    "test"
   ]
  },
  {
   "cell_type": "code",
   "execution_count": 71,
   "id": "b9566059-2045-4e5a-89d0-b2f5172c0d09",
   "metadata": {},
   "outputs": [
    {
     "data": {
      "text/html": [
       "<div>\n",
       "<style scoped>\n",
       "    .dataframe tbody tr th:only-of-type {\n",
       "        vertical-align: middle;\n",
       "    }\n",
       "\n",
       "    .dataframe tbody tr th {\n",
       "        vertical-align: top;\n",
       "    }\n",
       "\n",
       "    .dataframe thead th {\n",
       "        text-align: right;\n",
       "    }\n",
       "</style>\n",
       "<table border=\"1\" class=\"dataframe\">\n",
       "  <thead>\n",
       "    <tr style=\"text-align: right;\">\n",
       "      <th></th>\n",
       "      <th>fare_amount</th>\n",
       "      <th>pickup_datetime</th>\n",
       "      <th>pickup_longitude</th>\n",
       "      <th>pickup_latitude</th>\n",
       "      <th>dropoff_longitude</th>\n",
       "      <th>dropoff_latitude</th>\n",
       "      <th>passenger_count</th>\n",
       "    </tr>\n",
       "  </thead>\n",
       "  <tbody>\n",
       "    <tr>\n",
       "      <th>0</th>\n",
       "      <td>4.5</td>\n",
       "      <td>2009-06-15 17:26:21 UTC</td>\n",
       "      <td>-73.844311</td>\n",
       "      <td>40.721319</td>\n",
       "      <td>-73.841610</td>\n",
       "      <td>40.712278</td>\n",
       "      <td>1.0</td>\n",
       "    </tr>\n",
       "    <tr>\n",
       "      <th>1</th>\n",
       "      <td>16.9</td>\n",
       "      <td>2010-01-05 16:52:16 UTC</td>\n",
       "      <td>-74.016048</td>\n",
       "      <td>40.711303</td>\n",
       "      <td>-73.979268</td>\n",
       "      <td>40.782004</td>\n",
       "      <td>1.0</td>\n",
       "    </tr>\n",
       "    <tr>\n",
       "      <th>2</th>\n",
       "      <td>5.7</td>\n",
       "      <td>2011-08-18 00:35:00 UTC</td>\n",
       "      <td>-73.982738</td>\n",
       "      <td>40.761270</td>\n",
       "      <td>-73.991242</td>\n",
       "      <td>40.750562</td>\n",
       "      <td>2.0</td>\n",
       "    </tr>\n",
       "    <tr>\n",
       "      <th>3</th>\n",
       "      <td>7.7</td>\n",
       "      <td>2012-04-21 04:30:42 UTC</td>\n",
       "      <td>-73.987130</td>\n",
       "      <td>40.733143</td>\n",
       "      <td>-73.991567</td>\n",
       "      <td>40.758092</td>\n",
       "      <td>1.0</td>\n",
       "    </tr>\n",
       "    <tr>\n",
       "      <th>4</th>\n",
       "      <td>5.3</td>\n",
       "      <td>2010-03-09 07:51:00 UTC</td>\n",
       "      <td>-73.968095</td>\n",
       "      <td>40.768008</td>\n",
       "      <td>-73.956655</td>\n",
       "      <td>40.783762</td>\n",
       "      <td>1.0</td>\n",
       "    </tr>\n",
       "  </tbody>\n",
       "</table>\n",
       "</div>"
      ],
      "text/plain": [
       "  fare_amount          pickup_datetime  pickup_longitude  pickup_latitude  \\\n",
       "0         4.5  2009-06-15 17:26:21 UTC        -73.844311        40.721319   \n",
       "1        16.9  2010-01-05 16:52:16 UTC        -74.016048        40.711303   \n",
       "2         5.7  2011-08-18 00:35:00 UTC        -73.982738        40.761270   \n",
       "3         7.7  2012-04-21 04:30:42 UTC        -73.987130        40.733143   \n",
       "4         5.3  2010-03-09 07:51:00 UTC        -73.968095        40.768008   \n",
       "\n",
       "   dropoff_longitude  dropoff_latitude  passenger_count  \n",
       "0         -73.841610         40.712278              1.0  \n",
       "1         -73.979268         40.782004              1.0  \n",
       "2         -73.991242         40.750562              2.0  \n",
       "3         -73.991567         40.758092              1.0  \n",
       "4         -73.956655         40.783762              1.0  "
      ]
     },
     "execution_count": 71,
     "metadata": {},
     "output_type": "execute_result"
    }
   ],
   "source": [
    "# Understanding the dataset\n",
    "train.head()"
   ]
  },
  {
   "cell_type": "code",
   "execution_count": 72,
   "id": "53c87cb5-f6cc-4750-851e-938261f575b0",
   "metadata": {},
   "outputs": [
    {
     "data": {
      "text/html": [
       "<div>\n",
       "<style scoped>\n",
       "    .dataframe tbody tr th:only-of-type {\n",
       "        vertical-align: middle;\n",
       "    }\n",
       "\n",
       "    .dataframe tbody tr th {\n",
       "        vertical-align: top;\n",
       "    }\n",
       "\n",
       "    .dataframe thead th {\n",
       "        text-align: right;\n",
       "    }\n",
       "</style>\n",
       "<table border=\"1\" class=\"dataframe\">\n",
       "  <thead>\n",
       "    <tr style=\"text-align: right;\">\n",
       "      <th></th>\n",
       "      <th>fare_amount</th>\n",
       "      <th>pickup_datetime</th>\n",
       "      <th>pickup_longitude</th>\n",
       "      <th>pickup_latitude</th>\n",
       "      <th>dropoff_longitude</th>\n",
       "      <th>dropoff_latitude</th>\n",
       "      <th>passenger_count</th>\n",
       "    </tr>\n",
       "  </thead>\n",
       "  <tbody>\n",
       "    <tr>\n",
       "      <th>16062</th>\n",
       "      <td>6.5</td>\n",
       "      <td>2014-12-12 07:41:00 UTC</td>\n",
       "      <td>-74.008820</td>\n",
       "      <td>40.718757</td>\n",
       "      <td>-73.998865</td>\n",
       "      <td>40.719987</td>\n",
       "      <td>1.0</td>\n",
       "    </tr>\n",
       "    <tr>\n",
       "      <th>16063</th>\n",
       "      <td>16.1</td>\n",
       "      <td>2009-07-13 07:58:00 UTC</td>\n",
       "      <td>-73.981310</td>\n",
       "      <td>40.781695</td>\n",
       "      <td>-74.014392</td>\n",
       "      <td>40.715527</td>\n",
       "      <td>2.0</td>\n",
       "    </tr>\n",
       "    <tr>\n",
       "      <th>16064</th>\n",
       "      <td>8.5</td>\n",
       "      <td>2009-11-11 11:19:07 UTC</td>\n",
       "      <td>-73.972507</td>\n",
       "      <td>40.753417</td>\n",
       "      <td>-73.979577</td>\n",
       "      <td>40.765495</td>\n",
       "      <td>1.0</td>\n",
       "    </tr>\n",
       "    <tr>\n",
       "      <th>16065</th>\n",
       "      <td>8.1</td>\n",
       "      <td>2010-05-11 23:53:00 UTC</td>\n",
       "      <td>-73.957027</td>\n",
       "      <td>40.765945</td>\n",
       "      <td>-73.981983</td>\n",
       "      <td>40.779560</td>\n",
       "      <td>1.0</td>\n",
       "    </tr>\n",
       "    <tr>\n",
       "      <th>16066</th>\n",
       "      <td>8.5</td>\n",
       "      <td>2011-12-14 06:24:33 UTC</td>\n",
       "      <td>-74.002111</td>\n",
       "      <td>40.729755</td>\n",
       "      <td>-73.983877</td>\n",
       "      <td>40.761975</td>\n",
       "      <td>NaN</td>\n",
       "    </tr>\n",
       "  </tbody>\n",
       "</table>\n",
       "</div>"
      ],
      "text/plain": [
       "      fare_amount          pickup_datetime  pickup_longitude  pickup_latitude  \\\n",
       "16062         6.5  2014-12-12 07:41:00 UTC        -74.008820        40.718757   \n",
       "16063        16.1  2009-07-13 07:58:00 UTC        -73.981310        40.781695   \n",
       "16064         8.5  2009-11-11 11:19:07 UTC        -73.972507        40.753417   \n",
       "16065         8.1  2010-05-11 23:53:00 UTC        -73.957027        40.765945   \n",
       "16066         8.5  2011-12-14 06:24:33 UTC        -74.002111        40.729755   \n",
       "\n",
       "       dropoff_longitude  dropoff_latitude  passenger_count  \n",
       "16062         -73.998865         40.719987              1.0  \n",
       "16063         -74.014392         40.715527              2.0  \n",
       "16064         -73.979577         40.765495              1.0  \n",
       "16065         -73.981983         40.779560              1.0  \n",
       "16066         -73.983877         40.761975              NaN  "
      ]
     },
     "execution_count": 72,
     "metadata": {},
     "output_type": "execute_result"
    }
   ],
   "source": [
    "train.tail()"
   ]
  },
  {
   "cell_type": "code",
   "execution_count": 73,
   "id": "96412e7d-cf09-4a16-84e6-66853814f5cc",
   "metadata": {},
   "outputs": [
    {
     "data": {
      "text/html": [
       "<div>\n",
       "<style scoped>\n",
       "    .dataframe tbody tr th:only-of-type {\n",
       "        vertical-align: middle;\n",
       "    }\n",
       "\n",
       "    .dataframe tbody tr th {\n",
       "        vertical-align: top;\n",
       "    }\n",
       "\n",
       "    .dataframe thead th {\n",
       "        text-align: right;\n",
       "    }\n",
       "</style>\n",
       "<table border=\"1\" class=\"dataframe\">\n",
       "  <thead>\n",
       "    <tr style=\"text-align: right;\">\n",
       "      <th></th>\n",
       "      <th>pickup_datetime</th>\n",
       "      <th>pickup_longitude</th>\n",
       "      <th>pickup_latitude</th>\n",
       "      <th>dropoff_longitude</th>\n",
       "      <th>dropoff_latitude</th>\n",
       "      <th>passenger_count</th>\n",
       "    </tr>\n",
       "  </thead>\n",
       "  <tbody>\n",
       "    <tr>\n",
       "      <th>0</th>\n",
       "      <td>2015-01-27 13:08:24 UTC</td>\n",
       "      <td>-73.973320</td>\n",
       "      <td>40.763805</td>\n",
       "      <td>-73.981430</td>\n",
       "      <td>40.743835</td>\n",
       "      <td>1</td>\n",
       "    </tr>\n",
       "    <tr>\n",
       "      <th>1</th>\n",
       "      <td>2015-01-27 13:08:24 UTC</td>\n",
       "      <td>-73.986862</td>\n",
       "      <td>40.719383</td>\n",
       "      <td>-73.998886</td>\n",
       "      <td>40.739201</td>\n",
       "      <td>1</td>\n",
       "    </tr>\n",
       "    <tr>\n",
       "      <th>2</th>\n",
       "      <td>2011-10-08 11:53:44 UTC</td>\n",
       "      <td>-73.982524</td>\n",
       "      <td>40.751260</td>\n",
       "      <td>-73.979654</td>\n",
       "      <td>40.746139</td>\n",
       "      <td>1</td>\n",
       "    </tr>\n",
       "    <tr>\n",
       "      <th>3</th>\n",
       "      <td>2012-12-01 21:12:12 UTC</td>\n",
       "      <td>-73.981160</td>\n",
       "      <td>40.767807</td>\n",
       "      <td>-73.990448</td>\n",
       "      <td>40.751635</td>\n",
       "      <td>1</td>\n",
       "    </tr>\n",
       "    <tr>\n",
       "      <th>4</th>\n",
       "      <td>2012-12-01 21:12:12 UTC</td>\n",
       "      <td>-73.966046</td>\n",
       "      <td>40.789775</td>\n",
       "      <td>-73.988565</td>\n",
       "      <td>40.744427</td>\n",
       "      <td>1</td>\n",
       "    </tr>\n",
       "  </tbody>\n",
       "</table>\n",
       "</div>"
      ],
      "text/plain": [
       "           pickup_datetime  pickup_longitude  pickup_latitude  \\\n",
       "0  2015-01-27 13:08:24 UTC        -73.973320        40.763805   \n",
       "1  2015-01-27 13:08:24 UTC        -73.986862        40.719383   \n",
       "2  2011-10-08 11:53:44 UTC        -73.982524        40.751260   \n",
       "3  2012-12-01 21:12:12 UTC        -73.981160        40.767807   \n",
       "4  2012-12-01 21:12:12 UTC        -73.966046        40.789775   \n",
       "\n",
       "   dropoff_longitude  dropoff_latitude  passenger_count  \n",
       "0         -73.981430         40.743835                1  \n",
       "1         -73.998886         40.739201                1  \n",
       "2         -73.979654         40.746139                1  \n",
       "3         -73.990448         40.751635                1  \n",
       "4         -73.988565         40.744427                1  "
      ]
     },
     "execution_count": 73,
     "metadata": {},
     "output_type": "execute_result"
    }
   ],
   "source": [
    "test.head()"
   ]
  },
  {
   "cell_type": "code",
   "execution_count": 74,
   "id": "7b88e5fe-29f9-48ea-a26d-512464358219",
   "metadata": {},
   "outputs": [
    {
     "data": {
      "text/html": [
       "<div>\n",
       "<style scoped>\n",
       "    .dataframe tbody tr th:only-of-type {\n",
       "        vertical-align: middle;\n",
       "    }\n",
       "\n",
       "    .dataframe tbody tr th {\n",
       "        vertical-align: top;\n",
       "    }\n",
       "\n",
       "    .dataframe thead th {\n",
       "        text-align: right;\n",
       "    }\n",
       "</style>\n",
       "<table border=\"1\" class=\"dataframe\">\n",
       "  <thead>\n",
       "    <tr style=\"text-align: right;\">\n",
       "      <th></th>\n",
       "      <th>pickup_datetime</th>\n",
       "      <th>pickup_longitude</th>\n",
       "      <th>pickup_latitude</th>\n",
       "      <th>dropoff_longitude</th>\n",
       "      <th>dropoff_latitude</th>\n",
       "      <th>passenger_count</th>\n",
       "    </tr>\n",
       "  </thead>\n",
       "  <tbody>\n",
       "    <tr>\n",
       "      <th>9909</th>\n",
       "      <td>2015-05-10 12:37:51 UTC</td>\n",
       "      <td>-73.968124</td>\n",
       "      <td>40.796997</td>\n",
       "      <td>-73.955643</td>\n",
       "      <td>40.780388</td>\n",
       "      <td>6</td>\n",
       "    </tr>\n",
       "    <tr>\n",
       "      <th>9910</th>\n",
       "      <td>2015-01-12 17:05:51 UTC</td>\n",
       "      <td>-73.945511</td>\n",
       "      <td>40.803600</td>\n",
       "      <td>-73.960213</td>\n",
       "      <td>40.776371</td>\n",
       "      <td>6</td>\n",
       "    </tr>\n",
       "    <tr>\n",
       "      <th>9911</th>\n",
       "      <td>2015-04-19 20:44:15 UTC</td>\n",
       "      <td>-73.991600</td>\n",
       "      <td>40.726608</td>\n",
       "      <td>-73.789742</td>\n",
       "      <td>40.647011</td>\n",
       "      <td>6</td>\n",
       "    </tr>\n",
       "    <tr>\n",
       "      <th>9912</th>\n",
       "      <td>2015-01-31 01:05:19 UTC</td>\n",
       "      <td>-73.985573</td>\n",
       "      <td>40.735432</td>\n",
       "      <td>-73.939178</td>\n",
       "      <td>40.801731</td>\n",
       "      <td>6</td>\n",
       "    </tr>\n",
       "    <tr>\n",
       "      <th>9913</th>\n",
       "      <td>2015-01-18 14:06:23 UTC</td>\n",
       "      <td>-73.988022</td>\n",
       "      <td>40.754070</td>\n",
       "      <td>-74.000282</td>\n",
       "      <td>40.759220</td>\n",
       "      <td>6</td>\n",
       "    </tr>\n",
       "  </tbody>\n",
       "</table>\n",
       "</div>"
      ],
      "text/plain": [
       "              pickup_datetime  pickup_longitude  pickup_latitude  \\\n",
       "9909  2015-05-10 12:37:51 UTC        -73.968124        40.796997   \n",
       "9910  2015-01-12 17:05:51 UTC        -73.945511        40.803600   \n",
       "9911  2015-04-19 20:44:15 UTC        -73.991600        40.726608   \n",
       "9912  2015-01-31 01:05:19 UTC        -73.985573        40.735432   \n",
       "9913  2015-01-18 14:06:23 UTC        -73.988022        40.754070   \n",
       "\n",
       "      dropoff_longitude  dropoff_latitude  passenger_count  \n",
       "9909         -73.955643         40.780388                6  \n",
       "9910         -73.960213         40.776371                6  \n",
       "9911         -73.789742         40.647011                6  \n",
       "9912         -73.939178         40.801731                6  \n",
       "9913         -74.000282         40.759220                6  "
      ]
     },
     "execution_count": 74,
     "metadata": {},
     "output_type": "execute_result"
    }
   ],
   "source": [
    "test.tail()"
   ]
  },
  {
   "cell_type": "code",
   "execution_count": 75,
   "id": "f10a55b7-b53e-4a52-8171-30c68ac2ed5f",
   "metadata": {},
   "outputs": [
    {
     "data": {
      "text/plain": [
       "(16067, 7)"
      ]
     },
     "execution_count": 75,
     "metadata": {},
     "output_type": "execute_result"
    }
   ],
   "source": [
    "train.shape"
   ]
  },
  {
   "cell_type": "code",
   "execution_count": 76,
   "id": "749c6e71-e784-4adf-9b97-86244dad0493",
   "metadata": {},
   "outputs": [
    {
     "data": {
      "text/plain": [
       "(9914, 6)"
      ]
     },
     "execution_count": 76,
     "metadata": {},
     "output_type": "execute_result"
    }
   ],
   "source": [
    "test.shape"
   ]
  },
  {
   "cell_type": "code",
   "execution_count": 77,
   "id": "d8c53e13-809a-460b-9dff-a40ec0e3506e",
   "metadata": {},
   "outputs": [
    {
     "data": {
      "text/plain": [
       "fare_amount           object\n",
       "pickup_datetime       object\n",
       "pickup_longitude     float64\n",
       "pickup_latitude      float64\n",
       "dropoff_longitude    float64\n",
       "dropoff_latitude     float64\n",
       "passenger_count      float64\n",
       "dtype: object"
      ]
     },
     "execution_count": 77,
     "metadata": {},
     "output_type": "execute_result"
    }
   ],
   "source": [
    "train.dtypes"
   ]
  },
  {
   "cell_type": "code",
   "execution_count": 78,
   "id": "4f4e82b1-2e45-4419-8174-8372efa3cbd7",
   "metadata": {},
   "outputs": [
    {
     "data": {
      "text/plain": [
       "pickup_datetime       object\n",
       "pickup_longitude     float64\n",
       "pickup_latitude      float64\n",
       "dropoff_longitude    float64\n",
       "dropoff_latitude     float64\n",
       "passenger_count        int64\n",
       "dtype: object"
      ]
     },
     "execution_count": 78,
     "metadata": {},
     "output_type": "execute_result"
    }
   ],
   "source": [
    "test.dtypes"
   ]
  },
  {
   "cell_type": "code",
   "execution_count": 79,
   "id": "e26ae53e-a3cb-4356-adaa-ee746da0a735",
   "metadata": {},
   "outputs": [
    {
     "data": {
      "text/plain": [
       "<bound method NDFrame.describe of       fare_amount          pickup_datetime  pickup_longitude  pickup_latitude  \\\n",
       "0             4.5  2009-06-15 17:26:21 UTC        -73.844311        40.721319   \n",
       "1            16.9  2010-01-05 16:52:16 UTC        -74.016048        40.711303   \n",
       "2             5.7  2011-08-18 00:35:00 UTC        -73.982738        40.761270   \n",
       "3             7.7  2012-04-21 04:30:42 UTC        -73.987130        40.733143   \n",
       "4             5.3  2010-03-09 07:51:00 UTC        -73.968095        40.768008   \n",
       "...           ...                      ...               ...              ...   \n",
       "16062         6.5  2014-12-12 07:41:00 UTC        -74.008820        40.718757   \n",
       "16063        16.1  2009-07-13 07:58:00 UTC        -73.981310        40.781695   \n",
       "16064         8.5  2009-11-11 11:19:07 UTC        -73.972507        40.753417   \n",
       "16065         8.1  2010-05-11 23:53:00 UTC        -73.957027        40.765945   \n",
       "16066         8.5  2011-12-14 06:24:33 UTC        -74.002111        40.729755   \n",
       "\n",
       "       dropoff_longitude  dropoff_latitude  passenger_count  \n",
       "0             -73.841610         40.712278              1.0  \n",
       "1             -73.979268         40.782004              1.0  \n",
       "2             -73.991242         40.750562              2.0  \n",
       "3             -73.991567         40.758092              1.0  \n",
       "4             -73.956655         40.783762              1.0  \n",
       "...                  ...               ...              ...  \n",
       "16062         -73.998865         40.719987              1.0  \n",
       "16063         -74.014392         40.715527              2.0  \n",
       "16064         -73.979577         40.765495              1.0  \n",
       "16065         -73.981983         40.779560              1.0  \n",
       "16066         -73.983877         40.761975              NaN  \n",
       "\n",
       "[16067 rows x 7 columns]>"
      ]
     },
     "execution_count": 79,
     "metadata": {},
     "output_type": "execute_result"
    }
   ],
   "source": [
    "train.describe"
   ]
  },
  {
   "cell_type": "code",
   "execution_count": 80,
   "id": "5534751e-83e3-4072-afe5-018c97ea723a",
   "metadata": {},
   "outputs": [
    {
     "data": {
      "text/plain": [
       "<bound method NDFrame.describe of               pickup_datetime  pickup_longitude  pickup_latitude  \\\n",
       "0     2015-01-27 13:08:24 UTC        -73.973320        40.763805   \n",
       "1     2015-01-27 13:08:24 UTC        -73.986862        40.719383   \n",
       "2     2011-10-08 11:53:44 UTC        -73.982524        40.751260   \n",
       "3     2012-12-01 21:12:12 UTC        -73.981160        40.767807   \n",
       "4     2012-12-01 21:12:12 UTC        -73.966046        40.789775   \n",
       "...                       ...               ...              ...   \n",
       "9909  2015-05-10 12:37:51 UTC        -73.968124        40.796997   \n",
       "9910  2015-01-12 17:05:51 UTC        -73.945511        40.803600   \n",
       "9911  2015-04-19 20:44:15 UTC        -73.991600        40.726608   \n",
       "9912  2015-01-31 01:05:19 UTC        -73.985573        40.735432   \n",
       "9913  2015-01-18 14:06:23 UTC        -73.988022        40.754070   \n",
       "\n",
       "      dropoff_longitude  dropoff_latitude  passenger_count  \n",
       "0            -73.981430         40.743835                1  \n",
       "1            -73.998886         40.739201                1  \n",
       "2            -73.979654         40.746139                1  \n",
       "3            -73.990448         40.751635                1  \n",
       "4            -73.988565         40.744427                1  \n",
       "...                 ...               ...              ...  \n",
       "9909         -73.955643         40.780388                6  \n",
       "9910         -73.960213         40.776371                6  \n",
       "9911         -73.789742         40.647011                6  \n",
       "9912         -73.939178         40.801731                6  \n",
       "9913         -74.000282         40.759220                6  \n",
       "\n",
       "[9914 rows x 6 columns]>"
      ]
     },
     "execution_count": 80,
     "metadata": {},
     "output_type": "execute_result"
    }
   ],
   "source": [
    "test.describe"
   ]
  },
  {
   "cell_type": "code",
   "execution_count": 81,
   "id": "59723a34-441e-44aa-a2d2-0f6d4abe8463",
   "metadata": {},
   "outputs": [
    {
     "data": {
      "text/html": [
       "<div>\n",
       "<style scoped>\n",
       "    .dataframe tbody tr th:only-of-type {\n",
       "        vertical-align: middle;\n",
       "    }\n",
       "\n",
       "    .dataframe tbody tr th {\n",
       "        vertical-align: top;\n",
       "    }\n",
       "\n",
       "    .dataframe thead th {\n",
       "        text-align: right;\n",
       "    }\n",
       "</style>\n",
       "<table border=\"1\" class=\"dataframe\">\n",
       "  <thead>\n",
       "    <tr style=\"text-align: right;\">\n",
       "      <th></th>\n",
       "      <th>pickup_longitude</th>\n",
       "      <th>pickup_latitude</th>\n",
       "      <th>dropoff_longitude</th>\n",
       "      <th>dropoff_latitude</th>\n",
       "      <th>passenger_count</th>\n",
       "    </tr>\n",
       "  </thead>\n",
       "  <tbody>\n",
       "    <tr>\n",
       "      <th>count</th>\n",
       "      <td>16067.000000</td>\n",
       "      <td>16067.000000</td>\n",
       "      <td>16067.000000</td>\n",
       "      <td>16067.000000</td>\n",
       "      <td>16012.000000</td>\n",
       "    </tr>\n",
       "    <tr>\n",
       "      <th>mean</th>\n",
       "      <td>-72.462787</td>\n",
       "      <td>39.914725</td>\n",
       "      <td>-72.462328</td>\n",
       "      <td>39.897906</td>\n",
       "      <td>2.625070</td>\n",
       "    </tr>\n",
       "    <tr>\n",
       "      <th>std</th>\n",
       "      <td>10.578384</td>\n",
       "      <td>6.826587</td>\n",
       "      <td>10.575062</td>\n",
       "      <td>6.187087</td>\n",
       "      <td>60.844122</td>\n",
       "    </tr>\n",
       "    <tr>\n",
       "      <th>min</th>\n",
       "      <td>-74.438233</td>\n",
       "      <td>-74.006893</td>\n",
       "      <td>-74.429332</td>\n",
       "      <td>-74.006377</td>\n",
       "      <td>0.000000</td>\n",
       "    </tr>\n",
       "    <tr>\n",
       "      <th>25%</th>\n",
       "      <td>-73.992156</td>\n",
       "      <td>40.734927</td>\n",
       "      <td>-73.991182</td>\n",
       "      <td>40.734651</td>\n",
       "      <td>1.000000</td>\n",
       "    </tr>\n",
       "    <tr>\n",
       "      <th>50%</th>\n",
       "      <td>-73.981698</td>\n",
       "      <td>40.752603</td>\n",
       "      <td>-73.980172</td>\n",
       "      <td>40.753567</td>\n",
       "      <td>1.000000</td>\n",
       "    </tr>\n",
       "    <tr>\n",
       "      <th>75%</th>\n",
       "      <td>-73.966838</td>\n",
       "      <td>40.767381</td>\n",
       "      <td>-73.963642</td>\n",
       "      <td>40.768014</td>\n",
       "      <td>2.000000</td>\n",
       "    </tr>\n",
       "    <tr>\n",
       "      <th>max</th>\n",
       "      <td>40.766125</td>\n",
       "      <td>401.083332</td>\n",
       "      <td>40.802437</td>\n",
       "      <td>41.366138</td>\n",
       "      <td>5345.000000</td>\n",
       "    </tr>\n",
       "  </tbody>\n",
       "</table>\n",
       "</div>"
      ],
      "text/plain": [
       "       pickup_longitude  pickup_latitude  dropoff_longitude  dropoff_latitude  \\\n",
       "count      16067.000000     16067.000000       16067.000000      16067.000000   \n",
       "mean         -72.462787        39.914725         -72.462328         39.897906   \n",
       "std           10.578384         6.826587          10.575062          6.187087   \n",
       "min          -74.438233       -74.006893         -74.429332        -74.006377   \n",
       "25%          -73.992156        40.734927         -73.991182         40.734651   \n",
       "50%          -73.981698        40.752603         -73.980172         40.753567   \n",
       "75%          -73.966838        40.767381         -73.963642         40.768014   \n",
       "max           40.766125       401.083332          40.802437         41.366138   \n",
       "\n",
       "       passenger_count  \n",
       "count     16012.000000  \n",
       "mean          2.625070  \n",
       "std          60.844122  \n",
       "min           0.000000  \n",
       "25%           1.000000  \n",
       "50%           1.000000  \n",
       "75%           2.000000  \n",
       "max        5345.000000  "
      ]
     },
     "execution_count": 81,
     "metadata": {},
     "output_type": "execute_result"
    }
   ],
   "source": [
    "train.describe()"
   ]
  },
  {
   "cell_type": "code",
   "execution_count": 82,
   "id": "90aed64f-8f87-49b5-b43e-535a56434dcb",
   "metadata": {},
   "outputs": [
    {
     "data": {
      "text/html": [
       "<div>\n",
       "<style scoped>\n",
       "    .dataframe tbody tr th:only-of-type {\n",
       "        vertical-align: middle;\n",
       "    }\n",
       "\n",
       "    .dataframe tbody tr th {\n",
       "        vertical-align: top;\n",
       "    }\n",
       "\n",
       "    .dataframe thead th {\n",
       "        text-align: right;\n",
       "    }\n",
       "</style>\n",
       "<table border=\"1\" class=\"dataframe\">\n",
       "  <thead>\n",
       "    <tr style=\"text-align: right;\">\n",
       "      <th></th>\n",
       "      <th>pickup_longitude</th>\n",
       "      <th>pickup_latitude</th>\n",
       "      <th>dropoff_longitude</th>\n",
       "      <th>dropoff_latitude</th>\n",
       "      <th>passenger_count</th>\n",
       "    </tr>\n",
       "  </thead>\n",
       "  <tbody>\n",
       "    <tr>\n",
       "      <th>count</th>\n",
       "      <td>9914.000000</td>\n",
       "      <td>9914.000000</td>\n",
       "      <td>9914.000000</td>\n",
       "      <td>9914.000000</td>\n",
       "      <td>9914.000000</td>\n",
       "    </tr>\n",
       "    <tr>\n",
       "      <th>mean</th>\n",
       "      <td>-73.974722</td>\n",
       "      <td>40.751041</td>\n",
       "      <td>-73.973657</td>\n",
       "      <td>40.751743</td>\n",
       "      <td>1.671273</td>\n",
       "    </tr>\n",
       "    <tr>\n",
       "      <th>std</th>\n",
       "      <td>0.042774</td>\n",
       "      <td>0.033541</td>\n",
       "      <td>0.039072</td>\n",
       "      <td>0.035435</td>\n",
       "      <td>1.278747</td>\n",
       "    </tr>\n",
       "    <tr>\n",
       "      <th>min</th>\n",
       "      <td>-74.252193</td>\n",
       "      <td>40.573143</td>\n",
       "      <td>-74.263242</td>\n",
       "      <td>40.568973</td>\n",
       "      <td>1.000000</td>\n",
       "    </tr>\n",
       "    <tr>\n",
       "      <th>25%</th>\n",
       "      <td>-73.992501</td>\n",
       "      <td>40.736125</td>\n",
       "      <td>-73.991247</td>\n",
       "      <td>40.735254</td>\n",
       "      <td>1.000000</td>\n",
       "    </tr>\n",
       "    <tr>\n",
       "      <th>50%</th>\n",
       "      <td>-73.982326</td>\n",
       "      <td>40.753051</td>\n",
       "      <td>-73.980015</td>\n",
       "      <td>40.754065</td>\n",
       "      <td>1.000000</td>\n",
       "    </tr>\n",
       "    <tr>\n",
       "      <th>75%</th>\n",
       "      <td>-73.968013</td>\n",
       "      <td>40.767113</td>\n",
       "      <td>-73.964059</td>\n",
       "      <td>40.768757</td>\n",
       "      <td>2.000000</td>\n",
       "    </tr>\n",
       "    <tr>\n",
       "      <th>max</th>\n",
       "      <td>-72.986532</td>\n",
       "      <td>41.709555</td>\n",
       "      <td>-72.990963</td>\n",
       "      <td>41.696683</td>\n",
       "      <td>6.000000</td>\n",
       "    </tr>\n",
       "  </tbody>\n",
       "</table>\n",
       "</div>"
      ],
      "text/plain": [
       "       pickup_longitude  pickup_latitude  dropoff_longitude  dropoff_latitude  \\\n",
       "count       9914.000000      9914.000000        9914.000000       9914.000000   \n",
       "mean         -73.974722        40.751041         -73.973657         40.751743   \n",
       "std            0.042774         0.033541           0.039072          0.035435   \n",
       "min          -74.252193        40.573143         -74.263242         40.568973   \n",
       "25%          -73.992501        40.736125         -73.991247         40.735254   \n",
       "50%          -73.982326        40.753051         -73.980015         40.754065   \n",
       "75%          -73.968013        40.767113         -73.964059         40.768757   \n",
       "max          -72.986532        41.709555         -72.990963         41.696683   \n",
       "\n",
       "       passenger_count  \n",
       "count      9914.000000  \n",
       "mean          1.671273  \n",
       "std           1.278747  \n",
       "min           1.000000  \n",
       "25%           1.000000  \n",
       "50%           1.000000  \n",
       "75%           2.000000  \n",
       "max           6.000000  "
      ]
     },
     "execution_count": 82,
     "metadata": {},
     "output_type": "execute_result"
    }
   ],
   "source": [
    "test.describe()"
   ]
  },
  {
   "cell_type": "code",
   "execution_count": 83,
   "id": "60d98b44-1cb8-4d57-a679-4d17d38a33f3",
   "metadata": {},
   "outputs": [],
   "source": [
    "# Converting the fare amount from oject to numneric\n",
    "train[\"fare_amount\"] = pd.to_numeric(train[\"fare_amount\"],errors = \"coerce\")"
   ]
  },
  {
   "cell_type": "code",
   "execution_count": 84,
   "id": "42b8af35-a833-4881-9bea-e50e97ded2ff",
   "metadata": {},
   "outputs": [
    {
     "data": {
      "text/plain": [
       "fare_amount          float64\n",
       "pickup_datetime       object\n",
       "pickup_longitude     float64\n",
       "pickup_latitude      float64\n",
       "dropoff_longitude    float64\n",
       "dropoff_latitude     float64\n",
       "passenger_count      float64\n",
       "dtype: object"
      ]
     },
     "execution_count": 84,
     "metadata": {},
     "output_type": "execute_result"
    }
   ],
   "source": [
    "train.dtypes"
   ]
  },
  {
   "cell_type": "code",
   "execution_count": 85,
   "id": "aa145a4f-fd8d-4519-9fb1-da8a3008cca2",
   "metadata": {},
   "outputs": [
    {
     "data": {
      "text/html": [
       "<div>\n",
       "<style scoped>\n",
       "    .dataframe tbody tr th:only-of-type {\n",
       "        vertical-align: middle;\n",
       "    }\n",
       "\n",
       "    .dataframe tbody tr th {\n",
       "        vertical-align: top;\n",
       "    }\n",
       "\n",
       "    .dataframe thead th {\n",
       "        text-align: right;\n",
       "    }\n",
       "</style>\n",
       "<table border=\"1\" class=\"dataframe\">\n",
       "  <thead>\n",
       "    <tr style=\"text-align: right;\">\n",
       "      <th></th>\n",
       "      <th>fare_amount</th>\n",
       "      <th>pickup_datetime</th>\n",
       "      <th>pickup_longitude</th>\n",
       "      <th>pickup_latitude</th>\n",
       "      <th>dropoff_longitude</th>\n",
       "      <th>dropoff_latitude</th>\n",
       "      <th>passenger_count</th>\n",
       "    </tr>\n",
       "  </thead>\n",
       "  <tbody>\n",
       "    <tr>\n",
       "      <th>0</th>\n",
       "      <td>4.5</td>\n",
       "      <td>2009-06-15 17:26:21 UTC</td>\n",
       "      <td>-73.844311</td>\n",
       "      <td>40.721319</td>\n",
       "      <td>-73.841610</td>\n",
       "      <td>40.712278</td>\n",
       "      <td>1.0</td>\n",
       "    </tr>\n",
       "    <tr>\n",
       "      <th>1</th>\n",
       "      <td>16.9</td>\n",
       "      <td>2010-01-05 16:52:16 UTC</td>\n",
       "      <td>-74.016048</td>\n",
       "      <td>40.711303</td>\n",
       "      <td>-73.979268</td>\n",
       "      <td>40.782004</td>\n",
       "      <td>1.0</td>\n",
       "    </tr>\n",
       "    <tr>\n",
       "      <th>2</th>\n",
       "      <td>5.7</td>\n",
       "      <td>2011-08-18 00:35:00 UTC</td>\n",
       "      <td>-73.982738</td>\n",
       "      <td>40.761270</td>\n",
       "      <td>-73.991242</td>\n",
       "      <td>40.750562</td>\n",
       "      <td>2.0</td>\n",
       "    </tr>\n",
       "    <tr>\n",
       "      <th>3</th>\n",
       "      <td>7.7</td>\n",
       "      <td>2012-04-21 04:30:42 UTC</td>\n",
       "      <td>-73.987130</td>\n",
       "      <td>40.733143</td>\n",
       "      <td>-73.991567</td>\n",
       "      <td>40.758092</td>\n",
       "      <td>1.0</td>\n",
       "    </tr>\n",
       "    <tr>\n",
       "      <th>4</th>\n",
       "      <td>5.3</td>\n",
       "      <td>2010-03-09 07:51:00 UTC</td>\n",
       "      <td>-73.968095</td>\n",
       "      <td>40.768008</td>\n",
       "      <td>-73.956655</td>\n",
       "      <td>40.783762</td>\n",
       "      <td>1.0</td>\n",
       "    </tr>\n",
       "    <tr>\n",
       "      <th>...</th>\n",
       "      <td>...</td>\n",
       "      <td>...</td>\n",
       "      <td>...</td>\n",
       "      <td>...</td>\n",
       "      <td>...</td>\n",
       "      <td>...</td>\n",
       "      <td>...</td>\n",
       "    </tr>\n",
       "    <tr>\n",
       "      <th>16062</th>\n",
       "      <td>6.5</td>\n",
       "      <td>2014-12-12 07:41:00 UTC</td>\n",
       "      <td>-74.008820</td>\n",
       "      <td>40.718757</td>\n",
       "      <td>-73.998865</td>\n",
       "      <td>40.719987</td>\n",
       "      <td>1.0</td>\n",
       "    </tr>\n",
       "    <tr>\n",
       "      <th>16063</th>\n",
       "      <td>16.1</td>\n",
       "      <td>2009-07-13 07:58:00 UTC</td>\n",
       "      <td>-73.981310</td>\n",
       "      <td>40.781695</td>\n",
       "      <td>-74.014392</td>\n",
       "      <td>40.715527</td>\n",
       "      <td>2.0</td>\n",
       "    </tr>\n",
       "    <tr>\n",
       "      <th>16064</th>\n",
       "      <td>8.5</td>\n",
       "      <td>2009-11-11 11:19:07 UTC</td>\n",
       "      <td>-73.972507</td>\n",
       "      <td>40.753417</td>\n",
       "      <td>-73.979577</td>\n",
       "      <td>40.765495</td>\n",
       "      <td>1.0</td>\n",
       "    </tr>\n",
       "    <tr>\n",
       "      <th>16065</th>\n",
       "      <td>8.1</td>\n",
       "      <td>2010-05-11 23:53:00 UTC</td>\n",
       "      <td>-73.957027</td>\n",
       "      <td>40.765945</td>\n",
       "      <td>-73.981983</td>\n",
       "      <td>40.779560</td>\n",
       "      <td>1.0</td>\n",
       "    </tr>\n",
       "    <tr>\n",
       "      <th>16066</th>\n",
       "      <td>8.5</td>\n",
       "      <td>2011-12-14 06:24:33 UTC</td>\n",
       "      <td>-74.002111</td>\n",
       "      <td>40.729755</td>\n",
       "      <td>-73.983877</td>\n",
       "      <td>40.761975</td>\n",
       "      <td>NaN</td>\n",
       "    </tr>\n",
       "  </tbody>\n",
       "</table>\n",
       "<p>16067 rows × 7 columns</p>\n",
       "</div>"
      ],
      "text/plain": [
       "       fare_amount          pickup_datetime  pickup_longitude  \\\n",
       "0              4.5  2009-06-15 17:26:21 UTC        -73.844311   \n",
       "1             16.9  2010-01-05 16:52:16 UTC        -74.016048   \n",
       "2              5.7  2011-08-18 00:35:00 UTC        -73.982738   \n",
       "3              7.7  2012-04-21 04:30:42 UTC        -73.987130   \n",
       "4              5.3  2010-03-09 07:51:00 UTC        -73.968095   \n",
       "...            ...                      ...               ...   \n",
       "16062          6.5  2014-12-12 07:41:00 UTC        -74.008820   \n",
       "16063         16.1  2009-07-13 07:58:00 UTC        -73.981310   \n",
       "16064          8.5  2009-11-11 11:19:07 UTC        -73.972507   \n",
       "16065          8.1  2010-05-11 23:53:00 UTC        -73.957027   \n",
       "16066          8.5  2011-12-14 06:24:33 UTC        -74.002111   \n",
       "\n",
       "       pickup_latitude  dropoff_longitude  dropoff_latitude  passenger_count  \n",
       "0            40.721319         -73.841610         40.712278              1.0  \n",
       "1            40.711303         -73.979268         40.782004              1.0  \n",
       "2            40.761270         -73.991242         40.750562              2.0  \n",
       "3            40.733143         -73.991567         40.758092              1.0  \n",
       "4            40.768008         -73.956655         40.783762              1.0  \n",
       "...                ...                ...               ...              ...  \n",
       "16062        40.718757         -73.998865         40.719987              1.0  \n",
       "16063        40.781695         -74.014392         40.715527              2.0  \n",
       "16064        40.753417         -73.979577         40.765495              1.0  \n",
       "16065        40.765945         -73.981983         40.779560              1.0  \n",
       "16066        40.729755         -73.983877         40.761975              NaN  \n",
       "\n",
       "[16067 rows x 7 columns]"
      ]
     },
     "execution_count": 85,
     "metadata": {},
     "output_type": "execute_result"
    }
   ],
   "source": [
    "# Droping NA values\n",
    "train.dropna(subset = [\"pickup_datetime\"])"
   ]
  },
  {
   "cell_type": "code",
   "execution_count": 86,
   "id": "6ae47a58-38bd-4b9c-a59e-dad24d1ced5f",
   "metadata": {},
   "outputs": [],
   "source": [
    "# Converting pickup_datetime from object to datetime\n",
    "train[\"pickup_datetime\"] = pd.to_datetime(train[\"pickup_datetime\"], format='%Y-%m-%d %H:%M:%S UTC', errors='coerce')"
   ]
  },
  {
   "cell_type": "code",
   "execution_count": 87,
   "id": "f0138b3f-5494-4c25-9d55-fc27eb741256",
   "metadata": {},
   "outputs": [],
   "source": [
    "#  we will be seperating the pickup_datetime function into year, month, day etc\n",
    "train['Year'] = train['pickup_datetime'].dt.year\n",
    "train['Month'] = train['pickup_datetime'].dt.month\n",
    "train['Date'] = train['pickup_datetime'].dt.day\n",
    "train['Day'] = train['pickup_datetime'].dt.dayofweek\n",
    "train['Hour'] = train['pickup_datetime'].dt.hour\n",
    "train['Minute'] = train['pickup_datetime'].dt.minute"
   ]
  },
  {
   "cell_type": "code",
   "execution_count": 88,
   "id": "1a01a677-7fdb-4fc4-9268-79e3e23aaa3c",
   "metadata": {},
   "outputs": [
    {
     "data": {
      "text/plain": [
       "fare_amount                 float64\n",
       "pickup_datetime      datetime64[ns]\n",
       "pickup_longitude            float64\n",
       "pickup_latitude             float64\n",
       "dropoff_longitude           float64\n",
       "dropoff_latitude            float64\n",
       "passenger_count             float64\n",
       "Year                        float64\n",
       "Month                       float64\n",
       "Date                        float64\n",
       "Day                         float64\n",
       "Hour                        float64\n",
       "Minute                      float64\n",
       "dtype: object"
      ]
     },
     "execution_count": 88,
     "metadata": {},
     "output_type": "execute_result"
    }
   ],
   "source": [
    "train.dtypes"
   ]
  },
  {
   "cell_type": "code",
   "execution_count": 89,
   "id": "2c78c690-fafe-4cb9-97b6-18262efac934",
   "metadata": {},
   "outputs": [],
   "source": [
    "# Converting pickup_datetime from object to datetime\n",
    "test[\"pickup_datetime\"] = pd.to_datetime(test[\"pickup_datetime\"], format='%Y-%m-%d %H:%M:%S UTC', errors='coerce')"
   ]
  },
  {
   "cell_type": "code",
   "execution_count": 90,
   "id": "bc0c8257-e868-42dc-977d-cae09989a9de",
   "metadata": {},
   "outputs": [],
   "source": [
    "#  we will be seperating the pickup_datetime function into year, month, day etc\n",
    "test['Year'] = test['pickup_datetime'].dt.year\n",
    "test['Month'] = test['pickup_datetime'].dt.month\n",
    "test['Date'] = test['pickup_datetime'].dt.day\n",
    "test['Day'] = test['pickup_datetime'].dt.dayofweek\n",
    "test['Hour'] = test['pickup_datetime'].dt.hour\n",
    "test['Minute'] = test['pickup_datetime'].dt.minute"
   ]
  },
  {
   "cell_type": "code",
   "execution_count": 91,
   "id": "e8bd9b5a-d0e9-414a-8b4c-faf7f8c46399",
   "metadata": {},
   "outputs": [
    {
     "data": {
      "text/plain": [
       "pickup_datetime      datetime64[ns]\n",
       "pickup_longitude            float64\n",
       "pickup_latitude             float64\n",
       "dropoff_longitude           float64\n",
       "dropoff_latitude            float64\n",
       "passenger_count               int64\n",
       "Year                          int32\n",
       "Month                         int32\n",
       "Date                          int32\n",
       "Day                           int32\n",
       "Hour                          int32\n",
       "Minute                        int32\n",
       "dtype: object"
      ]
     },
     "execution_count": 91,
     "metadata": {},
     "output_type": "execute_result"
    }
   ],
   "source": [
    "test.dtypes"
   ]
  },
  {
   "cell_type": "code",
   "execution_count": 92,
   "id": "7d7a3d5f-e0dc-41ca-83ec-41297eba46c2",
   "metadata": {},
   "outputs": [
    {
     "name": "stdout",
     "output_type": "stream",
     "text": [
      "(16066, 13)\n",
      "0\n"
     ]
    }
   ],
   "source": [
    "train = train.drop(train[train['pickup_datetime'].isnull()].index, axis = 0)\n",
    "print(train.shape)\n",
    "print(train['pickup_datetime'].isnull().sum())"
   ]
  },
  {
   "cell_type": "code",
   "execution_count": 93,
   "id": "234f4cc1-e482-4dea-a3e4-2b6c5a394df9",
   "metadata": {},
   "outputs": [
    {
     "data": {
      "text/plain": [
       "count    16011.000000\n",
       "mean         2.625171\n",
       "std         60.846021\n",
       "min          0.000000\n",
       "25%          1.000000\n",
       "50%          1.000000\n",
       "75%          2.000000\n",
       "max       5345.000000\n",
       "Name: passenger_count, dtype: float64"
      ]
     },
     "execution_count": 93,
     "metadata": {},
     "output_type": "execute_result"
    }
   ],
   "source": [
    "train['passenger_count'].describe()"
   ]
  },
  {
   "cell_type": "code",
   "execution_count": 94,
   "id": "ad2b60a8-91c9-4f81-812a-0aa57d615b9e",
   "metadata": {},
   "outputs": [],
   "source": [
    "# the passenger count of 5345 is not possible because the number of maximum passengers that can be in SUV is 6"
   ]
  },
  {
   "cell_type": "code",
   "execution_count": 95,
   "id": "b56dccdf-812e-4225-9c70-ca0cb33430eb",
   "metadata": {},
   "outputs": [],
   "source": [
    "train = train.drop(train[train['passenger_count'] > 6].index, axis = 0)"
   ]
  },
  {
   "cell_type": "code",
   "execution_count": 96,
   "id": "8564049a-5512-475b-abf4-35ebd4b4a565",
   "metadata": {},
   "outputs": [
    {
     "data": {
      "text/plain": [
       "count    15991.000000\n",
       "mean         1.643701\n",
       "std          1.267504\n",
       "min          0.000000\n",
       "25%          1.000000\n",
       "50%          1.000000\n",
       "75%          2.000000\n",
       "max          6.000000\n",
       "Name: passenger_count, dtype: float64"
      ]
     },
     "execution_count": 96,
     "metadata": {},
     "output_type": "execute_result"
    }
   ],
   "source": [
    "train['passenger_count'].describe()"
   ]
  },
  {
   "cell_type": "code",
   "execution_count": 97,
   "id": "04b35a12-9b2e-4d2f-a80d-3424ee24cf29",
   "metadata": {},
   "outputs": [],
   "source": [
    "train = train.drop(train[train['passenger_count'] == 0].index, axis = 0)"
   ]
  },
  {
   "cell_type": "code",
   "execution_count": 98,
   "id": "952ceb1b-cde4-4e7c-80c0-0a49a0f9182b",
   "metadata": {},
   "outputs": [
    {
     "data": {
      "text/plain": [
       "count    15934.000000\n",
       "mean         1.649581\n",
       "std          1.265943\n",
       "min          0.120000\n",
       "25%          1.000000\n",
       "50%          1.000000\n",
       "75%          2.000000\n",
       "max          6.000000\n",
       "Name: passenger_count, dtype: float64"
      ]
     },
     "execution_count": 98,
     "metadata": {},
     "output_type": "execute_result"
    }
   ],
   "source": [
    "train['passenger_count'].describe()"
   ]
  },
  {
   "cell_type": "code",
   "execution_count": 99,
   "id": "92b3acdc-531d-47e8-9dfb-ab4c407a62b4",
   "metadata": {},
   "outputs": [
    {
     "data": {
      "text/plain": [
       "8862     0.12\n",
       "16048    1.00\n",
       "22       1.00\n",
       "21       1.00\n",
       "20       1.00\n",
       "         ... \n",
       "8076      NaN\n",
       "8139      NaN\n",
       "8259      NaN\n",
       "8306      NaN\n",
       "16066     NaN\n",
       "Name: passenger_count, Length: 15989, dtype: float64"
      ]
     },
     "execution_count": 99,
     "metadata": {},
     "output_type": "execute_result"
    }
   ],
   "source": [
    "train[\"passenger_count\"].sort_values(ascending = True)"
   ]
  },
  {
   "cell_type": "code",
   "execution_count": 100,
   "id": "59c84575-0d52-41c6-925f-325e638499bc",
   "metadata": {},
   "outputs": [
    {
     "name": "stdout",
     "output_type": "stream",
     "text": [
      "(15934, 13)\n",
      "0\n"
     ]
    }
   ],
   "source": [
    "#  removing passenger_count missing values rows\n",
    "train = train.drop(train[train['passenger_count'].isnull()].index, axis = 0)\n",
    "print(train.shape)\n",
    "print(train['passenger_count'].isnull().sum())"
   ]
  },
  {
   "cell_type": "code",
   "execution_count": 101,
   "id": "fb13a3ab-623a-4dab-8db7-ae7231143ea9",
   "metadata": {},
   "outputs": [],
   "source": [
    "# there is one value of 0.12 present in the passenger_count which is not possible hence we will be removing it also"
   ]
  },
  {
   "cell_type": "code",
   "execution_count": 102,
   "id": "b89429ff-16bc-4fb2-9459-b59bcd117a6e",
   "metadata": {},
   "outputs": [],
   "source": [
    "train = train.drop(train[train['passenger_count'] == 0.12].index, axis = 0)"
   ]
  },
  {
   "cell_type": "code",
   "execution_count": 103,
   "id": "a9b8deaf-d38b-456b-bdf1-56ac4a89b213",
   "metadata": {},
   "outputs": [
    {
     "data": {
      "text/plain": [
       "(15933, 13)"
      ]
     },
     "execution_count": 103,
     "metadata": {},
     "output_type": "execute_result"
    }
   ],
   "source": [
    "train.shape"
   ]
  },
  {
   "cell_type": "code",
   "execution_count": 104,
   "id": "74b66d20-6ba1-4baf-912c-fa7e61598724",
   "metadata": {},
   "outputs": [],
   "source": [
    "# sort the fare_amount inton descending order to find if there is any outlier are present or not"
   ]
  },
  {
   "cell_type": "code",
   "execution_count": 105,
   "id": "8bf855d8-6a2b-49d5-a2cc-9209efb6a0ae",
   "metadata": {},
   "outputs": [
    {
     "data": {
      "text/plain": [
       "1015    54343.0\n",
       "1072     4343.0\n",
       "607       453.0\n",
       "980       434.0\n",
       "1335      180.0\n",
       "         ...   \n",
       "1712        NaN\n",
       "2412        NaN\n",
       "2458        NaN\n",
       "8178        NaN\n",
       "8226        NaN\n",
       "Name: fare_amount, Length: 15933, dtype: float64"
      ]
     },
     "execution_count": 105,
     "metadata": {},
     "output_type": "execute_result"
    }
   ],
   "source": [
    "train['fare_amount'].sort_values(ascending = False)"
   ]
  },
  {
   "cell_type": "code",
   "execution_count": 106,
   "id": "36620200-7d2c-43b4-ba6d-6745ee674c96",
   "metadata": {},
   "outputs": [
    {
     "data": {
      "text/plain": [
       "Counter({False: 15930, True: 3})"
      ]
     },
     "execution_count": 106,
     "metadata": {},
     "output_type": "execute_result"
    }
   ],
   "source": [
    "# count the number of rows where fare amount is less than 0\n",
    "Counter(train['fare_amount'] < 0)"
   ]
  },
  {
   "cell_type": "code",
   "execution_count": 107,
   "id": "65d4ebbc-9222-4e08-9e87-a52a6183a85e",
   "metadata": {},
   "outputs": [],
   "source": [
    "# remove the negative values in the fare_amount column\n",
    "train = train.drop(train[train['fare_amount'] < 0].index, axis = 0)"
   ]
  },
  {
   "cell_type": "code",
   "execution_count": 108,
   "id": "df1f2213-3ccd-4000-8bff-3aca72a63a63",
   "metadata": {},
   "outputs": [
    {
     "data": {
      "text/plain": [
       "(15930, 13)"
      ]
     },
     "execution_count": 108,
     "metadata": {},
     "output_type": "execute_result"
    }
   ],
   "source": [
    "train.shape"
   ]
  },
  {
   "cell_type": "code",
   "execution_count": 109,
   "id": "5c13881b-cc9c-42bc-9cc2-b3f7c63e118f",
   "metadata": {},
   "outputs": [
    {
     "data": {
      "text/plain": [
       "np.float64(0.0)"
      ]
     },
     "execution_count": 109,
     "metadata": {},
     "output_type": "execute_result"
    }
   ],
   "source": [
    "train['fare_amount'].min()"
   ]
  },
  {
   "cell_type": "code",
   "execution_count": 110,
   "id": "212ddc76-6514-4f2e-adb3-c0e77b9782e1",
   "metadata": {},
   "outputs": [
    {
     "data": {
      "text/plain": [
       "(15928, 13)"
      ]
     },
     "execution_count": 110,
     "metadata": {},
     "output_type": "execute_result"
    }
   ],
   "source": [
    "# removing all the value of tyhe fare_amount closer to 0\n",
    "train = train.drop(train[train['fare_amount'] < 1].index, axis = 0)\n",
    "train.shape"
   ]
  },
  {
   "cell_type": "code",
   "execution_count": 111,
   "id": "25b36af7-cdb6-4a43-91e3-81317f20ef10",
   "metadata": {},
   "outputs": [
    {
     "data": {
      "text/plain": [
       "(15926, 13)"
      ]
     },
     "execution_count": 111,
     "metadata": {},
     "output_type": "execute_result"
    }
   ],
   "source": [
    "# removing the outliers in the fare_amount especially the top 3 values which have a huge difference\n",
    "train = train.drop(train[train['fare_amount'] > 454].index, axis = 0)\n",
    "train.shape"
   ]
  },
  {
   "cell_type": "code",
   "execution_count": 112,
   "id": "82e6addf-6e4e-4d8b-af8b-67b92b216d50",
   "metadata": {},
   "outputs": [
    {
     "name": "stdout",
     "output_type": "stream",
     "text": [
      "(15902, 13)\n",
      "0\n"
     ]
    }
   ],
   "source": [
    "# removing the missing values rows in the fare_amount \n",
    "train = train.drop(train[train['fare_amount'].isnull()].index, axis = 0)\n",
    "print(train.shape)\n",
    "print(train['fare_amount'].isnull().sum())"
   ]
  },
  {
   "cell_type": "code",
   "execution_count": 113,
   "id": "9d86253a-f304-478f-9404-19afa5691eb0",
   "metadata": {},
   "outputs": [
    {
     "data": {
      "text/plain": [
       "607     453.00\n",
       "980     434.00\n",
       "1335    180.00\n",
       "1483    165.00\n",
       "6630    128.83\n",
       "         ...  \n",
       "4367      2.50\n",
       "6297      2.50\n",
       "3558      2.50\n",
       "6226      2.50\n",
       "1427      1.14\n",
       "Name: fare_amount, Length: 15902, dtype: float64"
      ]
     },
     "execution_count": 113,
     "metadata": {},
     "output_type": "execute_result"
    }
   ],
   "source": [
    "train['fare_amount'].sort_values(ascending = False)"
   ]
  },
  {
   "cell_type": "code",
   "execution_count": 114,
   "id": "86ce3573-3128-4cca-8cf0-69eb85ad94f3",
   "metadata": {},
   "outputs": [
    {
     "data": {
      "text/plain": [
       "count    15902.000000\n",
       "mean        11.376356\n",
       "std         10.814908\n",
       "min          1.140000\n",
       "25%          6.000000\n",
       "50%          8.500000\n",
       "75%         12.500000\n",
       "max        453.000000\n",
       "Name: fare_amount, dtype: float64"
      ]
     },
     "execution_count": 114,
     "metadata": {},
     "output_type": "execute_result"
    }
   ],
   "source": [
    "train['fare_amount'].describe()"
   ]
  },
  {
   "cell_type": "code",
   "execution_count": 115,
   "id": "39a51561-d04b-4b0a-a8be-d4f63a72eab7",
   "metadata": {},
   "outputs": [
    {
     "data": {
      "text/html": [
       "<div>\n",
       "<style scoped>\n",
       "    .dataframe tbody tr th:only-of-type {\n",
       "        vertical-align: middle;\n",
       "    }\n",
       "\n",
       "    .dataframe tbody tr th {\n",
       "        vertical-align: top;\n",
       "    }\n",
       "\n",
       "    .dataframe thead th {\n",
       "        text-align: right;\n",
       "    }\n",
       "</style>\n",
       "<table border=\"1\" class=\"dataframe\">\n",
       "  <thead>\n",
       "    <tr style=\"text-align: right;\">\n",
       "      <th></th>\n",
       "      <th>fare_amount</th>\n",
       "      <th>pickup_datetime</th>\n",
       "      <th>pickup_longitude</th>\n",
       "      <th>pickup_latitude</th>\n",
       "      <th>dropoff_longitude</th>\n",
       "      <th>dropoff_latitude</th>\n",
       "      <th>passenger_count</th>\n",
       "      <th>Year</th>\n",
       "      <th>Month</th>\n",
       "      <th>Date</th>\n",
       "      <th>Day</th>\n",
       "      <th>Hour</th>\n",
       "      <th>Minute</th>\n",
       "    </tr>\n",
       "  </thead>\n",
       "  <tbody>\n",
       "  </tbody>\n",
       "</table>\n",
       "</div>"
      ],
      "text/plain": [
       "Empty DataFrame\n",
       "Columns: [fare_amount, pickup_datetime, pickup_longitude, pickup_latitude, dropoff_longitude, dropoff_latitude, passenger_count, Year, Month, Date, Day, Hour, Minute]\n",
       "Index: []"
      ]
     },
     "execution_count": 115,
     "metadata": {},
     "output_type": "execute_result"
    }
   ],
   "source": [
    "# latitude can range from -90 to 90\n",
    "# longitude can range from -180 to 180\n",
    "# we need to drop all the latitude values less than -90\n",
    "train[train[\"pickup_latitude\"] < -90]"
   ]
  },
  {
   "cell_type": "code",
   "execution_count": 116,
   "id": "2756a1ff-532d-43b5-acf4-c3f99bcb1683",
   "metadata": {},
   "outputs": [
    {
     "data": {
      "text/html": [
       "<div>\n",
       "<style scoped>\n",
       "    .dataframe tbody tr th:only-of-type {\n",
       "        vertical-align: middle;\n",
       "    }\n",
       "\n",
       "    .dataframe tbody tr th {\n",
       "        vertical-align: top;\n",
       "    }\n",
       "\n",
       "    .dataframe thead th {\n",
       "        text-align: right;\n",
       "    }\n",
       "</style>\n",
       "<table border=\"1\" class=\"dataframe\">\n",
       "  <thead>\n",
       "    <tr style=\"text-align: right;\">\n",
       "      <th></th>\n",
       "      <th>fare_amount</th>\n",
       "      <th>pickup_datetime</th>\n",
       "      <th>pickup_longitude</th>\n",
       "      <th>pickup_latitude</th>\n",
       "      <th>dropoff_longitude</th>\n",
       "      <th>dropoff_latitude</th>\n",
       "      <th>passenger_count</th>\n",
       "      <th>Year</th>\n",
       "      <th>Month</th>\n",
       "      <th>Date</th>\n",
       "      <th>Day</th>\n",
       "      <th>Hour</th>\n",
       "      <th>Minute</th>\n",
       "    </tr>\n",
       "  </thead>\n",
       "  <tbody>\n",
       "    <tr>\n",
       "      <th>5686</th>\n",
       "      <td>3.3</td>\n",
       "      <td>2011-07-30 11:15:00</td>\n",
       "      <td>-73.947235</td>\n",
       "      <td>401.083332</td>\n",
       "      <td>-73.951392</td>\n",
       "      <td>40.778927</td>\n",
       "      <td>1.0</td>\n",
       "      <td>2011.0</td>\n",
       "      <td>7.0</td>\n",
       "      <td>30.0</td>\n",
       "      <td>5.0</td>\n",
       "      <td>11.0</td>\n",
       "      <td>15.0</td>\n",
       "    </tr>\n",
       "  </tbody>\n",
       "</table>\n",
       "</div>"
      ],
      "text/plain": [
       "      fare_amount     pickup_datetime  pickup_longitude  pickup_latitude  \\\n",
       "5686          3.3 2011-07-30 11:15:00        -73.947235       401.083332   \n",
       "\n",
       "      dropoff_longitude  dropoff_latitude  passenger_count    Year  Month  \\\n",
       "5686         -73.951392         40.778927              1.0  2011.0    7.0   \n",
       "\n",
       "      Date  Day  Hour  Minute  \n",
       "5686  30.0  5.0  11.0    15.0  "
      ]
     },
     "execution_count": 116,
     "metadata": {},
     "output_type": "execute_result"
    }
   ],
   "source": [
    "train[train[\"pickup_latitude\"] > 90]"
   ]
  },
  {
   "cell_type": "code",
   "execution_count": 117,
   "id": "ebd9a43f-9cfa-461d-8df5-7e5bbe41819e",
   "metadata": {},
   "outputs": [
    {
     "name": "stdout",
     "output_type": "stream",
     "text": [
      "(15901, 13)\n"
     ]
    }
   ],
   "source": [
    "# removing the outliers who are not in range\n",
    "train = train.drop(train[train['pickup_latitude'] < -90 ].index, axis = 0)\n",
    "train = train.drop(train[train['pickup_latitude'] > 90 ].index, axis = 0)\n",
    "print(train.shape)"
   ]
  },
  {
   "cell_type": "code",
   "execution_count": 120,
   "id": "699f62e1-a4a6-4468-9413-d07b072c380c",
   "metadata": {},
   "outputs": [
    {
     "data": {
      "text/html": [
       "<div>\n",
       "<style scoped>\n",
       "    .dataframe tbody tr th:only-of-type {\n",
       "        vertical-align: middle;\n",
       "    }\n",
       "\n",
       "    .dataframe tbody tr th {\n",
       "        vertical-align: top;\n",
       "    }\n",
       "\n",
       "    .dataframe thead th {\n",
       "        text-align: right;\n",
       "    }\n",
       "</style>\n",
       "<table border=\"1\" class=\"dataframe\">\n",
       "  <thead>\n",
       "    <tr style=\"text-align: right;\">\n",
       "      <th></th>\n",
       "      <th>fare_amount</th>\n",
       "      <th>pickup_datetime</th>\n",
       "      <th>pickup_longitude</th>\n",
       "      <th>pickup_latitude</th>\n",
       "      <th>dropoff_longitude</th>\n",
       "      <th>dropoff_latitude</th>\n",
       "      <th>passenger_count</th>\n",
       "      <th>Year</th>\n",
       "      <th>Month</th>\n",
       "      <th>Date</th>\n",
       "      <th>Day</th>\n",
       "      <th>Hour</th>\n",
       "      <th>Minute</th>\n",
       "    </tr>\n",
       "  </thead>\n",
       "  <tbody>\n",
       "  </tbody>\n",
       "</table>\n",
       "</div>"
      ],
      "text/plain": [
       "Empty DataFrame\n",
       "Columns: [fare_amount, pickup_datetime, pickup_longitude, pickup_latitude, dropoff_longitude, dropoff_latitude, passenger_count, Year, Month, Date, Day, Hour, Minute]\n",
       "Index: []"
      ]
     },
     "execution_count": 120,
     "metadata": {},
     "output_type": "execute_result"
    }
   ],
   "source": [
    "# checking the pickup_longitude range for less than -180\n",
    "train[train[\"pickup_longitude\"] < -180]\n"
   ]
  },
  {
   "cell_type": "code",
   "execution_count": 121,
   "id": "a58a7136-e4ad-4533-9c88-75282f365706",
   "metadata": {},
   "outputs": [
    {
     "data": {
      "text/html": [
       "<div>\n",
       "<style scoped>\n",
       "    .dataframe tbody tr th:only-of-type {\n",
       "        vertical-align: middle;\n",
       "    }\n",
       "\n",
       "    .dataframe tbody tr th {\n",
       "        vertical-align: top;\n",
       "    }\n",
       "\n",
       "    .dataframe thead th {\n",
       "        text-align: right;\n",
       "    }\n",
       "</style>\n",
       "<table border=\"1\" class=\"dataframe\">\n",
       "  <thead>\n",
       "    <tr style=\"text-align: right;\">\n",
       "      <th></th>\n",
       "      <th>fare_amount</th>\n",
       "      <th>pickup_datetime</th>\n",
       "      <th>pickup_longitude</th>\n",
       "      <th>pickup_latitude</th>\n",
       "      <th>dropoff_longitude</th>\n",
       "      <th>dropoff_latitude</th>\n",
       "      <th>passenger_count</th>\n",
       "      <th>Year</th>\n",
       "      <th>Month</th>\n",
       "      <th>Date</th>\n",
       "      <th>Day</th>\n",
       "      <th>Hour</th>\n",
       "      <th>Minute</th>\n",
       "    </tr>\n",
       "  </thead>\n",
       "  <tbody>\n",
       "  </tbody>\n",
       "</table>\n",
       "</div>"
      ],
      "text/plain": [
       "Empty DataFrame\n",
       "Columns: [fare_amount, pickup_datetime, pickup_longitude, pickup_latitude, dropoff_longitude, dropoff_latitude, passenger_count, Year, Month, Date, Day, Hour, Minute]\n",
       "Index: []"
      ]
     },
     "execution_count": 121,
     "metadata": {},
     "output_type": "execute_result"
    }
   ],
   "source": [
    "train[train[\"pickup_longitude\"] > 180]"
   ]
  },
  {
   "cell_type": "code",
   "execution_count": 122,
   "id": "9f78e0c6-bad0-4b13-a7c3-eb80d6beea10",
   "metadata": {},
   "outputs": [
    {
     "data": {
      "text/html": [
       "<div>\n",
       "<style scoped>\n",
       "    .dataframe tbody tr th:only-of-type {\n",
       "        vertical-align: middle;\n",
       "    }\n",
       "\n",
       "    .dataframe tbody tr th {\n",
       "        vertical-align: top;\n",
       "    }\n",
       "\n",
       "    .dataframe thead th {\n",
       "        text-align: right;\n",
       "    }\n",
       "</style>\n",
       "<table border=\"1\" class=\"dataframe\">\n",
       "  <thead>\n",
       "    <tr style=\"text-align: right;\">\n",
       "      <th></th>\n",
       "      <th>fare_amount</th>\n",
       "      <th>pickup_datetime</th>\n",
       "      <th>pickup_longitude</th>\n",
       "      <th>pickup_latitude</th>\n",
       "      <th>dropoff_longitude</th>\n",
       "      <th>dropoff_latitude</th>\n",
       "      <th>passenger_count</th>\n",
       "      <th>Year</th>\n",
       "      <th>Month</th>\n",
       "      <th>Date</th>\n",
       "      <th>Day</th>\n",
       "      <th>Hour</th>\n",
       "      <th>Minute</th>\n",
       "    </tr>\n",
       "  </thead>\n",
       "  <tbody>\n",
       "  </tbody>\n",
       "</table>\n",
       "</div>"
      ],
      "text/plain": [
       "Empty DataFrame\n",
       "Columns: [fare_amount, pickup_datetime, pickup_longitude, pickup_latitude, dropoff_longitude, dropoff_latitude, passenger_count, Year, Month, Date, Day, Hour, Minute]\n",
       "Index: []"
      ]
     },
     "execution_count": 122,
     "metadata": {},
     "output_type": "execute_result"
    }
   ],
   "source": [
    "#  checking now for the dropoff latitude and longitude\n",
    "train[train[\"dropoff_latitude\"] < -90]"
   ]
  },
  {
   "cell_type": "code",
   "execution_count": 123,
   "id": "f6a1f628-be01-4d0d-b745-1292c36d05fb",
   "metadata": {},
   "outputs": [
    {
     "data": {
      "text/html": [
       "<div>\n",
       "<style scoped>\n",
       "    .dataframe tbody tr th:only-of-type {\n",
       "        vertical-align: middle;\n",
       "    }\n",
       "\n",
       "    .dataframe tbody tr th {\n",
       "        vertical-align: top;\n",
       "    }\n",
       "\n",
       "    .dataframe thead th {\n",
       "        text-align: right;\n",
       "    }\n",
       "</style>\n",
       "<table border=\"1\" class=\"dataframe\">\n",
       "  <thead>\n",
       "    <tr style=\"text-align: right;\">\n",
       "      <th></th>\n",
       "      <th>fare_amount</th>\n",
       "      <th>pickup_datetime</th>\n",
       "      <th>pickup_longitude</th>\n",
       "      <th>pickup_latitude</th>\n",
       "      <th>dropoff_longitude</th>\n",
       "      <th>dropoff_latitude</th>\n",
       "      <th>passenger_count</th>\n",
       "      <th>Year</th>\n",
       "      <th>Month</th>\n",
       "      <th>Date</th>\n",
       "      <th>Day</th>\n",
       "      <th>Hour</th>\n",
       "      <th>Minute</th>\n",
       "    </tr>\n",
       "  </thead>\n",
       "  <tbody>\n",
       "  </tbody>\n",
       "</table>\n",
       "</div>"
      ],
      "text/plain": [
       "Empty DataFrame\n",
       "Columns: [fare_amount, pickup_datetime, pickup_longitude, pickup_latitude, dropoff_longitude, dropoff_latitude, passenger_count, Year, Month, Date, Day, Hour, Minute]\n",
       "Index: []"
      ]
     },
     "execution_count": 123,
     "metadata": {},
     "output_type": "execute_result"
    }
   ],
   "source": [
    "train[train[\"dropoff_latitude\"] > 90]"
   ]
  },
  {
   "cell_type": "code",
   "execution_count": 124,
   "id": "2b1384c9-3d0a-46b6-ab6a-81c8d63801c5",
   "metadata": {},
   "outputs": [
    {
     "data": {
      "text/html": [
       "<div>\n",
       "<style scoped>\n",
       "    .dataframe tbody tr th:only-of-type {\n",
       "        vertical-align: middle;\n",
       "    }\n",
       "\n",
       "    .dataframe tbody tr th {\n",
       "        vertical-align: top;\n",
       "    }\n",
       "\n",
       "    .dataframe thead th {\n",
       "        text-align: right;\n",
       "    }\n",
       "</style>\n",
       "<table border=\"1\" class=\"dataframe\">\n",
       "  <thead>\n",
       "    <tr style=\"text-align: right;\">\n",
       "      <th></th>\n",
       "      <th>fare_amount</th>\n",
       "      <th>pickup_datetime</th>\n",
       "      <th>pickup_longitude</th>\n",
       "      <th>pickup_latitude</th>\n",
       "      <th>dropoff_longitude</th>\n",
       "      <th>dropoff_latitude</th>\n",
       "      <th>passenger_count</th>\n",
       "      <th>Year</th>\n",
       "      <th>Month</th>\n",
       "      <th>Date</th>\n",
       "      <th>Day</th>\n",
       "      <th>Hour</th>\n",
       "      <th>Minute</th>\n",
       "    </tr>\n",
       "  </thead>\n",
       "  <tbody>\n",
       "  </tbody>\n",
       "</table>\n",
       "</div>"
      ],
      "text/plain": [
       "Empty DataFrame\n",
       "Columns: [fare_amount, pickup_datetime, pickup_longitude, pickup_latitude, dropoff_longitude, dropoff_latitude, passenger_count, Year, Month, Date, Day, Hour, Minute]\n",
       "Index: []"
      ]
     },
     "execution_count": 124,
     "metadata": {},
     "output_type": "execute_result"
    }
   ],
   "source": [
    "train[train[\"dropoff_longitude\"] < -180]"
   ]
  },
  {
   "cell_type": "code",
   "execution_count": 125,
   "id": "21a7934e-cd86-445c-a144-da5ac46cddb7",
   "metadata": {},
   "outputs": [
    {
     "data": {
      "text/html": [
       "<div>\n",
       "<style scoped>\n",
       "    .dataframe tbody tr th:only-of-type {\n",
       "        vertical-align: middle;\n",
       "    }\n",
       "\n",
       "    .dataframe tbody tr th {\n",
       "        vertical-align: top;\n",
       "    }\n",
       "\n",
       "    .dataframe thead th {\n",
       "        text-align: right;\n",
       "    }\n",
       "</style>\n",
       "<table border=\"1\" class=\"dataframe\">\n",
       "  <thead>\n",
       "    <tr style=\"text-align: right;\">\n",
       "      <th></th>\n",
       "      <th>fare_amount</th>\n",
       "      <th>pickup_datetime</th>\n",
       "      <th>pickup_longitude</th>\n",
       "      <th>pickup_latitude</th>\n",
       "      <th>dropoff_longitude</th>\n",
       "      <th>dropoff_latitude</th>\n",
       "      <th>passenger_count</th>\n",
       "      <th>Year</th>\n",
       "      <th>Month</th>\n",
       "      <th>Date</th>\n",
       "      <th>Day</th>\n",
       "      <th>Hour</th>\n",
       "      <th>Minute</th>\n",
       "    </tr>\n",
       "  </thead>\n",
       "  <tbody>\n",
       "  </tbody>\n",
       "</table>\n",
       "</div>"
      ],
      "text/plain": [
       "Empty DataFrame\n",
       "Columns: [fare_amount, pickup_datetime, pickup_longitude, pickup_latitude, dropoff_longitude, dropoff_latitude, passenger_count, Year, Month, Date, Day, Hour, Minute]\n",
       "Index: []"
      ]
     },
     "execution_count": 125,
     "metadata": {},
     "output_type": "execute_result"
    }
   ],
   "source": [
    "train[train[\"dropoff_longitude\"] > 180]"
   ]
  },
  {
   "cell_type": "code",
   "execution_count": 126,
   "id": "92a4f2a6-3839-40bf-b400-6e62a9415285",
   "metadata": {},
   "outputs": [
    {
     "data": {
      "text/plain": [
       "(15901, 13)"
      ]
     },
     "execution_count": 126,
     "metadata": {},
     "output_type": "execute_result"
    }
   ],
   "source": [
    "train.shape"
   ]
  },
  {
   "cell_type": "code",
   "execution_count": 127,
   "id": "adbcbd32-946c-4e5e-be54-ba0016b07bf3",
   "metadata": {},
   "outputs": [
    {
     "data": {
      "text/plain": [
       "fare_amount          0\n",
       "pickup_datetime      0\n",
       "pickup_longitude     0\n",
       "pickup_latitude      0\n",
       "dropoff_longitude    0\n",
       "dropoff_latitude     0\n",
       "passenger_count      0\n",
       "Year                 0\n",
       "Month                0\n",
       "Date                 0\n",
       "Day                  0\n",
       "Hour                 0\n",
       "Minute               0\n",
       "dtype: int64"
      ]
     },
     "execution_count": 127,
     "metadata": {},
     "output_type": "execute_result"
    }
   ],
   "source": [
    "train.isnull().sum()"
   ]
  },
  {
   "cell_type": "code",
   "execution_count": 128,
   "id": "cdc01e06-0975-40fd-8aec-f1d6d5e2e63b",
   "metadata": {},
   "outputs": [],
   "source": [
    "# data-preprocessing and cleaning done\n",
    "# calculating the haversine distance now"
   ]
  },
  {
   "cell_type": "code",
   "execution_count": 129,
   "id": "80d45cd3-e8f1-4641-aae5-3cf778584dfc",
   "metadata": {},
   "outputs": [],
   "source": [
    "# we have a given pickup latitude and lognitude , dropoff latitude and longitude\n",
    "# so we need to calculate the distance using the haversine formula and we will create a new variable called distance\n",
    "\n",
    "from math import radians, cos, sin, asin, sqrt\n",
    "\n",
    "def haversine(a):\n",
    "    lon1 = a[0]\n",
    "    lat1 = a[1]\n",
    "    lon2 = a[2]\n",
    "    lat2 = a[3]\n",
    "\n",
    "    \"Calculating the great circle between two points on the earth(specified in decimal degrees)\"\n",
    "    # convert decimal degrees into adians\n",
    "    lon1, lat1, lon2, lat2 = map(radians, [lon1, lat1, lon2, lat2])\n",
    "\n",
    "    # haversine formula\n",
    "    dlon = lon2 - lon1\n",
    "    dlat = lat2 - lat1\n",
    "    a = sin(dlat/2)**2 + cos(lat1) * cos(lat2) * sin(dlon/2)**2\n",
    "    c = 2 * asin(sqrt(a))\n",
    "    # radius of the eartyh in km is 6371\n",
    "    km = 6371 * c\n",
    "    return km"
   ]
  },
  {
   "cell_type": "code",
   "execution_count": 137,
   "id": "bf382b3d-1f50-47db-a9af-963b2636ebbe",
   "metadata": {},
   "outputs": [
    {
     "name": "stderr",
     "output_type": "stream",
     "text": [
      "C:\\Users\\DELL\\AppData\\Local\\Temp\\ipykernel_5672\\815780774.py:7: FutureWarning: Series.__getitem__ treating keys as positions is deprecated. In a future version, integer keys will always be treated as labels (consistent with DataFrame behavior). To access a value by position, use `ser.iloc[pos]`\n",
      "  lon1 = a[0]\n",
      "C:\\Users\\DELL\\AppData\\Local\\Temp\\ipykernel_5672\\815780774.py:8: FutureWarning: Series.__getitem__ treating keys as positions is deprecated. In a future version, integer keys will always be treated as labels (consistent with DataFrame behavior). To access a value by position, use `ser.iloc[pos]`\n",
      "  lat1 = a[1]\n",
      "C:\\Users\\DELL\\AppData\\Local\\Temp\\ipykernel_5672\\815780774.py:9: FutureWarning: Series.__getitem__ treating keys as positions is deprecated. In a future version, integer keys will always be treated as labels (consistent with DataFrame behavior). To access a value by position, use `ser.iloc[pos]`\n",
      "  lon2 = a[2]\n",
      "C:\\Users\\DELL\\AppData\\Local\\Temp\\ipykernel_5672\\815780774.py:10: FutureWarning: Series.__getitem__ treating keys as positions is deprecated. In a future version, integer keys will always be treated as labels (consistent with DataFrame behavior). To access a value by position, use `ser.iloc[pos]`\n",
      "  lat2 = a[3]\n"
     ]
    }
   ],
   "source": [
    "train[\"distance\"] = train[['pickup_longitude', 'pickup_latitude', 'dropoff_longitude', 'dropoff_latitude']].apply(haversine, axis = 1)"
   ]
  },
  {
   "cell_type": "code",
   "execution_count": 138,
   "id": "b841f4ef-cf23-4b3a-874c-856c02ddd6e6",
   "metadata": {},
   "outputs": [
    {
     "name": "stderr",
     "output_type": "stream",
     "text": [
      "C:\\Users\\DELL\\AppData\\Local\\Temp\\ipykernel_5672\\815780774.py:7: FutureWarning: Series.__getitem__ treating keys as positions is deprecated. In a future version, integer keys will always be treated as labels (consistent with DataFrame behavior). To access a value by position, use `ser.iloc[pos]`\n",
      "  lon1 = a[0]\n",
      "C:\\Users\\DELL\\AppData\\Local\\Temp\\ipykernel_5672\\815780774.py:8: FutureWarning: Series.__getitem__ treating keys as positions is deprecated. In a future version, integer keys will always be treated as labels (consistent with DataFrame behavior). To access a value by position, use `ser.iloc[pos]`\n",
      "  lat1 = a[1]\n",
      "C:\\Users\\DELL\\AppData\\Local\\Temp\\ipykernel_5672\\815780774.py:9: FutureWarning: Series.__getitem__ treating keys as positions is deprecated. In a future version, integer keys will always be treated as labels (consistent with DataFrame behavior). To access a value by position, use `ser.iloc[pos]`\n",
      "  lon2 = a[2]\n",
      "C:\\Users\\DELL\\AppData\\Local\\Temp\\ipykernel_5672\\815780774.py:10: FutureWarning: Series.__getitem__ treating keys as positions is deprecated. In a future version, integer keys will always be treated as labels (consistent with DataFrame behavior). To access a value by position, use `ser.iloc[pos]`\n",
      "  lat2 = a[3]\n"
     ]
    }
   ],
   "source": [
    "test[\"distance\"] = test[['pickup_longitude', 'pickup_latitude', 'dropoff_longitude', 'dropoff_latitude']].apply(haversine, axis = 1)"
   ]
  },
  {
   "cell_type": "code",
   "execution_count": 139,
   "id": "cbcbcf04-421f-43f8-9502-81df306a2665",
   "metadata": {},
   "outputs": [
    {
     "data": {
      "text/html": [
       "<div>\n",
       "<style scoped>\n",
       "    .dataframe tbody tr th:only-of-type {\n",
       "        vertical-align: middle;\n",
       "    }\n",
       "\n",
       "    .dataframe tbody tr th {\n",
       "        vertical-align: top;\n",
       "    }\n",
       "\n",
       "    .dataframe thead th {\n",
       "        text-align: right;\n",
       "    }\n",
       "</style>\n",
       "<table border=\"1\" class=\"dataframe\">\n",
       "  <thead>\n",
       "    <tr style=\"text-align: right;\">\n",
       "      <th></th>\n",
       "      <th>fare_amount</th>\n",
       "      <th>pickup_datetime</th>\n",
       "      <th>pickup_longitude</th>\n",
       "      <th>pickup_latitude</th>\n",
       "      <th>dropoff_longitude</th>\n",
       "      <th>dropoff_latitude</th>\n",
       "      <th>passenger_count</th>\n",
       "      <th>Year</th>\n",
       "      <th>Month</th>\n",
       "      <th>Date</th>\n",
       "      <th>Day</th>\n",
       "      <th>Hour</th>\n",
       "      <th>Minute</th>\n",
       "      <th>distance</th>\n",
       "    </tr>\n",
       "  </thead>\n",
       "  <tbody>\n",
       "    <tr>\n",
       "      <th>0</th>\n",
       "      <td>4.5</td>\n",
       "      <td>2009-06-15 17:26:21</td>\n",
       "      <td>-73.844311</td>\n",
       "      <td>40.721319</td>\n",
       "      <td>-73.841610</td>\n",
       "      <td>40.712278</td>\n",
       "      <td>1.0</td>\n",
       "      <td>2009.0</td>\n",
       "      <td>6.0</td>\n",
       "      <td>15.0</td>\n",
       "      <td>0.0</td>\n",
       "      <td>17.0</td>\n",
       "      <td>26.0</td>\n",
       "      <td>1.030764</td>\n",
       "    </tr>\n",
       "    <tr>\n",
       "      <th>1</th>\n",
       "      <td>16.9</td>\n",
       "      <td>2010-01-05 16:52:16</td>\n",
       "      <td>-74.016048</td>\n",
       "      <td>40.711303</td>\n",
       "      <td>-73.979268</td>\n",
       "      <td>40.782004</td>\n",
       "      <td>1.0</td>\n",
       "      <td>2010.0</td>\n",
       "      <td>1.0</td>\n",
       "      <td>5.0</td>\n",
       "      <td>1.0</td>\n",
       "      <td>16.0</td>\n",
       "      <td>52.0</td>\n",
       "      <td>8.450134</td>\n",
       "    </tr>\n",
       "    <tr>\n",
       "      <th>2</th>\n",
       "      <td>5.7</td>\n",
       "      <td>2011-08-18 00:35:00</td>\n",
       "      <td>-73.982738</td>\n",
       "      <td>40.761270</td>\n",
       "      <td>-73.991242</td>\n",
       "      <td>40.750562</td>\n",
       "      <td>2.0</td>\n",
       "      <td>2011.0</td>\n",
       "      <td>8.0</td>\n",
       "      <td>18.0</td>\n",
       "      <td>3.0</td>\n",
       "      <td>0.0</td>\n",
       "      <td>35.0</td>\n",
       "      <td>1.389525</td>\n",
       "    </tr>\n",
       "    <tr>\n",
       "      <th>3</th>\n",
       "      <td>7.7</td>\n",
       "      <td>2012-04-21 04:30:42</td>\n",
       "      <td>-73.987130</td>\n",
       "      <td>40.733143</td>\n",
       "      <td>-73.991567</td>\n",
       "      <td>40.758092</td>\n",
       "      <td>1.0</td>\n",
       "      <td>2012.0</td>\n",
       "      <td>4.0</td>\n",
       "      <td>21.0</td>\n",
       "      <td>5.0</td>\n",
       "      <td>4.0</td>\n",
       "      <td>30.0</td>\n",
       "      <td>2.799270</td>\n",
       "    </tr>\n",
       "    <tr>\n",
       "      <th>4</th>\n",
       "      <td>5.3</td>\n",
       "      <td>2010-03-09 07:51:00</td>\n",
       "      <td>-73.968095</td>\n",
       "      <td>40.768008</td>\n",
       "      <td>-73.956655</td>\n",
       "      <td>40.783762</td>\n",
       "      <td>1.0</td>\n",
       "      <td>2010.0</td>\n",
       "      <td>3.0</td>\n",
       "      <td>9.0</td>\n",
       "      <td>1.0</td>\n",
       "      <td>7.0</td>\n",
       "      <td>51.0</td>\n",
       "      <td>1.999157</td>\n",
       "    </tr>\n",
       "  </tbody>\n",
       "</table>\n",
       "</div>"
      ],
      "text/plain": [
       "   fare_amount     pickup_datetime  pickup_longitude  pickup_latitude  \\\n",
       "0          4.5 2009-06-15 17:26:21        -73.844311        40.721319   \n",
       "1         16.9 2010-01-05 16:52:16        -74.016048        40.711303   \n",
       "2          5.7 2011-08-18 00:35:00        -73.982738        40.761270   \n",
       "3          7.7 2012-04-21 04:30:42        -73.987130        40.733143   \n",
       "4          5.3 2010-03-09 07:51:00        -73.968095        40.768008   \n",
       "\n",
       "   dropoff_longitude  dropoff_latitude  passenger_count    Year  Month  Date  \\\n",
       "0         -73.841610         40.712278              1.0  2009.0    6.0  15.0   \n",
       "1         -73.979268         40.782004              1.0  2010.0    1.0   5.0   \n",
       "2         -73.991242         40.750562              2.0  2011.0    8.0  18.0   \n",
       "3         -73.991567         40.758092              1.0  2012.0    4.0  21.0   \n",
       "4         -73.956655         40.783762              1.0  2010.0    3.0   9.0   \n",
       "\n",
       "   Day  Hour  Minute  distance  \n",
       "0  0.0  17.0    26.0  1.030764  \n",
       "1  1.0  16.0    52.0  8.450134  \n",
       "2  3.0   0.0    35.0  1.389525  \n",
       "3  5.0   4.0    30.0  2.799270  \n",
       "4  1.0   7.0    51.0  1.999157  "
      ]
     },
     "execution_count": 139,
     "metadata": {},
     "output_type": "execute_result"
    }
   ],
   "source": [
    "train.head()"
   ]
  },
  {
   "cell_type": "code",
   "execution_count": 140,
   "id": "017d1726-d5bb-4047-b5c3-2365e31741f6",
   "metadata": {},
   "outputs": [
    {
     "data": {
      "text/html": [
       "<div>\n",
       "<style scoped>\n",
       "    .dataframe tbody tr th:only-of-type {\n",
       "        vertical-align: middle;\n",
       "    }\n",
       "\n",
       "    .dataframe tbody tr th {\n",
       "        vertical-align: top;\n",
       "    }\n",
       "\n",
       "    .dataframe thead th {\n",
       "        text-align: right;\n",
       "    }\n",
       "</style>\n",
       "<table border=\"1\" class=\"dataframe\">\n",
       "  <thead>\n",
       "    <tr style=\"text-align: right;\">\n",
       "      <th></th>\n",
       "      <th>pickup_datetime</th>\n",
       "      <th>pickup_longitude</th>\n",
       "      <th>pickup_latitude</th>\n",
       "      <th>dropoff_longitude</th>\n",
       "      <th>dropoff_latitude</th>\n",
       "      <th>passenger_count</th>\n",
       "      <th>Year</th>\n",
       "      <th>Month</th>\n",
       "      <th>Date</th>\n",
       "      <th>Day</th>\n",
       "      <th>Hour</th>\n",
       "      <th>Minute</th>\n",
       "      <th>distance</th>\n",
       "    </tr>\n",
       "  </thead>\n",
       "  <tbody>\n",
       "    <tr>\n",
       "      <th>0</th>\n",
       "      <td>2015-01-27 13:08:24</td>\n",
       "      <td>-73.973320</td>\n",
       "      <td>40.763805</td>\n",
       "      <td>-73.981430</td>\n",
       "      <td>40.743835</td>\n",
       "      <td>1</td>\n",
       "      <td>2015</td>\n",
       "      <td>1</td>\n",
       "      <td>27</td>\n",
       "      <td>1</td>\n",
       "      <td>13</td>\n",
       "      <td>8</td>\n",
       "      <td>2.323259</td>\n",
       "    </tr>\n",
       "    <tr>\n",
       "      <th>1</th>\n",
       "      <td>2015-01-27 13:08:24</td>\n",
       "      <td>-73.986862</td>\n",
       "      <td>40.719383</td>\n",
       "      <td>-73.998886</td>\n",
       "      <td>40.739201</td>\n",
       "      <td>1</td>\n",
       "      <td>2015</td>\n",
       "      <td>1</td>\n",
       "      <td>27</td>\n",
       "      <td>1</td>\n",
       "      <td>13</td>\n",
       "      <td>8</td>\n",
       "      <td>2.425353</td>\n",
       "    </tr>\n",
       "    <tr>\n",
       "      <th>2</th>\n",
       "      <td>2011-10-08 11:53:44</td>\n",
       "      <td>-73.982524</td>\n",
       "      <td>40.751260</td>\n",
       "      <td>-73.979654</td>\n",
       "      <td>40.746139</td>\n",
       "      <td>1</td>\n",
       "      <td>2011</td>\n",
       "      <td>10</td>\n",
       "      <td>8</td>\n",
       "      <td>5</td>\n",
       "      <td>11</td>\n",
       "      <td>53</td>\n",
       "      <td>0.618628</td>\n",
       "    </tr>\n",
       "    <tr>\n",
       "      <th>3</th>\n",
       "      <td>2012-12-01 21:12:12</td>\n",
       "      <td>-73.981160</td>\n",
       "      <td>40.767807</td>\n",
       "      <td>-73.990448</td>\n",
       "      <td>40.751635</td>\n",
       "      <td>1</td>\n",
       "      <td>2012</td>\n",
       "      <td>12</td>\n",
       "      <td>1</td>\n",
       "      <td>5</td>\n",
       "      <td>21</td>\n",
       "      <td>12</td>\n",
       "      <td>1.961033</td>\n",
       "    </tr>\n",
       "    <tr>\n",
       "      <th>4</th>\n",
       "      <td>2012-12-01 21:12:12</td>\n",
       "      <td>-73.966046</td>\n",
       "      <td>40.789775</td>\n",
       "      <td>-73.988565</td>\n",
       "      <td>40.744427</td>\n",
       "      <td>1</td>\n",
       "      <td>2012</td>\n",
       "      <td>12</td>\n",
       "      <td>1</td>\n",
       "      <td>5</td>\n",
       "      <td>21</td>\n",
       "      <td>12</td>\n",
       "      <td>5.387301</td>\n",
       "    </tr>\n",
       "  </tbody>\n",
       "</table>\n",
       "</div>"
      ],
      "text/plain": [
       "      pickup_datetime  pickup_longitude  pickup_latitude  dropoff_longitude  \\\n",
       "0 2015-01-27 13:08:24        -73.973320        40.763805         -73.981430   \n",
       "1 2015-01-27 13:08:24        -73.986862        40.719383         -73.998886   \n",
       "2 2011-10-08 11:53:44        -73.982524        40.751260         -73.979654   \n",
       "3 2012-12-01 21:12:12        -73.981160        40.767807         -73.990448   \n",
       "4 2012-12-01 21:12:12        -73.966046        40.789775         -73.988565   \n",
       "\n",
       "   dropoff_latitude  passenger_count  Year  Month  Date  Day  Hour  Minute  \\\n",
       "0         40.743835                1  2015      1    27    1    13       8   \n",
       "1         40.739201                1  2015      1    27    1    13       8   \n",
       "2         40.746139                1  2011     10     8    5    11      53   \n",
       "3         40.751635                1  2012     12     1    5    21      12   \n",
       "4         40.744427                1  2012     12     1    5    21      12   \n",
       "\n",
       "   distance  \n",
       "0  2.323259  \n",
       "1  2.425353  \n",
       "2  0.618628  \n",
       "3  1.961033  \n",
       "4  5.387301  "
      ]
     },
     "execution_count": 140,
     "metadata": {},
     "output_type": "execute_result"
    }
   ],
   "source": [
    "test.head()"
   ]
  },
  {
   "cell_type": "code",
   "execution_count": 141,
   "id": "b03f0852-99b8-4a60-8254-19086b96e999",
   "metadata": {},
   "outputs": [
    {
     "data": {
      "text/plain": [
       "fare_amount            459\n",
       "pickup_datetime      15856\n",
       "pickup_longitude     13672\n",
       "pickup_latitude      14110\n",
       "dropoff_longitude    13763\n",
       "dropoff_latitude     14136\n",
       "passenger_count          7\n",
       "Year                     7\n",
       "Month                   12\n",
       "Date                    31\n",
       "Day                      7\n",
       "Hour                    24\n",
       "Minute                  60\n",
       "distance             15448\n",
       "dtype: int64"
      ]
     },
     "execution_count": 141,
     "metadata": {},
     "output_type": "execute_result"
    }
   ],
   "source": [
    "train.nunique()"
   ]
  },
  {
   "cell_type": "code",
   "execution_count": 142,
   "id": "269bb969-9ad1-4aa8-8642-0a4b95fbac45",
   "metadata": {},
   "outputs": [
    {
     "data": {
      "text/plain": [
       "pickup_datetime      1753\n",
       "pickup_longitude     9124\n",
       "pickup_latitude      9246\n",
       "dropoff_longitude    9141\n",
       "dropoff_latitude     9360\n",
       "passenger_count         6\n",
       "Year                    7\n",
       "Month                  12\n",
       "Date                   31\n",
       "Day                     7\n",
       "Hour                   24\n",
       "Minute                 60\n",
       "distance             9830\n",
       "dtype: int64"
      ]
     },
     "execution_count": 142,
     "metadata": {},
     "output_type": "execute_result"
    }
   ],
   "source": [
    "test.nunique()"
   ]
  },
  {
   "cell_type": "code",
   "execution_count": 143,
   "id": "80309554-cc54-4251-89d5-1f313be615ee",
   "metadata": {},
   "outputs": [
    {
     "data": {
      "text/plain": [
       "9147     8667.542104\n",
       "8647     8667.497512\n",
       "2397     8667.454421\n",
       "472      8667.304968\n",
       "11653    8666.701504\n",
       "            ...     \n",
       "4954        0.000000\n",
       "8629        0.000000\n",
       "8645        0.000000\n",
       "11218       0.000000\n",
       "14485       0.000000\n",
       "Name: distance, Length: 15901, dtype: float64"
      ]
     },
     "execution_count": 143,
     "metadata": {},
     "output_type": "execute_result"
    }
   ],
   "source": [
    "#  checking the outliers in the distance column\n",
    "train['distance'].sort_values(ascending = False)"
   ]
  },
  {
   "cell_type": "code",
   "execution_count": 144,
   "id": "f3358a81-6400-4388-8b24-f720ad461f14",
   "metadata": {},
   "outputs": [
    {
     "data": {
      "text/html": [
       "<div>\n",
       "<style scoped>\n",
       "    .dataframe tbody tr th:only-of-type {\n",
       "        vertical-align: middle;\n",
       "    }\n",
       "\n",
       "    .dataframe tbody tr th {\n",
       "        vertical-align: top;\n",
       "    }\n",
       "\n",
       "    .dataframe thead th {\n",
       "        text-align: right;\n",
       "    }\n",
       "</style>\n",
       "<table border=\"1\" class=\"dataframe\">\n",
       "  <thead>\n",
       "    <tr style=\"text-align: right;\">\n",
       "      <th></th>\n",
       "      <th>fare_amount</th>\n",
       "      <th>pickup_datetime</th>\n",
       "      <th>pickup_longitude</th>\n",
       "      <th>pickup_latitude</th>\n",
       "      <th>dropoff_longitude</th>\n",
       "      <th>dropoff_latitude</th>\n",
       "      <th>passenger_count</th>\n",
       "      <th>Year</th>\n",
       "      <th>Month</th>\n",
       "      <th>Date</th>\n",
       "      <th>Day</th>\n",
       "      <th>Hour</th>\n",
       "      <th>Minute</th>\n",
       "      <th>distance</th>\n",
       "    </tr>\n",
       "  </thead>\n",
       "  <tbody>\n",
       "    <tr>\n",
       "      <th>472</th>\n",
       "      <td>2.50</td>\n",
       "      <td>2009-02-22 22:48:00</td>\n",
       "      <td>0.000000</td>\n",
       "      <td>0.000000</td>\n",
       "      <td>-74.005433</td>\n",
       "      <td>40.726685</td>\n",
       "      <td>2.0</td>\n",
       "      <td>2009.0</td>\n",
       "      <td>2.0</td>\n",
       "      <td>22.0</td>\n",
       "      <td>6.0</td>\n",
       "      <td>22.0</td>\n",
       "      <td>48.0</td>\n",
       "      <td>8667.304968</td>\n",
       "    </tr>\n",
       "    <tr>\n",
       "      <th>1260</th>\n",
       "      <td>5.70</td>\n",
       "      <td>2011-03-10 20:25:00</td>\n",
       "      <td>-73.973907</td>\n",
       "      <td>40.754743</td>\n",
       "      <td>0.000000</td>\n",
       "      <td>0.000000</td>\n",
       "      <td>2.0</td>\n",
       "      <td>2011.0</td>\n",
       "      <td>3.0</td>\n",
       "      <td>10.0</td>\n",
       "      <td>3.0</td>\n",
       "      <td>20.0</td>\n",
       "      <td>25.0</td>\n",
       "      <td>8665.268588</td>\n",
       "    </tr>\n",
       "    <tr>\n",
       "      <th>2397</th>\n",
       "      <td>45.00</td>\n",
       "      <td>2012-06-24 17:11:10</td>\n",
       "      <td>0.000000</td>\n",
       "      <td>0.000000</td>\n",
       "      <td>-74.010230</td>\n",
       "      <td>40.714553</td>\n",
       "      <td>2.0</td>\n",
       "      <td>2012.0</td>\n",
       "      <td>6.0</td>\n",
       "      <td>24.0</td>\n",
       "      <td>6.0</td>\n",
       "      <td>17.0</td>\n",
       "      <td>11.0</td>\n",
       "      <td>8667.454421</td>\n",
       "    </tr>\n",
       "    <tr>\n",
       "      <th>4278</th>\n",
       "      <td>7.00</td>\n",
       "      <td>2015-04-07 23:33:02</td>\n",
       "      <td>-73.972702</td>\n",
       "      <td>40.757423</td>\n",
       "      <td>0.000000</td>\n",
       "      <td>0.000000</td>\n",
       "      <td>1.0</td>\n",
       "      <td>2015.0</td>\n",
       "      <td>4.0</td>\n",
       "      <td>7.0</td>\n",
       "      <td>1.0</td>\n",
       "      <td>23.0</td>\n",
       "      <td>33.0</td>\n",
       "      <td>8665.223767</td>\n",
       "    </tr>\n",
       "    <tr>\n",
       "      <th>4597</th>\n",
       "      <td>6.90</td>\n",
       "      <td>2010-03-30 07:12:00</td>\n",
       "      <td>0.000000</td>\n",
       "      <td>0.000000</td>\n",
       "      <td>-73.989693</td>\n",
       "      <td>40.754280</td>\n",
       "      <td>1.0</td>\n",
       "      <td>2010.0</td>\n",
       "      <td>3.0</td>\n",
       "      <td>30.0</td>\n",
       "      <td>1.0</td>\n",
       "      <td>7.0</td>\n",
       "      <td>12.0</td>\n",
       "      <td>8666.566030</td>\n",
       "    </tr>\n",
       "    <tr>\n",
       "      <th>6188</th>\n",
       "      <td>15.50</td>\n",
       "      <td>2014-07-28 15:04:00</td>\n",
       "      <td>0.000000</td>\n",
       "      <td>0.000000</td>\n",
       "      <td>-73.952980</td>\n",
       "      <td>40.786670</td>\n",
       "      <td>5.0</td>\n",
       "      <td>2014.0</td>\n",
       "      <td>7.0</td>\n",
       "      <td>28.0</td>\n",
       "      <td>0.0</td>\n",
       "      <td>15.0</td>\n",
       "      <td>4.0</td>\n",
       "      <td>8664.191488</td>\n",
       "    </tr>\n",
       "    <tr>\n",
       "      <th>6302</th>\n",
       "      <td>16.50</td>\n",
       "      <td>2015-02-27 16:18:58</td>\n",
       "      <td>0.000000</td>\n",
       "      <td>0.000000</td>\n",
       "      <td>-73.936600</td>\n",
       "      <td>40.796543</td>\n",
       "      <td>1.0</td>\n",
       "      <td>2015.0</td>\n",
       "      <td>2.0</td>\n",
       "      <td>27.0</td>\n",
       "      <td>4.0</td>\n",
       "      <td>16.0</td>\n",
       "      <td>18.0</td>\n",
       "      <td>8663.039123</td>\n",
       "    </tr>\n",
       "    <tr>\n",
       "      <th>8647</th>\n",
       "      <td>21.50</td>\n",
       "      <td>2014-03-27 18:01:00</td>\n",
       "      <td>-74.001808</td>\n",
       "      <td>40.750782</td>\n",
       "      <td>0.000000</td>\n",
       "      <td>0.000000</td>\n",
       "      <td>1.0</td>\n",
       "      <td>2014.0</td>\n",
       "      <td>3.0</td>\n",
       "      <td>27.0</td>\n",
       "      <td>3.0</td>\n",
       "      <td>18.0</td>\n",
       "      <td>1.0</td>\n",
       "      <td>8667.497512</td>\n",
       "    </tr>\n",
       "    <tr>\n",
       "      <th>9147</th>\n",
       "      <td>8.50</td>\n",
       "      <td>2014-07-14 21:37:29</td>\n",
       "      <td>0.000000</td>\n",
       "      <td>0.000000</td>\n",
       "      <td>-74.002037</td>\n",
       "      <td>40.752035</td>\n",
       "      <td>1.0</td>\n",
       "      <td>2014.0</td>\n",
       "      <td>7.0</td>\n",
       "      <td>14.0</td>\n",
       "      <td>0.0</td>\n",
       "      <td>21.0</td>\n",
       "      <td>37.0</td>\n",
       "      <td>8667.542104</td>\n",
       "    </tr>\n",
       "    <tr>\n",
       "      <th>10215</th>\n",
       "      <td>13.30</td>\n",
       "      <td>2011-03-18 09:33:41</td>\n",
       "      <td>0.000000</td>\n",
       "      <td>0.000000</td>\n",
       "      <td>-73.990138</td>\n",
       "      <td>40.753392</td>\n",
       "      <td>1.0</td>\n",
       "      <td>2011.0</td>\n",
       "      <td>3.0</td>\n",
       "      <td>18.0</td>\n",
       "      <td>4.0</td>\n",
       "      <td>9.0</td>\n",
       "      <td>33.0</td>\n",
       "      <td>8666.584706</td>\n",
       "    </tr>\n",
       "    <tr>\n",
       "      <th>10458</th>\n",
       "      <td>2.50</td>\n",
       "      <td>2013-02-23 20:58:00</td>\n",
       "      <td>-73.979678</td>\n",
       "      <td>40.765962</td>\n",
       "      <td>0.000000</td>\n",
       "      <td>0.000000</td>\n",
       "      <td>1.0</td>\n",
       "      <td>2013.0</td>\n",
       "      <td>2.0</td>\n",
       "      <td>23.0</td>\n",
       "      <td>5.0</td>\n",
       "      <td>20.0</td>\n",
       "      <td>58.0</td>\n",
       "      <td>8665.976222</td>\n",
       "    </tr>\n",
       "    <tr>\n",
       "      <th>10488</th>\n",
       "      <td>5.30</td>\n",
       "      <td>2012-03-15 00:30:07</td>\n",
       "      <td>-73.978103</td>\n",
       "      <td>40.751798</td>\n",
       "      <td>0.000000</td>\n",
       "      <td>0.000000</td>\n",
       "      <td>1.0</td>\n",
       "      <td>2012.0</td>\n",
       "      <td>3.0</td>\n",
       "      <td>15.0</td>\n",
       "      <td>3.0</td>\n",
       "      <td>0.0</td>\n",
       "      <td>30.0</td>\n",
       "      <td>8665.555634</td>\n",
       "    </tr>\n",
       "    <tr>\n",
       "      <th>10672</th>\n",
       "      <td>18.00</td>\n",
       "      <td>2015-04-30 15:34:46</td>\n",
       "      <td>-73.979355</td>\n",
       "      <td>40.753902</td>\n",
       "      <td>0.000000</td>\n",
       "      <td>0.000000</td>\n",
       "      <td>1.0</td>\n",
       "      <td>2015.0</td>\n",
       "      <td>4.0</td>\n",
       "      <td>30.0</td>\n",
       "      <td>3.0</td>\n",
       "      <td>15.0</td>\n",
       "      <td>34.0</td>\n",
       "      <td>8665.702390</td>\n",
       "    </tr>\n",
       "    <tr>\n",
       "      <th>11653</th>\n",
       "      <td>16.00</td>\n",
       "      <td>2015-03-04 16:06:28</td>\n",
       "      <td>0.000000</td>\n",
       "      <td>0.000000</td>\n",
       "      <td>-73.985329</td>\n",
       "      <td>40.778534</td>\n",
       "      <td>1.0</td>\n",
       "      <td>2015.0</td>\n",
       "      <td>3.0</td>\n",
       "      <td>4.0</td>\n",
       "      <td>2.0</td>\n",
       "      <td>16.0</td>\n",
       "      <td>6.0</td>\n",
       "      <td>8666.701504</td>\n",
       "    </tr>\n",
       "    <tr>\n",
       "      <th>12705</th>\n",
       "      <td>2.50</td>\n",
       "      <td>2012-10-31 14:37:00</td>\n",
       "      <td>-73.929230</td>\n",
       "      <td>40.744627</td>\n",
       "      <td>0.000000</td>\n",
       "      <td>0.000000</td>\n",
       "      <td>5.0</td>\n",
       "      <td>2012.0</td>\n",
       "      <td>10.0</td>\n",
       "      <td>31.0</td>\n",
       "      <td>2.0</td>\n",
       "      <td>14.0</td>\n",
       "      <td>37.0</td>\n",
       "      <td>8661.362152</td>\n",
       "    </tr>\n",
       "    <tr>\n",
       "      <th>12983</th>\n",
       "      <td>57.33</td>\n",
       "      <td>2013-03-07 21:04:00</td>\n",
       "      <td>-73.958870</td>\n",
       "      <td>40.760012</td>\n",
       "      <td>0.000000</td>\n",
       "      <td>0.000000</td>\n",
       "      <td>1.0</td>\n",
       "      <td>2013.0</td>\n",
       "      <td>3.0</td>\n",
       "      <td>7.0</td>\n",
       "      <td>3.0</td>\n",
       "      <td>21.0</td>\n",
       "      <td>4.0</td>\n",
       "      <td>8664.131808</td>\n",
       "    </tr>\n",
       "    <tr>\n",
       "      <th>13340</th>\n",
       "      <td>18.50</td>\n",
       "      <td>2014-03-31 12:34:47</td>\n",
       "      <td>0.000000</td>\n",
       "      <td>0.000000</td>\n",
       "      <td>-73.997643</td>\n",
       "      <td>40.724432</td>\n",
       "      <td>1.0</td>\n",
       "      <td>2014.0</td>\n",
       "      <td>3.0</td>\n",
       "      <td>31.0</td>\n",
       "      <td>0.0</td>\n",
       "      <td>12.0</td>\n",
       "      <td>34.0</td>\n",
       "      <td>8666.613646</td>\n",
       "    </tr>\n",
       "    <tr>\n",
       "      <th>14197</th>\n",
       "      <td>48.00</td>\n",
       "      <td>2013-04-19 16:49:00</td>\n",
       "      <td>-73.870945</td>\n",
       "      <td>40.773700</td>\n",
       "      <td>0.000000</td>\n",
       "      <td>0.000000</td>\n",
       "      <td>1.0</td>\n",
       "      <td>2013.0</td>\n",
       "      <td>4.0</td>\n",
       "      <td>19.0</td>\n",
       "      <td>4.0</td>\n",
       "      <td>16.0</td>\n",
       "      <td>49.0</td>\n",
       "      <td>8657.136619</td>\n",
       "    </tr>\n",
       "    <tr>\n",
       "      <th>15783</th>\n",
       "      <td>26.50</td>\n",
       "      <td>2014-09-28 08:18:55</td>\n",
       "      <td>0.000000</td>\n",
       "      <td>0.000000</td>\n",
       "      <td>-73.867056</td>\n",
       "      <td>40.768823</td>\n",
       "      <td>1.0</td>\n",
       "      <td>2014.0</td>\n",
       "      <td>9.0</td>\n",
       "      <td>28.0</td>\n",
       "      <td>6.0</td>\n",
       "      <td>8.0</td>\n",
       "      <td>18.0</td>\n",
       "      <td>8656.714168</td>\n",
       "    </tr>\n",
       "  </tbody>\n",
       "</table>\n",
       "</div>"
      ],
      "text/plain": [
       "       fare_amount     pickup_datetime  pickup_longitude  pickup_latitude  \\\n",
       "472           2.50 2009-02-22 22:48:00          0.000000         0.000000   \n",
       "1260          5.70 2011-03-10 20:25:00        -73.973907        40.754743   \n",
       "2397         45.00 2012-06-24 17:11:10          0.000000         0.000000   \n",
       "4278          7.00 2015-04-07 23:33:02        -73.972702        40.757423   \n",
       "4597          6.90 2010-03-30 07:12:00          0.000000         0.000000   \n",
       "6188         15.50 2014-07-28 15:04:00          0.000000         0.000000   \n",
       "6302         16.50 2015-02-27 16:18:58          0.000000         0.000000   \n",
       "8647         21.50 2014-03-27 18:01:00        -74.001808        40.750782   \n",
       "9147          8.50 2014-07-14 21:37:29          0.000000         0.000000   \n",
       "10215        13.30 2011-03-18 09:33:41          0.000000         0.000000   \n",
       "10458         2.50 2013-02-23 20:58:00        -73.979678        40.765962   \n",
       "10488         5.30 2012-03-15 00:30:07        -73.978103        40.751798   \n",
       "10672        18.00 2015-04-30 15:34:46        -73.979355        40.753902   \n",
       "11653        16.00 2015-03-04 16:06:28          0.000000         0.000000   \n",
       "12705         2.50 2012-10-31 14:37:00        -73.929230        40.744627   \n",
       "12983        57.33 2013-03-07 21:04:00        -73.958870        40.760012   \n",
       "13340        18.50 2014-03-31 12:34:47          0.000000         0.000000   \n",
       "14197        48.00 2013-04-19 16:49:00        -73.870945        40.773700   \n",
       "15783        26.50 2014-09-28 08:18:55          0.000000         0.000000   \n",
       "\n",
       "       dropoff_longitude  dropoff_latitude  passenger_count    Year  Month  \\\n",
       "472           -74.005433         40.726685              2.0  2009.0    2.0   \n",
       "1260            0.000000          0.000000              2.0  2011.0    3.0   \n",
       "2397          -74.010230         40.714553              2.0  2012.0    6.0   \n",
       "4278            0.000000          0.000000              1.0  2015.0    4.0   \n",
       "4597          -73.989693         40.754280              1.0  2010.0    3.0   \n",
       "6188          -73.952980         40.786670              5.0  2014.0    7.0   \n",
       "6302          -73.936600         40.796543              1.0  2015.0    2.0   \n",
       "8647            0.000000          0.000000              1.0  2014.0    3.0   \n",
       "9147          -74.002037         40.752035              1.0  2014.0    7.0   \n",
       "10215         -73.990138         40.753392              1.0  2011.0    3.0   \n",
       "10458           0.000000          0.000000              1.0  2013.0    2.0   \n",
       "10488           0.000000          0.000000              1.0  2012.0    3.0   \n",
       "10672           0.000000          0.000000              1.0  2015.0    4.0   \n",
       "11653         -73.985329         40.778534              1.0  2015.0    3.0   \n",
       "12705           0.000000          0.000000              5.0  2012.0   10.0   \n",
       "12983           0.000000          0.000000              1.0  2013.0    3.0   \n",
       "13340         -73.997643         40.724432              1.0  2014.0    3.0   \n",
       "14197           0.000000          0.000000              1.0  2013.0    4.0   \n",
       "15783         -73.867056         40.768823              1.0  2014.0    9.0   \n",
       "\n",
       "       Date  Day  Hour  Minute     distance  \n",
       "472    22.0  6.0  22.0    48.0  8667.304968  \n",
       "1260   10.0  3.0  20.0    25.0  8665.268588  \n",
       "2397   24.0  6.0  17.0    11.0  8667.454421  \n",
       "4278    7.0  1.0  23.0    33.0  8665.223767  \n",
       "4597   30.0  1.0   7.0    12.0  8666.566030  \n",
       "6188   28.0  0.0  15.0     4.0  8664.191488  \n",
       "6302   27.0  4.0  16.0    18.0  8663.039123  \n",
       "8647   27.0  3.0  18.0     1.0  8667.497512  \n",
       "9147   14.0  0.0  21.0    37.0  8667.542104  \n",
       "10215  18.0  4.0   9.0    33.0  8666.584706  \n",
       "10458  23.0  5.0  20.0    58.0  8665.976222  \n",
       "10488  15.0  3.0   0.0    30.0  8665.555634  \n",
       "10672  30.0  3.0  15.0    34.0  8665.702390  \n",
       "11653   4.0  2.0  16.0     6.0  8666.701504  \n",
       "12705  31.0  2.0  14.0    37.0  8661.362152  \n",
       "12983   7.0  3.0  21.0     4.0  8664.131808  \n",
       "13340  31.0  0.0  12.0    34.0  8666.613646  \n",
       "14197  19.0  4.0  16.0    49.0  8657.136619  \n",
       "15783  28.0  6.0   8.0    18.0  8656.714168  "
      ]
     },
     "execution_count": 144,
     "metadata": {},
     "output_type": "execute_result"
    }
   ],
   "source": [
    "train[train[\"distance\"] > 8000]"
   ]
  },
  {
   "cell_type": "code",
   "execution_count": null,
   "id": "856e3791-bac5-48cc-b8e1-ad1faa619013",
   "metadata": {},
   "outputs": [],
   "source": [
    "# the top 23 values in distance column is very high it cant be graeter than 8000 because it is the maximum distance of the earth\n",
    "# we remove those values the top distance goes down to 127"
   ]
  },
  {
   "cell_type": "code",
   "execution_count": 145,
   "id": "30281d16-5dff-4488-9f93-23c338cd59e5",
   "metadata": {},
   "outputs": [
    {
     "data": {
      "text/plain": [
       "(15878, 14)"
      ]
     },
     "execution_count": 145,
     "metadata": {},
     "output_type": "execute_result"
    }
   ],
   "source": [
    "#  we will remove the rows whose distancee value is very high which is more than 129km\n",
    "train = train.drop(train[train['distance'] > 130 ].index, axis = 0)\n",
    "train.shape"
   ]
  },
  {
   "cell_type": "code",
   "execution_count": 146,
   "id": "5f404860-9d57-459b-b39b-a5b7f6a1d168",
   "metadata": {},
   "outputs": [
    {
     "data": {
      "text/plain": [
       "Counter({False: 15424, True: 454})"
      ]
     },
     "execution_count": 146,
     "metadata": {},
     "output_type": "execute_result"
    }
   ],
   "source": [
    "Counter(train['distance'] == 0)"
   ]
  },
  {
   "cell_type": "code",
   "execution_count": 147,
   "id": "49cea1fb-1470-4ca5-aef3-ae60b478b160",
   "metadata": {},
   "outputs": [
    {
     "data": {
      "text/plain": [
       "Counter({False: 9829, True: 85})"
      ]
     },
     "execution_count": 147,
     "metadata": {},
     "output_type": "execute_result"
    }
   ],
   "source": [
    "Counter(test['distance'] == 0)"
   ]
  },
  {
   "cell_type": "code",
   "execution_count": 148,
   "id": "fc75b253-e061-4586-bd10-84f9bb4df4d1",
   "metadata": {},
   "outputs": [
    {
     "data": {
      "text/plain": [
       "(15424, 14)"
      ]
     },
     "execution_count": 148,
     "metadata": {},
     "output_type": "execute_result"
    }
   ],
   "source": [
    "# we need to drop all the distance values which are equal to 0\n",
    "train = train.drop(train[train['distance'] == 0 ].index, axis = 0)\n",
    "train.shape"
   ]
  },
  {
   "cell_type": "code",
   "execution_count": 149,
   "id": "bf1fc7b1-3637-41c5-8869-b52258a684a6",
   "metadata": {},
   "outputs": [
    {
     "data": {
      "text/plain": [
       "(9829, 13)"
      ]
     },
     "execution_count": 149,
     "metadata": {},
     "output_type": "execute_result"
    }
   ],
   "source": [
    "test = test.drop(test[test['distance'] == 0 ].index, axis = 0)\n",
    "test.shape"
   ]
  },
  {
   "cell_type": "code",
   "execution_count": 150,
   "id": "83fcb44d-35ee-4a31-9cc4-e2d8cc8be050",
   "metadata": {},
   "outputs": [],
   "source": [
    "#  we have splitted pickp_datetime into yaer , month, day, hour, minute so pickup_datetime would be irrelevant so we will be dropping it. We have already calculated distance usinfg the pickup and droppoff longitude and latitude respectively. So we will be dropping all those variables"
   ]
  },
  {
   "cell_type": "code",
   "execution_count": 151,
   "id": "2aa08674-1754-403c-b007-450a5a7518db",
   "metadata": {},
   "outputs": [
    {
     "data": {
      "text/html": [
       "<div>\n",
       "<style scoped>\n",
       "    .dataframe tbody tr th:only-of-type {\n",
       "        vertical-align: middle;\n",
       "    }\n",
       "\n",
       "    .dataframe tbody tr th {\n",
       "        vertical-align: top;\n",
       "    }\n",
       "\n",
       "    .dataframe thead th {\n",
       "        text-align: right;\n",
       "    }\n",
       "</style>\n",
       "<table border=\"1\" class=\"dataframe\">\n",
       "  <thead>\n",
       "    <tr style=\"text-align: right;\">\n",
       "      <th></th>\n",
       "      <th>fare_amount</th>\n",
       "      <th>pickup_datetime</th>\n",
       "      <th>pickup_longitude</th>\n",
       "      <th>pickup_latitude</th>\n",
       "      <th>dropoff_longitude</th>\n",
       "      <th>dropoff_latitude</th>\n",
       "      <th>passenger_count</th>\n",
       "      <th>Year</th>\n",
       "      <th>Month</th>\n",
       "      <th>Date</th>\n",
       "      <th>Day</th>\n",
       "      <th>Hour</th>\n",
       "      <th>Minute</th>\n",
       "      <th>distance</th>\n",
       "    </tr>\n",
       "  </thead>\n",
       "  <tbody>\n",
       "    <tr>\n",
       "      <th>0</th>\n",
       "      <td>4.5</td>\n",
       "      <td>2009-06-15 17:26:21</td>\n",
       "      <td>-73.844311</td>\n",
       "      <td>40.721319</td>\n",
       "      <td>-73.841610</td>\n",
       "      <td>40.712278</td>\n",
       "      <td>1.0</td>\n",
       "      <td>2009.0</td>\n",
       "      <td>6.0</td>\n",
       "      <td>15.0</td>\n",
       "      <td>0.0</td>\n",
       "      <td>17.0</td>\n",
       "      <td>26.0</td>\n",
       "      <td>1.030764</td>\n",
       "    </tr>\n",
       "    <tr>\n",
       "      <th>1</th>\n",
       "      <td>16.9</td>\n",
       "      <td>2010-01-05 16:52:16</td>\n",
       "      <td>-74.016048</td>\n",
       "      <td>40.711303</td>\n",
       "      <td>-73.979268</td>\n",
       "      <td>40.782004</td>\n",
       "      <td>1.0</td>\n",
       "      <td>2010.0</td>\n",
       "      <td>1.0</td>\n",
       "      <td>5.0</td>\n",
       "      <td>1.0</td>\n",
       "      <td>16.0</td>\n",
       "      <td>52.0</td>\n",
       "      <td>8.450134</td>\n",
       "    </tr>\n",
       "    <tr>\n",
       "      <th>2</th>\n",
       "      <td>5.7</td>\n",
       "      <td>2011-08-18 00:35:00</td>\n",
       "      <td>-73.982738</td>\n",
       "      <td>40.761270</td>\n",
       "      <td>-73.991242</td>\n",
       "      <td>40.750562</td>\n",
       "      <td>2.0</td>\n",
       "      <td>2011.0</td>\n",
       "      <td>8.0</td>\n",
       "      <td>18.0</td>\n",
       "      <td>3.0</td>\n",
       "      <td>0.0</td>\n",
       "      <td>35.0</td>\n",
       "      <td>1.389525</td>\n",
       "    </tr>\n",
       "    <tr>\n",
       "      <th>3</th>\n",
       "      <td>7.7</td>\n",
       "      <td>2012-04-21 04:30:42</td>\n",
       "      <td>-73.987130</td>\n",
       "      <td>40.733143</td>\n",
       "      <td>-73.991567</td>\n",
       "      <td>40.758092</td>\n",
       "      <td>1.0</td>\n",
       "      <td>2012.0</td>\n",
       "      <td>4.0</td>\n",
       "      <td>21.0</td>\n",
       "      <td>5.0</td>\n",
       "      <td>4.0</td>\n",
       "      <td>30.0</td>\n",
       "      <td>2.799270</td>\n",
       "    </tr>\n",
       "    <tr>\n",
       "      <th>4</th>\n",
       "      <td>5.3</td>\n",
       "      <td>2010-03-09 07:51:00</td>\n",
       "      <td>-73.968095</td>\n",
       "      <td>40.768008</td>\n",
       "      <td>-73.956655</td>\n",
       "      <td>40.783762</td>\n",
       "      <td>1.0</td>\n",
       "      <td>2010.0</td>\n",
       "      <td>3.0</td>\n",
       "      <td>9.0</td>\n",
       "      <td>1.0</td>\n",
       "      <td>7.0</td>\n",
       "      <td>51.0</td>\n",
       "      <td>1.999157</td>\n",
       "    </tr>\n",
       "    <tr>\n",
       "      <th>...</th>\n",
       "      <td>...</td>\n",
       "      <td>...</td>\n",
       "      <td>...</td>\n",
       "      <td>...</td>\n",
       "      <td>...</td>\n",
       "      <td>...</td>\n",
       "      <td>...</td>\n",
       "      <td>...</td>\n",
       "      <td>...</td>\n",
       "      <td>...</td>\n",
       "      <td>...</td>\n",
       "      <td>...</td>\n",
       "      <td>...</td>\n",
       "      <td>...</td>\n",
       "    </tr>\n",
       "    <tr>\n",
       "      <th>16061</th>\n",
       "      <td>10.9</td>\n",
       "      <td>2009-05-20 18:56:42</td>\n",
       "      <td>-73.994191</td>\n",
       "      <td>40.751138</td>\n",
       "      <td>-73.962769</td>\n",
       "      <td>40.769719</td>\n",
       "      <td>1.0</td>\n",
       "      <td>2009.0</td>\n",
       "      <td>5.0</td>\n",
       "      <td>20.0</td>\n",
       "      <td>2.0</td>\n",
       "      <td>18.0</td>\n",
       "      <td>56.0</td>\n",
       "      <td>3.357490</td>\n",
       "    </tr>\n",
       "    <tr>\n",
       "      <th>16062</th>\n",
       "      <td>6.5</td>\n",
       "      <td>2014-12-12 07:41:00</td>\n",
       "      <td>-74.008820</td>\n",
       "      <td>40.718757</td>\n",
       "      <td>-73.998865</td>\n",
       "      <td>40.719987</td>\n",
       "      <td>1.0</td>\n",
       "      <td>2014.0</td>\n",
       "      <td>12.0</td>\n",
       "      <td>12.0</td>\n",
       "      <td>4.0</td>\n",
       "      <td>7.0</td>\n",
       "      <td>41.0</td>\n",
       "      <td>0.850044</td>\n",
       "    </tr>\n",
       "    <tr>\n",
       "      <th>16063</th>\n",
       "      <td>16.1</td>\n",
       "      <td>2009-07-13 07:58:00</td>\n",
       "      <td>-73.981310</td>\n",
       "      <td>40.781695</td>\n",
       "      <td>-74.014392</td>\n",
       "      <td>40.715527</td>\n",
       "      <td>2.0</td>\n",
       "      <td>2009.0</td>\n",
       "      <td>7.0</td>\n",
       "      <td>13.0</td>\n",
       "      <td>0.0</td>\n",
       "      <td>7.0</td>\n",
       "      <td>58.0</td>\n",
       "      <td>7.867638</td>\n",
       "    </tr>\n",
       "    <tr>\n",
       "      <th>16064</th>\n",
       "      <td>8.5</td>\n",
       "      <td>2009-11-11 11:19:07</td>\n",
       "      <td>-73.972507</td>\n",
       "      <td>40.753417</td>\n",
       "      <td>-73.979577</td>\n",
       "      <td>40.765495</td>\n",
       "      <td>1.0</td>\n",
       "      <td>2009.0</td>\n",
       "      <td>11.0</td>\n",
       "      <td>11.0</td>\n",
       "      <td>2.0</td>\n",
       "      <td>11.0</td>\n",
       "      <td>19.0</td>\n",
       "      <td>1.469105</td>\n",
       "    </tr>\n",
       "    <tr>\n",
       "      <th>16065</th>\n",
       "      <td>8.1</td>\n",
       "      <td>2010-05-11 23:53:00</td>\n",
       "      <td>-73.957027</td>\n",
       "      <td>40.765945</td>\n",
       "      <td>-73.981983</td>\n",
       "      <td>40.779560</td>\n",
       "      <td>1.0</td>\n",
       "      <td>2010.0</td>\n",
       "      <td>5.0</td>\n",
       "      <td>11.0</td>\n",
       "      <td>1.0</td>\n",
       "      <td>23.0</td>\n",
       "      <td>53.0</td>\n",
       "      <td>2.590036</td>\n",
       "    </tr>\n",
       "  </tbody>\n",
       "</table>\n",
       "<p>15424 rows × 14 columns</p>\n",
       "</div>"
      ],
      "text/plain": [
       "       fare_amount     pickup_datetime  pickup_longitude  pickup_latitude  \\\n",
       "0              4.5 2009-06-15 17:26:21        -73.844311        40.721319   \n",
       "1             16.9 2010-01-05 16:52:16        -74.016048        40.711303   \n",
       "2              5.7 2011-08-18 00:35:00        -73.982738        40.761270   \n",
       "3              7.7 2012-04-21 04:30:42        -73.987130        40.733143   \n",
       "4              5.3 2010-03-09 07:51:00        -73.968095        40.768008   \n",
       "...            ...                 ...               ...              ...   \n",
       "16061         10.9 2009-05-20 18:56:42        -73.994191        40.751138   \n",
       "16062          6.5 2014-12-12 07:41:00        -74.008820        40.718757   \n",
       "16063         16.1 2009-07-13 07:58:00        -73.981310        40.781695   \n",
       "16064          8.5 2009-11-11 11:19:07        -73.972507        40.753417   \n",
       "16065          8.1 2010-05-11 23:53:00        -73.957027        40.765945   \n",
       "\n",
       "       dropoff_longitude  dropoff_latitude  passenger_count    Year  Month  \\\n",
       "0             -73.841610         40.712278              1.0  2009.0    6.0   \n",
       "1             -73.979268         40.782004              1.0  2010.0    1.0   \n",
       "2             -73.991242         40.750562              2.0  2011.0    8.0   \n",
       "3             -73.991567         40.758092              1.0  2012.0    4.0   \n",
       "4             -73.956655         40.783762              1.0  2010.0    3.0   \n",
       "...                  ...               ...              ...     ...    ...   \n",
       "16061         -73.962769         40.769719              1.0  2009.0    5.0   \n",
       "16062         -73.998865         40.719987              1.0  2014.0   12.0   \n",
       "16063         -74.014392         40.715527              2.0  2009.0    7.0   \n",
       "16064         -73.979577         40.765495              1.0  2009.0   11.0   \n",
       "16065         -73.981983         40.779560              1.0  2010.0    5.0   \n",
       "\n",
       "       Date  Day  Hour  Minute  distance  \n",
       "0      15.0  0.0  17.0    26.0  1.030764  \n",
       "1       5.0  1.0  16.0    52.0  8.450134  \n",
       "2      18.0  3.0   0.0    35.0  1.389525  \n",
       "3      21.0  5.0   4.0    30.0  2.799270  \n",
       "4       9.0  1.0   7.0    51.0  1.999157  \n",
       "...     ...  ...   ...     ...       ...  \n",
       "16061  20.0  2.0  18.0    56.0  3.357490  \n",
       "16062  12.0  4.0   7.0    41.0  0.850044  \n",
       "16063  13.0  0.0   7.0    58.0  7.867638  \n",
       "16064  11.0  2.0  11.0    19.0  1.469105  \n",
       "16065  11.0  1.0  23.0    53.0  2.590036  \n",
       "\n",
       "[15424 rows x 14 columns]"
      ]
     },
     "execution_count": 151,
     "metadata": {},
     "output_type": "execute_result"
    }
   ],
   "source": [
    "train"
   ]
  },
  {
   "cell_type": "code",
   "execution_count": 152,
   "id": "aa85b0c7-17aa-4196-af03-ed72fb9d2d67",
   "metadata": {},
   "outputs": [],
   "source": [
    "drop_columns = ['pickup_datetime', 'pickup_longitude', 'pickup_latitude', 'dropoff_longitude', 'dropoff_latitude', 'Minute']\n",
    "train = train.drop(drop_columns, axis = 1)"
   ]
  },
  {
   "cell_type": "code",
   "execution_count": 154,
   "id": "67c2ace3-8e4c-4262-b964-c686ae0092a9",
   "metadata": {},
   "outputs": [
    {
     "data": {
      "text/html": [
       "<div>\n",
       "<style scoped>\n",
       "    .dataframe tbody tr th:only-of-type {\n",
       "        vertical-align: middle;\n",
       "    }\n",
       "\n",
       "    .dataframe tbody tr th {\n",
       "        vertical-align: top;\n",
       "    }\n",
       "\n",
       "    .dataframe thead th {\n",
       "        text-align: right;\n",
       "    }\n",
       "</style>\n",
       "<table border=\"1\" class=\"dataframe\">\n",
       "  <thead>\n",
       "    <tr style=\"text-align: right;\">\n",
       "      <th></th>\n",
       "      <th>fare_amount</th>\n",
       "      <th>passenger_count</th>\n",
       "      <th>Year</th>\n",
       "      <th>Month</th>\n",
       "      <th>Date</th>\n",
       "      <th>Day</th>\n",
       "      <th>Hour</th>\n",
       "      <th>distance</th>\n",
       "    </tr>\n",
       "  </thead>\n",
       "  <tbody>\n",
       "    <tr>\n",
       "      <th>0</th>\n",
       "      <td>4.5</td>\n",
       "      <td>1.0</td>\n",
       "      <td>2009.0</td>\n",
       "      <td>6.0</td>\n",
       "      <td>15.0</td>\n",
       "      <td>0.0</td>\n",
       "      <td>17.0</td>\n",
       "      <td>1.030764</td>\n",
       "    </tr>\n",
       "    <tr>\n",
       "      <th>1</th>\n",
       "      <td>16.9</td>\n",
       "      <td>1.0</td>\n",
       "      <td>2010.0</td>\n",
       "      <td>1.0</td>\n",
       "      <td>5.0</td>\n",
       "      <td>1.0</td>\n",
       "      <td>16.0</td>\n",
       "      <td>8.450134</td>\n",
       "    </tr>\n",
       "    <tr>\n",
       "      <th>2</th>\n",
       "      <td>5.7</td>\n",
       "      <td>2.0</td>\n",
       "      <td>2011.0</td>\n",
       "      <td>8.0</td>\n",
       "      <td>18.0</td>\n",
       "      <td>3.0</td>\n",
       "      <td>0.0</td>\n",
       "      <td>1.389525</td>\n",
       "    </tr>\n",
       "    <tr>\n",
       "      <th>3</th>\n",
       "      <td>7.7</td>\n",
       "      <td>1.0</td>\n",
       "      <td>2012.0</td>\n",
       "      <td>4.0</td>\n",
       "      <td>21.0</td>\n",
       "      <td>5.0</td>\n",
       "      <td>4.0</td>\n",
       "      <td>2.799270</td>\n",
       "    </tr>\n",
       "    <tr>\n",
       "      <th>4</th>\n",
       "      <td>5.3</td>\n",
       "      <td>1.0</td>\n",
       "      <td>2010.0</td>\n",
       "      <td>3.0</td>\n",
       "      <td>9.0</td>\n",
       "      <td>1.0</td>\n",
       "      <td>7.0</td>\n",
       "      <td>1.999157</td>\n",
       "    </tr>\n",
       "  </tbody>\n",
       "</table>\n",
       "</div>"
      ],
      "text/plain": [
       "   fare_amount  passenger_count    Year  Month  Date  Day  Hour  distance\n",
       "0          4.5              1.0  2009.0    6.0  15.0  0.0  17.0  1.030764\n",
       "1         16.9              1.0  2010.0    1.0   5.0  1.0  16.0  8.450134\n",
       "2          5.7              2.0  2011.0    8.0  18.0  3.0   0.0  1.389525\n",
       "3          7.7              1.0  2012.0    4.0  21.0  5.0   4.0  2.799270\n",
       "4          5.3              1.0  2010.0    3.0   9.0  1.0   7.0  1.999157"
      ]
     },
     "execution_count": 154,
     "metadata": {},
     "output_type": "execute_result"
    }
   ],
   "source": [
    "train.head()"
   ]
  },
  {
   "cell_type": "code",
   "execution_count": 156,
   "id": "ae9d4b72-1dc3-4719-a541-481651cf4a2a",
   "metadata": {},
   "outputs": [
    {
     "data": {
      "text/plain": [
       "fare_amount        float64\n",
       "passenger_count    float64\n",
       "Year               float64\n",
       "Month              float64\n",
       "Date               float64\n",
       "Day                float64\n",
       "Hour               float64\n",
       "distance           float64\n",
       "dtype: object"
      ]
     },
     "execution_count": 156,
     "metadata": {},
     "output_type": "execute_result"
    }
   ],
   "source": [
    "train.dtypes"
   ]
  },
  {
   "cell_type": "code",
   "execution_count": 157,
   "id": "540b0892-410e-42c7-a1f6-bd69b41d9004",
   "metadata": {},
   "outputs": [
    {
     "data": {
      "text/plain": [
       "pickup_datetime      datetime64[ns]\n",
       "pickup_longitude            float64\n",
       "pickup_latitude             float64\n",
       "dropoff_longitude           float64\n",
       "dropoff_latitude            float64\n",
       "passenger_count               int64\n",
       "Year                          int32\n",
       "Month                         int32\n",
       "Date                          int32\n",
       "Day                           int32\n",
       "Hour                          int32\n",
       "Minute                        int32\n",
       "distance                    float64\n",
       "dtype: object"
      ]
     },
     "execution_count": 157,
     "metadata": {},
     "output_type": "execute_result"
    }
   ],
   "source": [
    "test.dtypes"
   ]
  },
  {
   "cell_type": "code",
   "execution_count": 158,
   "id": "4b5cad76-378c-4e5a-bff9-8230bea6829b",
   "metadata": {},
   "outputs": [],
   "source": [
    "drop_columns = ['pickup_datetime', 'pickup_longitude', 'pickup_latitude', 'dropoff_longitude', 'dropoff_latitude', 'Minute']\n",
    "test = test.drop(drop_columns, axis = 1)"
   ]
  },
  {
   "cell_type": "code",
   "execution_count": 159,
   "id": "7d469285-4496-4837-952a-5bdd5ec982c5",
   "metadata": {},
   "outputs": [
    {
     "data": {
      "text/html": [
       "<div>\n",
       "<style scoped>\n",
       "    .dataframe tbody tr th:only-of-type {\n",
       "        vertical-align: middle;\n",
       "    }\n",
       "\n",
       "    .dataframe tbody tr th {\n",
       "        vertical-align: top;\n",
       "    }\n",
       "\n",
       "    .dataframe thead th {\n",
       "        text-align: right;\n",
       "    }\n",
       "</style>\n",
       "<table border=\"1\" class=\"dataframe\">\n",
       "  <thead>\n",
       "    <tr style=\"text-align: right;\">\n",
       "      <th></th>\n",
       "      <th>passenger_count</th>\n",
       "      <th>Year</th>\n",
       "      <th>Month</th>\n",
       "      <th>Date</th>\n",
       "      <th>Day</th>\n",
       "      <th>Hour</th>\n",
       "      <th>distance</th>\n",
       "    </tr>\n",
       "  </thead>\n",
       "  <tbody>\n",
       "    <tr>\n",
       "      <th>0</th>\n",
       "      <td>1</td>\n",
       "      <td>2015</td>\n",
       "      <td>1</td>\n",
       "      <td>27</td>\n",
       "      <td>1</td>\n",
       "      <td>13</td>\n",
       "      <td>2.323259</td>\n",
       "    </tr>\n",
       "    <tr>\n",
       "      <th>1</th>\n",
       "      <td>1</td>\n",
       "      <td>2015</td>\n",
       "      <td>1</td>\n",
       "      <td>27</td>\n",
       "      <td>1</td>\n",
       "      <td>13</td>\n",
       "      <td>2.425353</td>\n",
       "    </tr>\n",
       "    <tr>\n",
       "      <th>2</th>\n",
       "      <td>1</td>\n",
       "      <td>2011</td>\n",
       "      <td>10</td>\n",
       "      <td>8</td>\n",
       "      <td>5</td>\n",
       "      <td>11</td>\n",
       "      <td>0.618628</td>\n",
       "    </tr>\n",
       "    <tr>\n",
       "      <th>3</th>\n",
       "      <td>1</td>\n",
       "      <td>2012</td>\n",
       "      <td>12</td>\n",
       "      <td>1</td>\n",
       "      <td>5</td>\n",
       "      <td>21</td>\n",
       "      <td>1.961033</td>\n",
       "    </tr>\n",
       "    <tr>\n",
       "      <th>4</th>\n",
       "      <td>1</td>\n",
       "      <td>2012</td>\n",
       "      <td>12</td>\n",
       "      <td>1</td>\n",
       "      <td>5</td>\n",
       "      <td>21</td>\n",
       "      <td>5.387301</td>\n",
       "    </tr>\n",
       "  </tbody>\n",
       "</table>\n",
       "</div>"
      ],
      "text/plain": [
       "   passenger_count  Year  Month  Date  Day  Hour  distance\n",
       "0                1  2015      1    27    1    13  2.323259\n",
       "1                1  2015      1    27    1    13  2.425353\n",
       "2                1  2011     10     8    5    11  0.618628\n",
       "3                1  2012     12     1    5    21  1.961033\n",
       "4                1  2012     12     1    5    21  5.387301"
      ]
     },
     "execution_count": 159,
     "metadata": {},
     "output_type": "execute_result"
    }
   ],
   "source": [
    "test.head()"
   ]
  },
  {
   "cell_type": "code",
   "execution_count": 160,
   "id": "df853196-d08b-443a-b901-83851ceb9ada",
   "metadata": {},
   "outputs": [
    {
     "data": {
      "text/plain": [
       "passenger_count      int64\n",
       "Year                 int32\n",
       "Month                int32\n",
       "Date                 int32\n",
       "Day                  int32\n",
       "Hour                 int32\n",
       "distance           float64\n",
       "dtype: object"
      ]
     },
     "execution_count": 160,
     "metadata": {},
     "output_type": "execute_result"
    }
   ],
   "source": [
    "test.dtypes"
   ]
  },
  {
   "cell_type": "code",
   "execution_count": 162,
   "id": "1512ad35-6bf5-41c2-b672-4b4c31bc9bbe",
   "metadata": {},
   "outputs": [],
   "source": [
    "# converting variables of float datatype to int datatype\n",
    "train[\"passenger_count\"] = train[\"passenger_count\"].astype('int64')\n",
    "train[\"Year\"] = train[\"Year\"].astype('int64')\n",
    "train[\"Month\"] = train[\"Month\"].astype('int64')\n",
    "train[\"Date\"] = train[\"Date\"].astype('int64')\n",
    "train[\"Day\"] = train[\"Day\"].astype('int64')\n",
    "train[\"Hour\"] = train[\"Hour\"].astype('int64')"
   ]
  },
  {
   "cell_type": "code",
   "execution_count": 163,
   "id": "8b6586b7-ecff-478b-8db0-ad2e88aa40fe",
   "metadata": {},
   "outputs": [
    {
     "data": {
      "text/plain": [
       "fare_amount        float64\n",
       "passenger_count      int64\n",
       "Year                 int64\n",
       "Month                int64\n",
       "Date                 int64\n",
       "Day                  int64\n",
       "Hour                 int64\n",
       "distance           float64\n",
       "dtype: object"
      ]
     },
     "execution_count": 163,
     "metadata": {},
     "output_type": "execute_result"
    }
   ],
   "source": [
    "train.dtypes"
   ]
  },
  {
   "cell_type": "code",
   "execution_count": 164,
   "id": "79d8231f-010e-4d5e-b26f-0d7899091a35",
   "metadata": {},
   "outputs": [],
   "source": [
    "# data Visualization\n",
    "# visualization of the following\n",
    "\n",
    "# 1 Number of passengers affecting the fare\n",
    "# 2. Pickup date and time affecting the fare\n",
    "# 3. Day of the week affecting the fare\n",
    "# 4. Distance affecting the fare"
   ]
  },
  {
   "cell_type": "code",
   "execution_count": 165,
   "id": "ed7a356b-3e38-470a-9493-79cc255ffbce",
   "metadata": {},
   "outputs": [
    {
     "data": {
      "text/plain": [
       "<Axes: xlabel='passenger_count', ylabel='count'>"
      ]
     },
     "execution_count": 165,
     "metadata": {},
     "output_type": "execute_result"
    },
    {
     "data": {
      "image/png": "[encoded data removed]",
      "text/plain": [
       "<Figure size 1500x700 with 1 Axes>"
      ]
     },
     "metadata": {},
     "output_type": "display_data"
    }
   ],
   "source": [
    "# counting the number of passenger vs number of rides\n",
    "plt.figure(figsize = (15,7))\n",
    "sns.countplot(x = 'passenger_count', data = train)"
   ]
  },
  {
   "cell_type": "code",
   "execution_count": null,
   "id": "aa10dc7c-133b-4f85-bcbb-f59445109747",
   "metadata": {},
   "outputs": [],
   "source": [
    "# Single and double travelling passengers are the most frequent rides taken"
   ]
  },
  {
   "cell_type": "code",
   "execution_count": 168,
   "id": "cd5efe60-a427-4c5f-9d38-77574e54ff87",
   "metadata": {},
   "outputs": [
    {
     "data": {
      "image/png": "[encoded data removed]",
      "text/plain": [
       "<Figure size 1500x700 with 1 Axes>"
      ]
     },
     "metadata": {},
     "output_type": "display_data"
    }
   ],
   "source": [
    "# relationship between number of passenger and fare\n",
    "plt.figure(figsize = (15,7))\n",
    "plt.scatter(x = train['passenger_count'], y = train['fare_amount'], s =10)\n",
    "plt.xlabel('Number Of Passengers')\n",
    "plt.ylabel('Fare')\n",
    "plt.show()"
   ]
  },
  {
   "cell_type": "code",
   "execution_count": 169,
   "id": "b4569937-d527-4f99-be6f-3e9a91ab537a",
   "metadata": {},
   "outputs": [],
   "source": [
    "# Singe and double travelling passenger rides had a maximum fare"
   ]
  },
  {
   "cell_type": "code",
   "execution_count": 170,
   "id": "63886bed-a851-43b6-bcb6-48302a8ceac8",
   "metadata": {},
   "outputs": [
    {
     "data": {
      "image/png": "[encoded data removed]",
      "text/plain": [
       "<Figure size 1500x700 with 1 Axes>"
      ]
     },
     "metadata": {},
     "output_type": "display_data"
    }
   ],
   "source": [
    "# relationship between date and fare\n",
    "plt.figure(figsize = (15,7))\n",
    "plt.scatter(x = train['Date'], y = train['fare_amount'], s =10)\n",
    "plt.xlabel('Date')\n",
    "plt.ylabel('Fare')\n",
    "plt.show()"
   ]
  },
  {
   "cell_type": "code",
   "execution_count": 171,
   "id": "84da7988-8a44-4113-aa7f-06c2b41844d9",
   "metadata": {},
   "outputs": [],
   "source": [
    "#  fare is almost equal on all the days of the month"
   ]
  },
  {
   "cell_type": "code",
   "execution_count": 172,
   "id": "b061ae7e-08b8-4fc1-90af-ca4212ecfde7",
   "metadata": {},
   "outputs": [
    {
     "data": {
      "image/png": "[encoded data removed]",
      "text/plain": [
       "<Figure size 1500x700 with 1 Axes>"
      ]
     },
     "metadata": {},
     "output_type": "display_data"
    }
   ],
   "source": [
    "# relationship between hour and fare\n",
    "plt.figure(figsize = (15,7))\n",
    "train.groupby(train['Hour'])['Hour'].count().plot(kind = \"bar\")\n",
    "plt.show()"
   ]
  },
  {
   "cell_type": "code",
   "execution_count": null,
   "id": "3abf1364-1873-40df-9887-0c3e8586c87a",
   "metadata": {},
   "outputs": [],
   "source": [
    "# lowest number of cabs at around 5am and highest number of cabs between 6pm to 7pm "
   ]
  },
  {
   "cell_type": "code",
   "execution_count": 173,
   "id": "a1f96d30-6920-4a9c-aea5-c7d8209addb7",
   "metadata": {},
   "outputs": [
    {
     "data": {
      "image/png": "[encoded data removed]",
      "text/plain": [
       "<Figure size 1500x700 with 1 Axes>"
      ]
     },
     "metadata": {},
     "output_type": "display_data"
    }
   ],
   "source": [
    "# relationship between time of the day and fare\n",
    "plt.figure(figsize = (15,7))\n",
    "plt.scatter(x = train['Hour'], y = train['fare_amount'], s =10)\n",
    "plt.xlabel('Hour')\n",
    "plt.ylabel('Fare')\n",
    "plt.show()"
   ]
  },
  {
   "cell_type": "code",
   "execution_count": 174,
   "id": "554c8029-4714-4224-a4ab-dfa75cadb2a8",
   "metadata": {},
   "outputs": [],
   "source": [
    "# Fare is highest at 7am and around 11pm which tells the fare is highest in the early mornings and the late nights"
   ]
  },
  {
   "cell_type": "code",
   "execution_count": 175,
   "id": "d1e45d4f-7782-4fa8-880f-09dffd97e4da",
   "metadata": {},
   "outputs": [
    {
     "data": {
      "text/plain": [
       "<Axes: xlabel='Day', ylabel='count'>"
      ]
     },
     "execution_count": 175,
     "metadata": {},
     "output_type": "execute_result"
    },
    {
     "data": {
      "image/png": "[encoded data removed]",
      "text/plain": [
       "<Figure size 1500x700 with 1 Axes>"
      ]
     },
     "metadata": {},
     "output_type": "display_data"
    }
   ],
   "source": [
    "# impact of the day on the cab rides\n",
    "plt.figure(figsize = (15,7))\n",
    "sns.countplot(x = 'Day', data = train)"
   ]
  },
  {
   "cell_type": "code",
   "execution_count": 177,
   "id": "111f5469-6da2-4761-bd3f-de78dc148ec7",
   "metadata": {},
   "outputs": [
    {
     "data": {
      "image/png": "[encoded data removed]",
      "text/plain": [
       "<Figure size 1500x700 with 1 Axes>"
      ]
     },
     "metadata": {},
     "output_type": "display_data"
    }
   ],
   "source": [
    "# relatuionship between the day of the week ansd fare\n",
    "plt.figure(figsize = (15,7))\n",
    "plt.scatter(x = train['Day'], y = train['fare_amount'], s =10)\n",
    "plt.xlabel('Day')\n",
    "plt.ylabel('Fare')\n",
    "plt.show()"
   ]
  },
  {
   "cell_type": "code",
   "execution_count": 178,
   "id": "2b4b5313-57ae-4be1-a262-f9fa238810cb",
   "metadata": {},
   "outputs": [],
   "source": [
    "# the cab fares was highest on sunday, monday, thrusday while it was lowest on wednesday saturday\n",
    "# cabs rides were lowest"
   ]
  },
  {
   "cell_type": "code",
   "execution_count": 180,
   "id": "3431a51f-b83b-4db4-913e-f57c4ef22c74",
   "metadata": {},
   "outputs": [
    {
     "data": {
      "image/png": "[encoded data removed]",
      "text/plain": [
       "<Figure size 1500x700 with 1 Axes>"
      ]
     },
     "metadata": {},
     "output_type": "display_data"
    }
   ],
   "source": [
    "# relationship between distance and fare\n",
    "plt.figure(figsize = (15,7))\n",
    "plt.scatter(x = train['distance'], y = train['fare_amount'], s =10)\n",
    "plt.xlabel('Distance')\n",
    "plt.ylabel('Fare')\n",
    "plt.show()"
   ]
  },
  {
   "cell_type": "code",
   "execution_count": null,
   "id": "cdd74837-c53d-481f-8756-13f8a4928da9",
   "metadata": {},
   "outputs": [],
   "source": [
    "# distance increases fare will also increases"
   ]
  },
  {
   "cell_type": "code",
   "execution_count": 181,
   "id": "b7785b87-0298-4cd5-bde4-a2f1f52274b1",
   "metadata": {},
   "outputs": [],
   "source": [
    "# feature Scaling"
   ]
  },
  {
   "cell_type": "code",
   "execution_count": 182,
   "id": "796686de-a9bc-4d1b-b4bc-f5a6c37099e5",
   "metadata": {},
   "outputs": [],
   "source": [
    "# normality check for the training data for the cab fare and distance"
   ]
  },
  {
   "cell_type": "code",
   "execution_count": 188,
   "id": "5acb49a3-e2ba-483f-826e-0812b71611d7",
   "metadata": {},
   "outputs": [
    {
     "name": "stdout",
     "output_type": "stream",
     "text": [
      "fare_amount\n"
     ]
    },
    {
     "name": "stderr",
     "output_type": "stream",
     "text": [
      "C:\\Users\\DELL\\AppData\\Local\\Temp\\ipykernel_5672\\4012568922.py:3: UserWarning: \n",
      "\n",
      "`distplot` is a deprecated function and will be removed in seaborn v0.14.0.\n",
      "\n",
      "Please adapt your code to use either `displot` (a figure-level function with\n",
      "similar flexibility) or `histplot` (an axes-level function for histograms).\n",
      "\n",
      "For a guide to updating your code to use the new functions, please see\n",
      "https://gist.github.com/mwaskom/de44147ed2974457ad6372750bbe5751\n",
      "\n",
      "  sns.distplot(train[i], bins = 'auto', color = 'green')\n"
     ]
    },
    {
     "data": {
      "image/png": "[encoded data removed]",
      "text/plain": [
       "<Figure size 640x480 with 1 Axes>"
      ]
     },
     "metadata": {},
     "output_type": "display_data"
    },
    {
     "name": "stdout",
     "output_type": "stream",
     "text": [
      "distance\n"
     ]
    },
    {
     "name": "stderr",
     "output_type": "stream",
     "text": [
      "C:\\Users\\DELL\\AppData\\Local\\Temp\\ipykernel_5672\\4012568922.py:3: UserWarning: \n",
      "\n",
      "`distplot` is a deprecated function and will be removed in seaborn v0.14.0.\n",
      "\n",
      "Please adapt your code to use either `displot` (a figure-level function with\n",
      "similar flexibility) or `histplot` (an axes-level function for histograms).\n",
      "\n",
      "For a guide to updating your code to use the new functions, please see\n",
      "https://gist.github.com/mwaskom/de44147ed2974457ad6372750bbe5751\n",
      "\n",
      "  sns.distplot(train[i], bins = 'auto', color = 'green')\n"
     ]
    },
    {
     "data": {
      "image/png": "[encoded data removed]",
      "text/plain": [
       "<Figure size 640x480 with 1 Axes>"
      ]
     },
     "metadata": {},
     "output_type": "display_data"
    }
   ],
   "source": [
    "for i in ['fare_amount', 'distance']:\n",
    "    print(i)\n",
    "    sns.distplot(train[i], bins = 'auto', color = 'green')\n",
    "    plt.title(\"Distribution For Variable \" +i)\n",
    "    plt.ylabel(\"Destiny\")\n",
    "    plt.show()"
   ]
  },
  {
   "cell_type": "code",
   "execution_count": 189,
   "id": "6f8c35c3-700a-412b-842c-0923f167bfb4",
   "metadata": {},
   "outputs": [],
   "source": [
    "# since the fare amount is highly skewed applying log transformation to reduce the skewness\n",
    "train['fare_amount'] = np.log1p(train['fare_amount'])\n",
    "\n",
    "# since the distance is highly skewed applying log transformation to reduce the skewness\n",
    "train['distance'] = np.log1p(train['distance'])"
   ]
  },
  {
   "cell_type": "code",
   "execution_count": 190,
   "id": "87035470-3987-4a85-89ea-a9c62dd778f4",
   "metadata": {},
   "outputs": [
    {
     "name": "stdout",
     "output_type": "stream",
     "text": [
      "fare_amount\n"
     ]
    },
    {
     "name": "stderr",
     "output_type": "stream",
     "text": [
      "C:\\Users\\DELL\\AppData\\Local\\Temp\\ipykernel_5672\\349448994.py:5: UserWarning: \n",
      "\n",
      "`distplot` is a deprecated function and will be removed in seaborn v0.14.0.\n",
      "\n",
      "Please adapt your code to use either `displot` (a figure-level function with\n",
      "similar flexibility) or `histplot` (an axes-level function for histograms).\n",
      "\n",
      "For a guide to updating your code to use the new functions, please see\n",
      "https://gist.github.com/mwaskom/de44147ed2974457ad6372750bbe5751\n",
      "\n",
      "  sns.distplot(train[i], bins = 'auto', color = 'green')\n"
     ]
    },
    {
     "data": {
      "image/png": "[encoded data removed]",
      "text/plain": [
       "<Figure size 640x480 with 1 Axes>"
      ]
     },
     "metadata": {},
     "output_type": "display_data"
    },
    {
     "name": "stdout",
     "output_type": "stream",
     "text": [
      "distance\n"
     ]
    },
    {
     "name": "stderr",
     "output_type": "stream",
     "text": [
      "C:\\Users\\DELL\\AppData\\Local\\Temp\\ipykernel_5672\\349448994.py:5: UserWarning: \n",
      "\n",
      "`distplot` is a deprecated function and will be removed in seaborn v0.14.0.\n",
      "\n",
      "Please adapt your code to use either `displot` (a figure-level function with\n",
      "similar flexibility) or `histplot` (an axes-level function for histograms).\n",
      "\n",
      "For a guide to updating your code to use the new functions, please see\n",
      "https://gist.github.com/mwaskom/de44147ed2974457ad6372750bbe5751\n",
      "\n",
      "  sns.distplot(train[i], bins = 'auto', color = 'green')\n"
     ]
    },
    {
     "data": {
      "image/png": "[encoded data removed]",
      "text/plain": [
       "<Figure size 640x480 with 1 Axes>"
      ]
     },
     "metadata": {},
     "output_type": "display_data"
    }
   ],
   "source": [
    "# normality re-check  the data is uniformly distributed or not after log transformation\n",
    "\n",
    "for i in ['fare_amount', 'distance']:\n",
    "    print(i)\n",
    "    sns.distplot(train[i], bins = 'auto', color = 'green')\n",
    "    plt.title(\"Distribution For Variable \" +i)\n",
    "    plt.ylabel(\"Destiny\")\n",
    "    plt.show()"
   ]
  },
  {
   "cell_type": "code",
   "execution_count": 192,
   "id": "5e7ab77e-fea9-4189-9b1c-4889a5f72b44",
   "metadata": {},
   "outputs": [
    {
     "name": "stdout",
     "output_type": "stream",
     "text": [
      "distance\n"
     ]
    },
    {
     "name": "stderr",
     "output_type": "stream",
     "text": [
      "C:\\Users\\DELL\\AppData\\Local\\Temp\\ipykernel_5672\\2140233688.py:5: UserWarning: \n",
      "\n",
      "`distplot` is a deprecated function and will be removed in seaborn v0.14.0.\n",
      "\n",
      "Please adapt your code to use either `displot` (a figure-level function with\n",
      "similar flexibility) or `histplot` (an axes-level function for histograms).\n",
      "\n",
      "For a guide to updating your code to use the new functions, please see\n",
      "https://gist.github.com/mwaskom/de44147ed2974457ad6372750bbe5751\n",
      "\n",
      "  sns.distplot(test[i], bins = 'auto', color = 'green')\n"
     ]
    },
    {
     "data": {
      "image/png": "[encoded data removed]",
      "text/plain": [
       "<Figure size 640x480 with 1 Axes>"
      ]
     },
     "metadata": {},
     "output_type": "display_data"
    }
   ],
   "source": [
    "# normality check for the test data for the cab fare and distance\n",
    "\n",
    "for i in ['distance']:\n",
    "    print(i)\n",
    "    sns.distplot(test[i], bins = 'auto', color = 'green')\n",
    "    plt.title(\"Distribution For Variable \" +i)\n",
    "    plt.ylabel(\"Destiny\")\n",
    "    plt.show()"
   ]
  },
  {
   "cell_type": "code",
   "execution_count": 193,
   "id": "0ca11f34-93f8-4d11-ac86-3115e1c9f02e",
   "metadata": {},
   "outputs": [
    {
     "name": "stdout",
     "output_type": "stream",
     "text": [
      "distance\n"
     ]
    },
    {
     "name": "stderr",
     "output_type": "stream",
     "text": [
      "C:\\Users\\DELL\\AppData\\Local\\Temp\\ipykernel_5672\\445406738.py:8: UserWarning: \n",
      "\n",
      "`distplot` is a deprecated function and will be removed in seaborn v0.14.0.\n",
      "\n",
      "Please adapt your code to use either `displot` (a figure-level function with\n",
      "similar flexibility) or `histplot` (an axes-level function for histograms).\n",
      "\n",
      "For a guide to updating your code to use the new functions, please see\n",
      "https://gist.github.com/mwaskom/de44147ed2974457ad6372750bbe5751\n",
      "\n",
      "  sns.distplot(test[i], bins = 'auto', color = 'green')\n"
     ]
    },
    {
     "data": {
      "image/png": "[encoded data removed]",
      "text/plain": [
       "<Figure size 640x480 with 1 Axes>"
      ]
     },
     "metadata": {},
     "output_type": "display_data"
    }
   ],
   "source": [
    "# normality re-check  the data is uniformly distributed or not after log transformation\n",
    "\n",
    "# since the distance is highly skewed applying log transformation to reduce the skewness\n",
    "test['distance'] = np.log1p(test['distance'])\n",
    "\n",
    "for i in ['distance']:\n",
    "    print(i)\n",
    "    sns.distplot(test[i], bins = 'auto', color = 'green')\n",
    "    plt.title(\"Distribution For Variable \" +i)\n",
    "    plt.ylabel(\"Destiny\")\n",
    "    plt.show()"
   ]
  },
  {
   "cell_type": "code",
   "execution_count": null,
   "id": "a6b7cd8c-d2c8-4cbc-aaab-d64a27c97434",
   "metadata": {},
   "outputs": [],
   "source": [
    "# after applying log transformation the skewed has already converted into normal distribution so there is no need for log standarization and normalization. We have already got the bell curve"
   ]
  },
  {
   "cell_type": "code",
   "execution_count": null,
   "id": "467e3551-fe14-4af1-951d-d731c869ed74",
   "metadata": {},
   "outputs": [],
   "source": [
    "# Data Modeling- applying Machine learning Algorithms"
   ]
  },
  {
   "cell_type": "code",
   "execution_count": 196,
   "id": "5922a8a3-4bc1-41ca-b312-1130fab43417",
   "metadata": {},
   "outputs": [],
   "source": [
    "# applying train test split on the dataset\n",
    "x_train, x_test, y_train, y_test =  train_test_split(train.iloc[:,train.columns != 'fare_amount'], train.iloc[:, 0], test_size = 0.2, random_state = 1)"
   ]
  },
  {
   "cell_type": "code",
   "execution_count": 197,
   "id": "42b522b4-878b-4e6b-bb74-ce1e92c13169",
   "metadata": {},
   "outputs": [
    {
     "data": {
      "text/html": [
       "<div>\n",
       "<style scoped>\n",
       "    .dataframe tbody tr th:only-of-type {\n",
       "        vertical-align: middle;\n",
       "    }\n",
       "\n",
       "    .dataframe tbody tr th {\n",
       "        vertical-align: top;\n",
       "    }\n",
       "\n",
       "    .dataframe thead th {\n",
       "        text-align: right;\n",
       "    }\n",
       "</style>\n",
       "<table border=\"1\" class=\"dataframe\">\n",
       "  <thead>\n",
       "    <tr style=\"text-align: right;\">\n",
       "      <th></th>\n",
       "      <th>passenger_count</th>\n",
       "      <th>Year</th>\n",
       "      <th>Month</th>\n",
       "      <th>Date</th>\n",
       "      <th>Day</th>\n",
       "      <th>Hour</th>\n",
       "      <th>distance</th>\n",
       "    </tr>\n",
       "  </thead>\n",
       "  <tbody>\n",
       "    <tr>\n",
       "      <th>7690</th>\n",
       "      <td>2</td>\n",
       "      <td>2012</td>\n",
       "      <td>5</td>\n",
       "      <td>16</td>\n",
       "      <td>2</td>\n",
       "      <td>6</td>\n",
       "      <td>1.691253</td>\n",
       "    </tr>\n",
       "    <tr>\n",
       "      <th>13018</th>\n",
       "      <td>1</td>\n",
       "      <td>2014</td>\n",
       "      <td>7</td>\n",
       "      <td>11</td>\n",
       "      <td>4</td>\n",
       "      <td>10</td>\n",
       "      <td>0.828231</td>\n",
       "    </tr>\n",
       "    <tr>\n",
       "      <th>12950</th>\n",
       "      <td>3</td>\n",
       "      <td>2009</td>\n",
       "      <td>6</td>\n",
       "      <td>27</td>\n",
       "      <td>5</td>\n",
       "      <td>17</td>\n",
       "      <td>0.980620</td>\n",
       "    </tr>\n",
       "    <tr>\n",
       "      <th>14009</th>\n",
       "      <td>1</td>\n",
       "      <td>2009</td>\n",
       "      <td>6</td>\n",
       "      <td>12</td>\n",
       "      <td>4</td>\n",
       "      <td>15</td>\n",
       "      <td>0.534072</td>\n",
       "    </tr>\n",
       "    <tr>\n",
       "      <th>2816</th>\n",
       "      <td>5</td>\n",
       "      <td>2013</td>\n",
       "      <td>5</td>\n",
       "      <td>18</td>\n",
       "      <td>5</td>\n",
       "      <td>20</td>\n",
       "      <td>1.141300</td>\n",
       "    </tr>\n",
       "    <tr>\n",
       "      <th>...</th>\n",
       "      <td>...</td>\n",
       "      <td>...</td>\n",
       "      <td>...</td>\n",
       "      <td>...</td>\n",
       "      <td>...</td>\n",
       "      <td>...</td>\n",
       "      <td>...</td>\n",
       "    </tr>\n",
       "    <tr>\n",
       "      <th>994</th>\n",
       "      <td>1</td>\n",
       "      <td>2009</td>\n",
       "      <td>3</td>\n",
       "      <td>24</td>\n",
       "      <td>1</td>\n",
       "      <td>11</td>\n",
       "      <td>1.465260</td>\n",
       "    </tr>\n",
       "    <tr>\n",
       "      <th>5454</th>\n",
       "      <td>1</td>\n",
       "      <td>2014</td>\n",
       "      <td>1</td>\n",
       "      <td>11</td>\n",
       "      <td>5</td>\n",
       "      <td>18</td>\n",
       "      <td>0.666875</td>\n",
       "    </tr>\n",
       "    <tr>\n",
       "      <th>12682</th>\n",
       "      <td>6</td>\n",
       "      <td>2014</td>\n",
       "      <td>1</td>\n",
       "      <td>7</td>\n",
       "      <td>1</td>\n",
       "      <td>9</td>\n",
       "      <td>1.437090</td>\n",
       "    </tr>\n",
       "    <tr>\n",
       "      <th>259</th>\n",
       "      <td>1</td>\n",
       "      <td>2013</td>\n",
       "      <td>5</td>\n",
       "      <td>2</td>\n",
       "      <td>3</td>\n",
       "      <td>3</td>\n",
       "      <td>0.803939</td>\n",
       "    </tr>\n",
       "    <tr>\n",
       "      <th>13919</th>\n",
       "      <td>1</td>\n",
       "      <td>2012</td>\n",
       "      <td>3</td>\n",
       "      <td>20</td>\n",
       "      <td>1</td>\n",
       "      <td>16</td>\n",
       "      <td>2.365173</td>\n",
       "    </tr>\n",
       "  </tbody>\n",
       "</table>\n",
       "<p>12339 rows × 7 columns</p>\n",
       "</div>"
      ],
      "text/plain": [
       "       passenger_count  Year  Month  Date  Day  Hour  distance\n",
       "7690                 2  2012      5    16    2     6  1.691253\n",
       "13018                1  2014      7    11    4    10  0.828231\n",
       "12950                3  2009      6    27    5    17  0.980620\n",
       "14009                1  2009      6    12    4    15  0.534072\n",
       "2816                 5  2013      5    18    5    20  1.141300\n",
       "...                ...   ...    ...   ...  ...   ...       ...\n",
       "994                  1  2009      3    24    1    11  1.465260\n",
       "5454                 1  2014      1    11    5    18  0.666875\n",
       "12682                6  2014      1     7    1     9  1.437090\n",
       "259                  1  2013      5     2    3     3  0.803939\n",
       "13919                1  2012      3    20    1    16  2.365173\n",
       "\n",
       "[12339 rows x 7 columns]"
      ]
     },
     "execution_count": 197,
     "metadata": {},
     "output_type": "execute_result"
    }
   ],
   "source": [
    "x_train"
   ]
  },
  {
   "cell_type": "code",
   "execution_count": 198,
   "id": "c649aad6-688c-4ade-b273-c71346394ea2",
   "metadata": {},
   "outputs": [
    {
     "data": {
      "text/html": [
       "<div>\n",
       "<style scoped>\n",
       "    .dataframe tbody tr th:only-of-type {\n",
       "        vertical-align: middle;\n",
       "    }\n",
       "\n",
       "    .dataframe tbody tr th {\n",
       "        vertical-align: top;\n",
       "    }\n",
       "\n",
       "    .dataframe thead th {\n",
       "        text-align: right;\n",
       "    }\n",
       "</style>\n",
       "<table border=\"1\" class=\"dataframe\">\n",
       "  <thead>\n",
       "    <tr style=\"text-align: right;\">\n",
       "      <th></th>\n",
       "      <th>passenger_count</th>\n",
       "      <th>Year</th>\n",
       "      <th>Month</th>\n",
       "      <th>Date</th>\n",
       "      <th>Day</th>\n",
       "      <th>Hour</th>\n",
       "      <th>distance</th>\n",
       "    </tr>\n",
       "  </thead>\n",
       "  <tbody>\n",
       "    <tr>\n",
       "      <th>1950</th>\n",
       "      <td>1</td>\n",
       "      <td>2011</td>\n",
       "      <td>6</td>\n",
       "      <td>17</td>\n",
       "      <td>4</td>\n",
       "      <td>9</td>\n",
       "      <td>0.875383</td>\n",
       "    </tr>\n",
       "    <tr>\n",
       "      <th>11386</th>\n",
       "      <td>1</td>\n",
       "      <td>2014</td>\n",
       "      <td>10</td>\n",
       "      <td>10</td>\n",
       "      <td>4</td>\n",
       "      <td>23</td>\n",
       "      <td>1.886420</td>\n",
       "    </tr>\n",
       "    <tr>\n",
       "      <th>9920</th>\n",
       "      <td>1</td>\n",
       "      <td>2012</td>\n",
       "      <td>11</td>\n",
       "      <td>13</td>\n",
       "      <td>1</td>\n",
       "      <td>20</td>\n",
       "      <td>2.560544</td>\n",
       "    </tr>\n",
       "    <tr>\n",
       "      <th>12161</th>\n",
       "      <td>5</td>\n",
       "      <td>2013</td>\n",
       "      <td>7</td>\n",
       "      <td>7</td>\n",
       "      <td>6</td>\n",
       "      <td>12</td>\n",
       "      <td>0.181758</td>\n",
       "    </tr>\n",
       "    <tr>\n",
       "      <th>13578</th>\n",
       "      <td>1</td>\n",
       "      <td>2013</td>\n",
       "      <td>8</td>\n",
       "      <td>15</td>\n",
       "      <td>3</td>\n",
       "      <td>13</td>\n",
       "      <td>1.499759</td>\n",
       "    </tr>\n",
       "    <tr>\n",
       "      <th>...</th>\n",
       "      <td>...</td>\n",
       "      <td>...</td>\n",
       "      <td>...</td>\n",
       "      <td>...</td>\n",
       "      <td>...</td>\n",
       "      <td>...</td>\n",
       "      <td>...</td>\n",
       "    </tr>\n",
       "    <tr>\n",
       "      <th>9462</th>\n",
       "      <td>2</td>\n",
       "      <td>2009</td>\n",
       "      <td>2</td>\n",
       "      <td>21</td>\n",
       "      <td>5</td>\n",
       "      <td>12</td>\n",
       "      <td>0.761909</td>\n",
       "    </tr>\n",
       "    <tr>\n",
       "      <th>89</th>\n",
       "      <td>2</td>\n",
       "      <td>2015</td>\n",
       "      <td>3</td>\n",
       "      <td>4</td>\n",
       "      <td>2</td>\n",
       "      <td>14</td>\n",
       "      <td>0.463667</td>\n",
       "    </tr>\n",
       "    <tr>\n",
       "      <th>1520</th>\n",
       "      <td>1</td>\n",
       "      <td>2009</td>\n",
       "      <td>12</td>\n",
       "      <td>16</td>\n",
       "      <td>2</td>\n",
       "      <td>9</td>\n",
       "      <td>1.571316</td>\n",
       "    </tr>\n",
       "    <tr>\n",
       "      <th>11914</th>\n",
       "      <td>1</td>\n",
       "      <td>2014</td>\n",
       "      <td>4</td>\n",
       "      <td>14</td>\n",
       "      <td>0</td>\n",
       "      <td>22</td>\n",
       "      <td>1.242760</td>\n",
       "    </tr>\n",
       "    <tr>\n",
       "      <th>2672</th>\n",
       "      <td>1</td>\n",
       "      <td>2011</td>\n",
       "      <td>9</td>\n",
       "      <td>8</td>\n",
       "      <td>3</td>\n",
       "      <td>10</td>\n",
       "      <td>1.211605</td>\n",
       "    </tr>\n",
       "  </tbody>\n",
       "</table>\n",
       "<p>3085 rows × 7 columns</p>\n",
       "</div>"
      ],
      "text/plain": [
       "       passenger_count  Year  Month  Date  Day  Hour  distance\n",
       "1950                 1  2011      6    17    4     9  0.875383\n",
       "11386                1  2014     10    10    4    23  1.886420\n",
       "9920                 1  2012     11    13    1    20  2.560544\n",
       "12161                5  2013      7     7    6    12  0.181758\n",
       "13578                1  2013      8    15    3    13  1.499759\n",
       "...                ...   ...    ...   ...  ...   ...       ...\n",
       "9462                 2  2009      2    21    5    12  0.761909\n",
       "89                   2  2015      3     4    2    14  0.463667\n",
       "1520                 1  2009     12    16    2     9  1.571316\n",
       "11914                1  2014      4    14    0    22  1.242760\n",
       "2672                 1  2011      9     8    3    10  1.211605\n",
       "\n",
       "[3085 rows x 7 columns]"
      ]
     },
     "execution_count": 198,
     "metadata": {},
     "output_type": "execute_result"
    }
   ],
   "source": [
    "x_test"
   ]
  },
  {
   "cell_type": "code",
   "execution_count": 199,
   "id": "6361abfa-ac91-4605-9bbf-bbda219a2fe0",
   "metadata": {},
   "outputs": [
    {
     "data": {
      "text/plain": [
       "7690     2.370244\n",
       "13018    2.014903\n",
       "12950    2.014903\n",
       "14009    1.629241\n",
       "2816     2.890372\n",
       "           ...   \n",
       "994      2.687847\n",
       "5454     1.704748\n",
       "12682    2.917771\n",
       "259      1.945910\n",
       "13919    3.462606\n",
       "Name: fare_amount, Length: 12339, dtype: float64"
      ]
     },
     "execution_count": 199,
     "metadata": {},
     "output_type": "execute_result"
    }
   ],
   "source": [
    "y_train"
   ]
  },
  {
   "cell_type": "code",
   "execution_count": 200,
   "id": "bd4c129b-5628-4d00-a72f-fd8d66d477c0",
   "metadata": {},
   "outputs": [
    {
     "data": {
      "text/plain": [
       "1950     1.960095\n",
       "11386    3.020425\n",
       "9920     3.349904\n",
       "12161    1.504077\n",
       "13578    2.674149\n",
       "           ...   \n",
       "9462     1.704748\n",
       "89       1.791759\n",
       "1520     2.766319\n",
       "11914    2.197225\n",
       "2672     2.116256\n",
       "Name: fare_amount, Length: 3085, dtype: float64"
      ]
     },
     "execution_count": 200,
     "metadata": {},
     "output_type": "execute_result"
    }
   ],
   "source": [
    "y_test"
   ]
  },
  {
   "cell_type": "code",
   "execution_count": 201,
   "id": "8dcc3d43-2133-4388-ac7f-1cd617b7f3ca",
   "metadata": {},
   "outputs": [
    {
     "name": "stdout",
     "output_type": "stream",
     "text": [
      "(12339, 7)\n",
      "(3085, 7)\n"
     ]
    }
   ],
   "source": [
    "print(x_train.shape)\n",
    "print(x_test.shape)"
   ]
  },
  {
   "cell_type": "code",
   "execution_count": 202,
   "id": "4e011eb9-b36a-4e2d-a8cd-c4c1c32db46f",
   "metadata": {},
   "outputs": [
    {
     "name": "stdout",
     "output_type": "stream",
     "text": [
      "(12339,)\n",
      "(3085,)\n"
     ]
    }
   ],
   "source": [
    "print(y_train.shape)\n",
    "print(y_test.shape)"
   ]
  },
  {
   "cell_type": "code",
   "execution_count": 203,
   "id": "a5039e62-a41b-40b6-ba90-78a4f4fae301",
   "metadata": {},
   "outputs": [
    {
     "data": {
      "text/plain": [
       "pandas.core.series.Series"
      ]
     },
     "execution_count": 203,
     "metadata": {},
     "output_type": "execute_result"
    }
   ],
   "source": [
    "type(y_train)"
   ]
  },
  {
   "cell_type": "code",
   "execution_count": null,
   "id": "d31b1d34-96a2-478c-b368-5254ec6dafe7",
   "metadata": {},
   "outputs": [],
   "source": [
    "# Linear Regression"
   ]
  },
  {
   "cell_type": "code",
   "execution_count": 204,
   "id": "e0516b45-8e72-4f6f-97b3-2a4eb8cc71b1",
   "metadata": {},
   "outputs": [],
   "source": [
    "# Building model on the top of the training dataset\n",
    "fit_LR = LinearRegression().fit(x_train, y_train)"
   ]
  },
  {
   "cell_type": "code",
   "execution_count": 205,
   "id": "855fc0d2-aaf9-423f-8857-e2628f8bb93b",
   "metadata": {},
   "outputs": [],
   "source": [
    "# prediction on the train data\n",
    "pred_train_LR = fit_LR.predict(x_train)"
   ]
  },
  {
   "cell_type": "code",
   "execution_count": 206,
   "id": "e904bab0-f9bf-43db-9ac8-d2deb076006c",
   "metadata": {},
   "outputs": [],
   "source": [
    "# prediction on the test data\n",
    "pred_test_LR = fit_LR.predict(x_test)"
   ]
  },
  {
   "cell_type": "code",
   "execution_count": 207,
   "id": "10bf2bb3-4f5b-46cd-a217-9873b2142874",
   "metadata": {},
   "outputs": [],
   "source": [
    "# calculating RMSE for the test data\n",
    "RMSE_test_LR = np.sqrt(mean_squared_error(y_test, pred_test_LR))\n",
    "\n",
    "# calculating RMSE for the train data\n",
    "RMSE_train_LR = np.sqrt(mean_squared_error(y_train, pred_train_LR))"
   ]
  },
  {
   "cell_type": "code",
   "execution_count": 208,
   "id": "99ff4695-e616-4449-9287-528f29c9ead2",
   "metadata": {},
   "outputs": [
    {
     "name": "stdout",
     "output_type": "stream",
     "text": [
      "ROOT MEAN SQUARE ERROR FOR THE TRAINING DATA = 0.2753110017967314\n",
      "ROOT MEAN SQUARE ERROR FOR THE TEST DATA = 0.24540661786977747\n"
     ]
    }
   ],
   "source": [
    "print(\"ROOT MEAN SQUARE ERROR FOR THE TRAINING DATA = \" + str(RMSE_train_LR))\n",
    "print(\"ROOT MEAN SQUARE ERROR FOR THE TEST DATA = \" + str(RMSE_test_LR))"
   ]
  },
  {
   "cell_type": "code",
   "execution_count": 209,
   "id": "73e0bffb-a1f0-439f-a33d-a8397cba1bd1",
   "metadata": {},
   "outputs": [
    {
     "data": {
      "text/plain": [
       "0.7495502651880404"
      ]
     },
     "execution_count": 209,
     "metadata": {},
     "output_type": "execute_result"
    }
   ],
   "source": [
    "# Calculate R^2 for the train data\n",
    "from sklearn.metrics import r2_score\n",
    "r2_score(y_train, pred_train_LR)\n"
   ]
  },
  {
   "cell_type": "code",
   "execution_count": 210,
   "id": "7de8e9a9-730b-462e-86b3-29794600f33d",
   "metadata": {},
   "outputs": [
    {
     "data": {
      "text/plain": [
       "0.7827019104296598"
      ]
     },
     "execution_count": 210,
     "metadata": {},
     "output_type": "execute_result"
    }
   ],
   "source": [
    "r2_score(y_test, pred_test_LR)"
   ]
  },
  {
   "cell_type": "code",
   "execution_count": null,
   "id": "0fc48e5b-d17a-40e4-9927-882a4ec445e6",
   "metadata": {},
   "outputs": [],
   "source": [
    "# Decsion Tree Model"
   ]
  },
  {
   "cell_type": "code",
   "execution_count": 211,
   "id": "4cc6f996-ef92-49c3-856a-b35f3beb443e",
   "metadata": {},
   "outputs": [],
   "source": [
    "fit_DT = DecisionTreeRegressor(max_depth = 2).fit(x_train, y_train)"
   ]
  },
  {
   "cell_type": "code",
   "execution_count": 212,
   "id": "a99ffb58-c2bd-4f68-bb69-3e14839cc2f5",
   "metadata": {},
   "outputs": [],
   "source": [
    "# prediction on the test data\n",
    "pred_test_DT = fit_DT.predict(x_test)"
   ]
  },
  {
   "cell_type": "code",
   "execution_count": 213,
   "id": "efa2073c-7df8-4076-a75c-e33b5ebb07ee",
   "metadata": {},
   "outputs": [],
   "source": [
    "# prediction on the train data\n",
    "pred_train_DT = fit_DT.predict(x_train)"
   ]
  },
  {
   "cell_type": "code",
   "execution_count": 214,
   "id": "1cea0f29-1de1-4fc5-8d48-8f3cadf6d709",
   "metadata": {},
   "outputs": [],
   "source": [
    "# calculating RMSE for the test data\n",
    "RMSE_test_DT = np.sqrt(mean_squared_error(y_test, pred_test_DT))\n",
    "\n",
    "# calculating RMSE for the train data\n",
    "RMSE_train_DT = np.sqrt(mean_squared_error(y_train, pred_train_DT))"
   ]
  },
  {
   "cell_type": "code",
   "execution_count": 215,
   "id": "02c3cadb-883a-40d3-9e54-d7f9ab02a546",
   "metadata": {},
   "outputs": [
    {
     "name": "stdout",
     "output_type": "stream",
     "text": [
      "ROOT MEAN SQUARE ERROR FOR THE TRAINING DATA = 0.2996210902077019\n",
      "ROOT MEAN SQUARE ERROR FOR THE TEST DATA = 0.2867460617158617\n"
     ]
    }
   ],
   "source": [
    "print(\"ROOT MEAN SQUARE ERROR FOR THE TRAINING DATA = \" + str(RMSE_train_DT))\n",
    "print(\"ROOT MEAN SQUARE ERROR FOR THE TEST DATA = \" + str(RMSE_test_DT))"
   ]
  },
  {
   "cell_type": "code",
   "execution_count": 216,
   "id": "dce670ea-a654-48f4-b52f-0f45dbe9ca4b",
   "metadata": {},
   "outputs": [
    {
     "data": {
      "text/plain": [
       "0.7033678616157003"
      ]
     },
     "execution_count": 216,
     "metadata": {},
     "output_type": "execute_result"
    }
   ],
   "source": [
    "# Calculate R^2 for the train data\n",
    "from sklearn.metrics import r2_score\n",
    "r2_score(y_train, pred_train_DT)"
   ]
  },
  {
   "cell_type": "code",
   "execution_count": 217,
   "id": "b7ee4f51-1c3a-4c5e-81fb-943468aa8e7a",
   "metadata": {},
   "outputs": [
    {
     "data": {
      "text/plain": [
       "0.7827019104296598"
      ]
     },
     "execution_count": 217,
     "metadata": {},
     "output_type": "execute_result"
    }
   ],
   "source": [
    "r2_score(y_test, pred_test_LR)"
   ]
  },
  {
   "cell_type": "code",
   "execution_count": null,
   "id": "8b3e95b3-d1ab-4563-bc5a-b0cc61a088b2",
   "metadata": {},
   "outputs": [],
   "source": [
    "# Random Forest Model"
   ]
  },
  {
   "cell_type": "code",
   "execution_count": 220,
   "id": "81aa0704-9079-494b-bdb8-c93288cf7c43",
   "metadata": {},
   "outputs": [],
   "source": [
    "fit_RF = RandomForestRegressor(n_estimators = 200).fit(x_train, y_train)"
   ]
  },
  {
   "cell_type": "code",
   "execution_count": 221,
   "id": "9b57f6d5-e0c2-4b48-9038-48f87d958295",
   "metadata": {},
   "outputs": [],
   "source": [
    "# prediction on the test data\n",
    "pred_test_RF = fit_RF.predict(x_test)"
   ]
  },
  {
   "cell_type": "code",
   "execution_count": 224,
   "id": "c4de924d-e6a5-4ecc-8e52-0ca824780e63",
   "metadata": {},
   "outputs": [],
   "source": [
    "# prediction on the train data\n",
    "pred_train_RF = fit_DT.predict(x_train)"
   ]
  },
  {
   "cell_type": "code",
   "execution_count": 225,
   "id": "5570bf5f-57bf-4d6b-96ca-76a1cf0637bd",
   "metadata": {},
   "outputs": [],
   "source": [
    "# calculating RMSE for the test data\n",
    "RMSE_test_RF = np.sqrt(mean_squared_error(y_test, pred_test_RF))\n",
    "\n",
    "# calculating RMSE for the train data\n",
    "RMSE_train_RF = np.sqrt(mean_squared_error(y_train, pred_train_RF))"
   ]
  },
  {
   "cell_type": "code",
   "execution_count": 226,
   "id": "93f1be44-8cc7-4fad-a4f0-182f59742a59",
   "metadata": {},
   "outputs": [
    {
     "name": "stdout",
     "output_type": "stream",
     "text": [
      "ROOT MEAN SQUARE ERROR FOR THE TRAINING DATA = 0.2996210902077019\n",
      "ROOT MEAN SQUARE ERROR FOR THE TEST DATA = 0.23519935461123112\n"
     ]
    }
   ],
   "source": [
    "print(\"ROOT MEAN SQUARE ERROR FOR THE TRAINING DATA = \" + str(RMSE_train_RF))\n",
    "print(\"ROOT MEAN SQUARE ERROR FOR THE TEST DATA = \" + str(RMSE_test_RF))"
   ]
  },
  {
   "cell_type": "code",
   "execution_count": 227,
   "id": "f4ad860f-97f3-49d8-9197-01f9d5e50b36",
   "metadata": {},
   "outputs": [
    {
     "data": {
      "text/plain": [
       "0.7033678616157003"
      ]
     },
     "execution_count": 227,
     "metadata": {},
     "output_type": "execute_result"
    }
   ],
   "source": [
    "# Calculate R^2 for the train data\n",
    "from sklearn.metrics import r2_score\n",
    "r2_score(y_train, pred_train_RF)"
   ]
  },
  {
   "cell_type": "code",
   "execution_count": 228,
   "id": "e923f450-f012-4c20-b979-e6b45b9f3b63",
   "metadata": {},
   "outputs": [
    {
     "data": {
      "text/plain": [
       "0.8004022601530675"
      ]
     },
     "execution_count": 228,
     "metadata": {},
     "output_type": "execute_result"
    }
   ],
   "source": [
    "r2_score(y_test, pred_test_RF)"
   ]
  },
  {
   "cell_type": "code",
   "execution_count": null,
   "id": "62ed4ac8-20ea-40e1-9e5e-bd355e227256",
   "metadata": {},
   "outputs": [],
   "source": [
    "# Gradient Boosting"
   ]
  },
  {
   "cell_type": "code",
   "execution_count": 229,
   "id": "ad5707d9-b266-4bbf-9525-642312d3510d",
   "metadata": {},
   "outputs": [],
   "source": [
    "fit_GB = GradientBoostingRegressor().fit(x_train, y_train)"
   ]
  },
  {
   "cell_type": "code",
   "execution_count": 230,
   "id": "5ec21b52-bae1-4fd6-baad-14532b9ad9fa",
   "metadata": {},
   "outputs": [],
   "source": [
    "# prediction on the test data\n",
    "pred_test_GB = fit_GB.predict(x_test)"
   ]
  },
  {
   "cell_type": "code",
   "execution_count": 231,
   "id": "f9044192-9d0f-4960-bb97-fc75e507d992",
   "metadata": {},
   "outputs": [],
   "source": [
    "# prediction on the train data\n",
    "pred_train_GB = fit_GB.predict(x_train)"
   ]
  },
  {
   "cell_type": "code",
   "execution_count": 232,
   "id": "b18c1b64-9ff5-47c9-b4f3-a3742545a48f",
   "metadata": {},
   "outputs": [],
   "source": [
    "# calculating RMSE for the test data\n",
    "RMSE_test_GB = np.sqrt(mean_squared_error(y_test, pred_test_GB))\n",
    "\n",
    "# calculating RMSE for the train data\n",
    "RMSE_train_GB = np.sqrt(mean_squared_error(y_train, pred_train_GB))"
   ]
  },
  {
   "cell_type": "code",
   "execution_count": 233,
   "id": "596fa178-6732-4615-933c-4559c7a482ca",
   "metadata": {},
   "outputs": [
    {
     "name": "stdout",
     "output_type": "stream",
     "text": [
      "ROOT MEAN SQUARE ERROR FOR THE TRAINING DATA = 0.22754316149645537\n",
      "ROOT MEAN SQUARE ERROR FOR THE TEST DATA = 0.2273776019989618\n"
     ]
    }
   ],
   "source": [
    "print(\"ROOT MEAN SQUARE ERROR FOR THE TRAINING DATA = \" + str(RMSE_train_GB))\n",
    "print(\"ROOT MEAN SQUARE ERROR FOR THE TEST DATA = \" + str(RMSE_test_GB))"
   ]
  },
  {
   "cell_type": "code",
   "execution_count": 234,
   "id": "10758a42-a131-4bf7-aa92-44468c523f9b",
   "metadata": {},
   "outputs": [
    {
     "data": {
      "text/plain": [
       "0.8289193000175024"
      ]
     },
     "execution_count": 234,
     "metadata": {},
     "output_type": "execute_result"
    }
   ],
   "source": [
    "# Calculate R^2 for the train data\n",
    "from sklearn.metrics import r2_score\n",
    "r2_score(y_train, pred_train_GB)"
   ]
  },
  {
   "cell_type": "code",
   "execution_count": 235,
   "id": "8e231f52-c275-4d35-b6df-b5fc5117e549",
   "metadata": {},
   "outputs": [
    {
     "data": {
      "text/plain": [
       "0.8134570966878933"
      ]
     },
     "execution_count": 235,
     "metadata": {},
     "output_type": "execute_result"
    }
   ],
   "source": [
    "r2_score(y_test, pred_test_GB)"
   ]
  },
  {
   "cell_type": "code",
   "execution_count": 236,
   "id": "c128fe9c-6ff7-43c9-a752-4d2b4ec91db6",
   "metadata": {},
   "outputs": [],
   "source": [
    "#  Parameter Tuning"
   ]
  },
  {
   "cell_type": "code",
   "execution_count": 237,
   "id": "c15406f0-fd06-4b4a-b3bd-9c67c3877b97",
   "metadata": {},
   "outputs": [
    {
     "name": "stdout",
     "output_type": "stream",
     "text": [
      "PARAMETER CURRENTLY IN USE :\n",
      "\n",
      "{'bootstrap': True,\n",
      " 'ccp_alpha': 0.0,\n",
      " 'criterion': 'squared_error',\n",
      " 'max_depth': None,\n",
      " 'max_features': 1.0,\n",
      " 'max_leaf_nodes': None,\n",
      " 'max_samples': None,\n",
      " 'min_impurity_decrease': 0.0,\n",
      " 'min_samples_leaf': 1,\n",
      " 'min_samples_split': 2,\n",
      " 'min_weight_fraction_leaf': 0.0,\n",
      " 'monotonic_cst': None,\n",
      " 'n_estimators': 100,\n",
      " 'n_jobs': None,\n",
      " 'oob_score': False,\n",
      " 'random_state': 42,\n",
      " 'verbose': 0,\n",
      " 'warm_start': False}\n"
     ]
    }
   ],
   "source": [
    "from sklearn.ensemble import RandomForestRegressor\n",
    "rf = RandomForestRegressor(random_state = 42)\n",
    "from pprint import pprint\n",
    "# look at parameter used by our current post\n",
    "print(\"PARAMETER CURRENTLY IN USE :\\n\")\n",
    "pprint(rf.get_params())"
   ]
  },
  {
   "cell_type": "code",
   "execution_count": 241,
   "id": "c4fe632d-e024-4c28-953b-88c32798726c",
   "metadata": {},
   "outputs": [],
   "source": [
    "#  Random Hyperparameter Grid\n",
    "from sklearn.model_selection import train_test_split, RandomizedSearchCV"
   ]
  },
  {
   "cell_type": "code",
   "execution_count": 243,
   "id": "2572b2b4-d120-48ca-899e-65fff1f79d78",
   "metadata": {},
   "outputs": [
    {
     "name": "stdout",
     "output_type": "stream",
     "text": [
      "RANDOM SEARCH CV RANDOM FOREST REGRESSOR MODEL PERFORMANCE : \n",
      "BEST PARAMETERS =  {'n_estimators': 15, 'max_depth': 9}\n",
      "R-SQUARED = {:0.2} 0.796750667820839\n",
      "RMSE =  0.2373410611350033\n"
     ]
    }
   ],
   "source": [
    "#  random search cv on random forest model\n",
    "RRF = RandomForestRegressor(random_state = 0)\n",
    "n_estimator = list(range(1,20,2))\n",
    "depth = list(range(1,100,2))\n",
    "# create a random grid\n",
    "rand_grid = {'n_estimators' : n_estimator, 'max_depth' : depth}\n",
    "\n",
    "randomcv_rf = RandomizedSearchCV(RRF, param_distributions = rand_grid, n_iter = 5, cv = 5, random_state = 0)\n",
    "random_rf = randomcv_rf.fit(x_train, y_train)\n",
    "predictions_RRF = randomcv_rf.predict(x_test)\n",
    "\n",
    "view_best_params_RRF = randomcv_rf.best_params_\n",
    "best_model = randomcv_rf.best_estimator_\n",
    "predictions_RRF = best_model.predict(x_test)\n",
    "\n",
    "# r^2\n",
    "RRF_r2 = r2_score(y_test, predictions_RRF)\n",
    "# calculating RMSE\n",
    "RRF_rmse = np.sqrt(mean_squared_error(y_test, predictions_RRF))\n",
    "print(\"RANDOM SEARCH CV RANDOM FOREST REGRESSOR MODEL PERFORMANCE : \")\n",
    "print(\"BEST PARAMETERS = \",view_best_params_RRF)\n",
    "print(\"R-SQUARED = {:0.2}\", format(RRF_r2))\n",
    "print(\"RMSE = \", RRF_rmse)"
   ]
  },
  {
   "cell_type": "code",
   "execution_count": 245,
   "id": "e5b29b55-48c8-4a75-8c70-43478aa17bb4",
   "metadata": {},
   "outputs": [
    {
     "name": "stdout",
     "output_type": "stream",
     "text": [
      "PARAMETER CURRENTLY IN USE :\n",
      "\n",
      "{'bootstrap': True,\n",
      " 'ccp_alpha': 0.0,\n",
      " 'criterion': 'squared_error',\n",
      " 'max_depth': None,\n",
      " 'max_features': 1.0,\n",
      " 'max_leaf_nodes': None,\n",
      " 'max_samples': None,\n",
      " 'min_impurity_decrease': 0.0,\n",
      " 'min_samples_leaf': 1,\n",
      " 'min_samples_split': 2,\n",
      " 'min_weight_fraction_leaf': 0.0,\n",
      " 'monotonic_cst': None,\n",
      " 'n_estimators': 100,\n",
      " 'n_jobs': None,\n",
      " 'oob_score': False,\n",
      " 'random_state': 42,\n",
      " 'verbose': 0,\n",
      " 'warm_start': False}\n"
     ]
    }
   ],
   "source": [
    "gb = GradientBoostingRegressor(random_state = 42)\n",
    "from pprint import pprint\n",
    "# look at parameter used by our current post\n",
    "print(\"PARAMETER CURRENTLY IN USE :\\n\")\n",
    "pprint(rf.get_params())"
   ]
  },
  {
   "cell_type": "code",
   "execution_count": 247,
   "id": "daf6a266-8a8f-4df6-8af7-699c313558d5",
   "metadata": {},
   "outputs": [
    {
     "name": "stdout",
     "output_type": "stream",
     "text": [
      "RANDOM SEARCH CV RANDOM FOREST REGRESSOR MODEL PERFORMANCE : \n",
      "BEST PARAMETERS =  {'n_estimators': 15, 'max_depth': 9}\n",
      "R-SQUARED = {:0.2} 0.796750667820839\n",
      "RMSE =  0.2373410611350033\n"
     ]
    }
   ],
   "source": [
    "#  random search cv on random forest model\n",
    "gb = GradientBoostingRegressor(random_state = 0)\n",
    "n_estimator = list(range(1,20,2))\n",
    "depth = list(range(1,100,2))\n",
    "# create a random grid\n",
    "rand_grid = {'n_estimators' : n_estimator, 'max_depth' : depth}\n",
    "\n",
    "randomcv_gb = RandomizedSearchCV(RRF, param_distributions = rand_grid, n_iter = 5, cv = 5, random_state = 0)\n",
    "random_gb = randomcv_gb.fit(x_train, y_train)\n",
    "predictions_gb = randomcv_gb.predict(x_test)\n",
    "\n",
    "view_best_params_gb = randomcv_gb.best_params_\n",
    "best_model = randomcv_rf.best_estimator_\n",
    "predictions_gb = best_model.predict(x_test)\n",
    "\n",
    "# r^2\n",
    "gb_r2 = r2_score(y_test, predictions_gb)\n",
    "# calculating RMSE\n",
    "gb_rmse = np.sqrt(mean_squared_error(y_test, predictions_gb))\n",
    "print(\"RANDOM SEARCH CV RANDOM FOREST REGRESSOR MODEL PERFORMANCE : \")\n",
    "print(\"BEST PARAMETERS = \",view_best_params_gb)\n",
    "print(\"R-SQUARED = {:0.2}\", format(gb_r2))\n",
    "print(\"RMSE = \", gb_rmse)"
   ]
  },
  {
   "cell_type": "code",
   "execution_count": 252,
   "id": "ca5b3552-2ee9-43f0-b50b-6d815330eba4",
   "metadata": {},
   "outputs": [
    {
     "name": "stdout",
     "output_type": "stream",
     "text": [
      "GRID SEARCH CV RANDOM FOREST REGRESSOR MODEL PERFORMANCE : \n",
      "BEST PARAMETERS =  {'max_depth': 7, 'n_estimators': 15}\n",
      "R-SQUARED = {:0.2} 0.7971315961456371\n",
      "RMSE =  0.23711854543717428\n"
     ]
    }
   ],
   "source": [
    "# Grid Search CV on random forest\n",
    "\n",
    "GRF = RandomForestRegressor(random_state = 0)\n",
    "n_estimator = list(range(11,20,1))\n",
    "depth = list(range(5,15,2))\n",
    "# create a grid search\n",
    "grid_search = {'n_estimators' : n_estimator, 'max_depth' : depth}\n",
    "\n",
    "gridcv_rf = GridSearchCV(GRF, param_grid = grid_search, cv = 5)\n",
    "gridcv_RF = gridcv_rf.fit(x_train, y_train)\n",
    "predictions_GRF = gridcv_rf.predict(x_test)\n",
    "\n",
    "view_best_params_GRF = gridcv_RF.best_params_\n",
    "best_model = gridcv_RF.best_estimator_\n",
    "predictions_GRF = best_model.predict(x_test)\n",
    "\n",
    "# r^2\n",
    "GRF_r2 = r2_score(y_test, predictions_GRF)\n",
    "# calculating RMSE\n",
    "GRF_rmse = np.sqrt(mean_squared_error(y_test, predictions_GRF))\n",
    "print(\"GRID SEARCH CV RANDOM FOREST REGRESSOR MODEL PERFORMANCE : \")\n",
    "print(\"BEST PARAMETERS = \",view_best_params_GRF)\n",
    "print(\"R-SQUARED = {:0.2}\", format(GRF_r2))\n",
    "print(\"RMSE = \", GRF_rmse)"
   ]
  },
  {
   "cell_type": "code",
   "execution_count": 253,
   "id": "00064225-a688-4a48-9b0f-ee4357ac9ff8",
   "metadata": {},
   "outputs": [
    {
     "name": "stdout",
     "output_type": "stream",
     "text": [
      "GRID SEARCH CV GRADIENT BOOSTING REGRESSOR MODEL PERFORMANCE : \n",
      "BEST PARAMETERS =  {'max_depth': 5, 'n_estimators': 19}\n",
      "R-SQUARED = {:0.2} 0.7969200804507159\n",
      "RMSE =  0.23724212611002213\n"
     ]
    }
   ],
   "source": [
    "# Grid Search CV on Gardient Boosting\n",
    "\n",
    "GGB = GradientBoostingRegressor(random_state = 0)\n",
    "n_estimator = list(range(11,20,1))\n",
    "depth = list(range(5,15,2))\n",
    "# create a grid search\n",
    "grid_search = {'n_estimators' : n_estimator, 'max_depth' : depth}\n",
    "\n",
    "gridcv_gb = GridSearchCV(GGB, param_grid = grid_search, cv = 5)\n",
    "gridcv_GB = gridcv_gb.fit(x_train, y_train)\n",
    "predictions_GRF = gridcv_GB.predict(x_test)\n",
    "\n",
    "view_best_params_GGB = gridcv_GB.best_params_\n",
    "best_model = gridcv_GB.best_estimator_\n",
    "predictions_GGB = best_model.predict(x_test)\n",
    "\n",
    "# r^2\n",
    "GGB_r2 = r2_score(y_test, predictions_GGB)\n",
    "# calculating RMSE\n",
    "GGB_rmse = np.sqrt(mean_squared_error(y_test, predictions_GGB))\n",
    "print(\"GRID SEARCH CV GRADIENT BOOSTING REGRESSOR MODEL PERFORMANCE : \")\n",
    "print(\"BEST PARAMETERS = \",view_best_params_GGB)\n",
    "print(\"R-SQUARED = {:0.2}\", format(GGB_r2))\n",
    "print(\"RMSE = \", GGB_rmse)\n"
   ]
  },
  {
   "cell_type": "code",
   "execution_count": 254,
   "id": "bd68856b-bf9c-41e0-b900-733b59681511",
   "metadata": {},
   "outputs": [
    {
     "data": {
      "text/plain": [
       "array([2.37543359, 2.39413478, 1.68070503, ..., 4.00620024, 3.30834716,\n",
       "       2.04017073])"
      ]
     },
     "execution_count": 254,
     "metadata": {},
     "output_type": "execute_result"
    }
   ],
   "source": [
    "# Prediction for the test dataset\n",
    "# Grid search cross validation for random forest\n",
    "\n",
    "regr = RandomForestRegressor(random_state = 0)\n",
    "n_estimator = list(range(11,20,1))\n",
    "depth = list(range(5,15,2))\n",
    "# create a grid search\n",
    "grid_search = {'n_estimators' : n_estimator, 'max_depth' : depth}\n",
    "# grid-search cross-validation for 5 fold cv\n",
    "gridcv_rf = GridSearchCV(regr, param_grid = grid_search, cv = 5)\n",
    "gridcv_RF = gridcv_rf.fit(x_train, y_train)\n",
    "view_best_params_GRF = gridcv_GB.best_params_\n",
    "# applying model on the test data\n",
    "predictions_GRF_test = gridcv_RF.predict(test)\n",
    "predictions_GRF_test"
   ]
  },
  {
   "cell_type": "code",
   "execution_count": 255,
   "id": "87ee0363-1669-4595-96c2-703079d89efc",
   "metadata": {},
   "outputs": [
    {
     "data": {
      "text/html": [
       "<div>\n",
       "<style scoped>\n",
       "    .dataframe tbody tr th:only-of-type {\n",
       "        vertical-align: middle;\n",
       "    }\n",
       "\n",
       "    .dataframe tbody tr th {\n",
       "        vertical-align: top;\n",
       "    }\n",
       "\n",
       "    .dataframe thead th {\n",
       "        text-align: right;\n",
       "    }\n",
       "</style>\n",
       "<table border=\"1\" class=\"dataframe\">\n",
       "  <thead>\n",
       "    <tr style=\"text-align: right;\">\n",
       "      <th></th>\n",
       "      <th>passenger_count</th>\n",
       "      <th>Year</th>\n",
       "      <th>Month</th>\n",
       "      <th>Date</th>\n",
       "      <th>Day</th>\n",
       "      <th>Hour</th>\n",
       "      <th>distance</th>\n",
       "      <th>Predicted_Fare</th>\n",
       "    </tr>\n",
       "  </thead>\n",
       "  <tbody>\n",
       "    <tr>\n",
       "      <th>0</th>\n",
       "      <td>1</td>\n",
       "      <td>2015</td>\n",
       "      <td>1</td>\n",
       "      <td>27</td>\n",
       "      <td>1</td>\n",
       "      <td>13</td>\n",
       "      <td>1.200946</td>\n",
       "      <td>2.375434</td>\n",
       "    </tr>\n",
       "    <tr>\n",
       "      <th>1</th>\n",
       "      <td>1</td>\n",
       "      <td>2015</td>\n",
       "      <td>1</td>\n",
       "      <td>27</td>\n",
       "      <td>1</td>\n",
       "      <td>13</td>\n",
       "      <td>1.231205</td>\n",
       "      <td>2.394135</td>\n",
       "    </tr>\n",
       "    <tr>\n",
       "      <th>2</th>\n",
       "      <td>1</td>\n",
       "      <td>2011</td>\n",
       "      <td>10</td>\n",
       "      <td>8</td>\n",
       "      <td>5</td>\n",
       "      <td>11</td>\n",
       "      <td>0.481579</td>\n",
       "      <td>1.680705</td>\n",
       "    </tr>\n",
       "    <tr>\n",
       "      <th>3</th>\n",
       "      <td>1</td>\n",
       "      <td>2012</td>\n",
       "      <td>12</td>\n",
       "      <td>1</td>\n",
       "      <td>5</td>\n",
       "      <td>21</td>\n",
       "      <td>1.085538</td>\n",
       "      <td>2.218272</td>\n",
       "    </tr>\n",
       "    <tr>\n",
       "      <th>4</th>\n",
       "      <td>1</td>\n",
       "      <td>2012</td>\n",
       "      <td>12</td>\n",
       "      <td>1</td>\n",
       "      <td>5</td>\n",
       "      <td>21</td>\n",
       "      <td>1.854312</td>\n",
       "      <td>2.786595</td>\n",
       "    </tr>\n",
       "  </tbody>\n",
       "</table>\n",
       "</div>"
      ],
      "text/plain": [
       "   passenger_count  Year  Month  Date  Day  Hour  distance  Predicted_Fare\n",
       "0                1  2015      1    27    1    13  1.200946        2.375434\n",
       "1                1  2015      1    27    1    13  1.231205        2.394135\n",
       "2                1  2011     10     8    5    11  0.481579        1.680705\n",
       "3                1  2012     12     1    5    21  1.085538        2.218272\n",
       "4                1  2012     12     1    5    21  1.854312        2.786595"
      ]
     },
     "execution_count": 255,
     "metadata": {},
     "output_type": "execute_result"
    }
   ],
   "source": [
    "test['Predicted_Fare'] = predictions_GRF_test\n",
    "test.head()"
   ]
  },
  {
   "cell_type": "code",
   "execution_count": 256,
   "id": "6ef5f103-fbbf-4ea7-8b8e-b174727014bd",
   "metadata": {},
   "outputs": [],
   "source": [
    "test.to_csv('test.csv')"
   ]
  },
  {
   "cell_type": "code",
   "execution_count": null,
   "id": "13b5f4e0-6c38-40c6-a804-2f0adb687201",
   "metadata": {},
   "outputs": [],
   "source": []
  }
 ],
 "metadata": {
  "kernelspec": {
   "display_name": "Python 3 (ipykernel)",
   "language": "python",
   "name": "python3"
  },
  "language_info": {
   "codemirror_mode": {
    "name": "ipython",
    "version": 3
   },
   "file_extension": ".py",
   "mimetype": "text/x-python",
   "name": "python",
   "nbconvert_exporter": "python",
   "pygments_lexer": "ipython3",
   "version": "3.13.0"
  }
 },
 "nbformat": 4,
 "nbformat_minor": 5
}
