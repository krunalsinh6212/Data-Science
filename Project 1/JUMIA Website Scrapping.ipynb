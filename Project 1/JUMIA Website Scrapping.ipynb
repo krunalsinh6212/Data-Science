{
 "cells": [
  {
   "cell_type": "code",
   "execution_count": 2,
   "id": "6ed90322-bc56-4724-be5e-be81e93bb00b",
   "metadata": {},
   "outputs": [],
   "source": [
    "from bs4 import BeautifulSoup\n",
    "import requests\n",
    "import pandas as pd"
   ]
  },
  {
   "cell_type": "code",
   "execution_count": 3,
   "id": "4ddaca3b-c7db-43df-98ba-3ef736503fc6",
   "metadata": {},
   "outputs": [],
   "source": [
    "jumia = requests.get('https://www.jumia.co.ke/all-products/')"
   ]
  },
  {
   "cell_type": "code",
   "execution_count": 4,
   "id": "970c08ce-182c-4a57-8727-a2eb8d0ff8b2",
   "metadata": {},
   "outputs": [
    {
     "data": {
      "text/plain": [
       "b'<!DOCTYPE html><html lang=\"en-US\"><head><title>Just a moment...</title><meta http-equiv=\"Content-Type\" content=\"text/html; charset=UTF-8\"><meta http-equiv=\"X-UA-Compatible\" content=\"IE=Edge\"><meta name=\"robots\" content=\"noindex,nofollow\"><meta name=\"viewport\" content=\"width=device-width,initial-scale=1\"><style>*{box-sizing:border-box;margin:0;padding:0}html{line-height:1.15;-webkit-text-size-adjust:100%;color:#313131;font-family:system-ui,-apple-system,BlinkMacSystemFont,Segoe UI,Roboto,Helvetica Neue,Arial,Noto Sans,sans-serif,Apple Color Emoji,Segoe UI Emoji,Segoe UI Symbol,Noto Color Emoji}body{display:flex;flex-direction:column;height:100vh;min-height:100vh}.main-content{margin:8rem auto;max-width:60rem;padding-left:1.5rem}@media (width <= 720px){.main-content{margin-top:4rem}}.h2{font-size:1.5rem;font-weight:500;line-height:2.25rem}@media (width <= 720px){.h2{font-size:1.25rem;line-height:1.5rem}}#challenge-error-text{background-image:url(data:image/svg+xml;base64,PHN2ZyB4bWxucz0iaHR0cDovL3d3dy53My5vcmcvMjAwMC9zdmciIHdpZHRoPSIzMiIgaGVpZ2h0PSIzMiIgZmlsbD0ibm9uZSI+PHBhdGggZmlsbD0iI0IyMEYwMyIgZD0iTTE2IDNhMTMgMTMgMCAxIDAgMTMgMTNBMTMuMDE1IDEzLjAxNSAwIDAgMCAxNiAzbTAgMjRhMTEgMTEgMCAxIDEgMTEtMTEgMTEuMDEgMTEuMDEgMCAwIDEtMTEgMTEiLz48cGF0aCBmaWxsPSIjQjIwRjAzIiBkPSJNMTcuMDM4IDE4LjYxNUgxNC44N0wxNC41NjMgOS41aDIuNzgzem0tMS4wODQgMS40MjdxLjY2IDAgMS4wNTcuMzg4LjQwNy4zODkuNDA3Ljk5NCAwIC41OTYtLjQwNy45ODQtLjM5Ny4zOS0xLjA1Ny4zODktLjY1IDAtMS4wNTYtLjM4OS0uMzk4LS4zODktLjM5OC0uOTg0IDAtLjU5Ny4zOTgtLjk4NS40MDYtLjM5NyAxLjA1Ni0uMzk3Ii8+PC9zdmc+);background-repeat:no-repeat;background-size:contain;padding-left:34px}@media (prefers-color-scheme:dark){body{background-color:#222;color:#d9d9d9}}</style><meta http-equiv=\"refresh\" content=\"120\"></head><body class=\"no-js\"><div class=\"main-wrapper\" role=\"main\"><div class=\"main-content\"><noscript><div class=\"h2\"><span id=\"challenge-error-text\">Enable JavaScript and cookies to continue</span></div></noscript></div></div><script>(function(){window._cf_chl_opt={cvId: \\'3\\',cZone: \"www.jumia.co.ke\",cType: \\'non-interactive\\',cRay: \\'8f2681f54ee1c19a\\',cH: \\'EyNq43FxZHj2eLbaRWwim67s6Tofw1nG8qfcMFv96pE-1734266484-1.2.1.1-gNlMiOB2g1gxkxjsYV.Hy8MLXwrO8aebIFcy0SCQYJ7ZaHaUW7t5ZjyvItu12JOa\\',cUPMDTk: \"\\\\/all-products\\\\/?__cf_chl_tk=MkJtwf_LMfUvPNqX76FAHLe8WGp78vj3Dl0P6XtrbW4-1734266484-1.0.1.1-SkdzvsFn1P4Au8JshzSKmjYvF36dSnAFKqNiXGcRaUI\",cFPWv: \\'g\\',cITimeS: \\'1734266484\\',cTTimeMs: \\'1000\\',cMTimeMs: \\'120000\\',cTplC: 0,cTplV: 5,cTplB: \\'cf\\',cK: \"\",fa: \"\\\\/all-products\\\\/?__cf_chl_f_tk=MkJtwf_LMfUvPNqX76FAHLe8WGp78vj3Dl0P6XtrbW4-1734266484-1.0.1.1-SkdzvsFn1P4Au8JshzSKmjYvF36dSnAFKqNiXGcRaUI\",md: \"0yFyiDZgSS6Rdlc5yQDx8awq743MCc_P8SSEgNs_F6s-1734266484-1.2.1.1-acfJHMjl9tYVeVSVrgnU7wRBzsyKjofEvVEHP5_o3o5SZFKI8.KHEisHgXtG._jRrEmVsCX5Y1LgShh3ssCF5JLNH5B0oB94Rnb0QPjGAsTrtDCErDHLS24OyAouqBDAQ_boKEL91HFe5CqX8tYZCPdLfpIG69n_BHs2I5DtQEDLXHcxAsHaya6A98YwMJM0fcx_8YUO4SiJX3X_m.VfMQXPy2FiGn4V7IZ8kI2sqWIGM9N.2iRVLPI6TCAhgwt0iu643OgrFakkNo65s02zM.Hhp.5g6.OA3rcO53LbO8pqky57eBG2sBNUo85c3tgwvq6XGnpd.QrUZW9kHVP3iBLCGvBPbHdQA9kUghAhSMbQS8NedZ04voo4_tdaOKkN1wc69868JM7te.PptaKJVJFO0BYrnl6TnP6yArngHmbvOoq1nxqUPT1xkxWVy1zlDPqo5iGwlOqO0pyg5tdwsI8Yz2vHaXRpHripnkUrlczuzbJDf.wxcQ.tpeqdeDHP4cBEmFIvmmcWHEx4uUZrBkXtmBd5H4jyu.LCSWlHAVdRQ83g_smfHZlb_f8SgAThFTgLwvYjW.e8_o6cVuxu_3zUuT1FcKQytORMo81DxND_EtKJgodu_.RHSX3wrAOInSEspOjw8mnHf1v2BySp8ZrMdl7KXGIrIPNhK1TSVsuf6YXWqJtOIh0OhI6afllGiXLEKXwr3EqNgvlNDa_9ymehm.UZrcO7vf7IwT_8UMQWuHt1cBrVKR1j2nRsNbn78o_CP9aosuLV2Vnt8ScXceET3lSwwqCOC7bJDNeyMuLnXX7VEc4MERXh1J6YANfkVUWjoSUB1HPkfm8ReRf9L6e9EWrykGVEMQAH6mtC8vwxYfyaLecpql_whPcgw350QkMiZwMUDY42XuHRVxCapobCVJiJvDXd1mH_WOdyuo7ekLt.E3DQWPY6de9EPd7g3dJ0jITv4VNtt2PaIqXzNje0Tc4jQN69Zw3vPvdEw6VXHXSMJzI6lU440Yco__4Rtq9vW1qKe.bHFq4LgGbudpil85IHh6dInpIsdwWYYpAHdqQlA3Oj8f3Cn9SN.Ndt0DWa7Aj4TFl8pvR_AS4kRZHV3BberMAsY9ea1popgrt7IXlAHmcB4X8yyDwFYFnL0c4nD3Y2XK6.9D_DoLKEGZJPcpI57Z_10IXbfmUSYswl4STv4FKNXtUZpys3vY8NHGvuZpreqRcwbQJ3BOa0vKj8onbhpSWBpChY3AEtxIDxW1FP9X_LhZ11NiRCwK3GdGeQ00N5GE2q.0X_PYbM.uMZoKu5KJEwcT6Y.DTDSPVWa89KWhI4EX.nTFWGgcQEY9oWo3Iy_CP9YCvmrEVRea_.wvNQZ4hKnVjS9t4E7Uqecfywm9_vJG4SiEjueEb6rwo_VlctQm__bExwOlyhBKNjl5DiHkFhLDD9eOAFdonntf3Rgy94Wp2gHsJgbKK5TmrNsxlVX7RZlvkhSTjlA84zMMRqFYbrAjSPAPiqQWbc5s9BxjkE9FgxPUqpWkOcZZYEO0AQo19uPsElqGpfdRIIVZwdE1Y.PJLTK68Eqh5PagJIanzJeE_K2xc7ea09KqpoOjc898Xfq_pLDjBfWz_YmDDVu__sbukKKSltZvVuXb2sRE.GQu3cVPOdejduxlsW_N.S3TjhZw3k76RbHAmKChHz5TCr631AbDW72hvZMYXuWRw.xapNVXnYA0sbNukzwVLy72oJW7N3aLLXSrLpW_cI5wbWyDFxTgi_UR3eVZQ3H4HbefOeCsVj9VjytuarTTDQ4tgfBuROld8xWw\",mdrd: \"fuQThOZXFPSEsM41uiCngaV_8HIVS2bJ9WFhfFom1Fs-1734266484-1.2.1.1-CDvWIq8cUWHX.8RqoK9nOFhMrRwQOmjMd4Oc.StjqCOi.OfnNcqLeKxqSfpo4E1uBl02Gjm3uF.yC3YBahiUCF0qOR2VGzHrMujWZEFAnIyJiJ17EVihY9MADw0cPQqVADlBFTHUN649L460rJsH_7mumQUz8v_Gi3Ne1KYTuiABed3h3jTwYHKAoivyER0AvyFkJHvfSzXwP0vi7HmxVl.11Cy4__pOoMXWgHLEkfiw6L.Mx85SA0DM0l_TkHXqf90nc.o6Kq2U8xrgf5mxTlFEwrHr9F8zPHCTdzTK6hK1rVSQoWLvmjEqVZG14UQKvmxqV8TLAc46TW8qDbayE47KOc3lEwy1sGIr3WJla902Zi2_WI1uzrCvk1j0G1SLWZ6QtGMhspGuy50LrCviRf5ofnZBjI8RnQIsxYNQLTxmjwuotVxIqmhcmafrSSxkuxT5.bVR0xVifNN_5QZIB8FKvU_DkmD2xdB_eJVa3omwUAnlyVQdYE257O7f5aPZf9dY0yYqsDpHOM9a0kRhzgdn_mbLSXbN9oBRwv1hO2RhkxAwIRibHMgXmU0RF9xi.KnHK9pxHJR784U.3V8XmNy.igJFn1R0gYfmU6Dtn3.O4JWWICU8vkoQn8ltocV31MKPVAC7kwoCaaH1weSrSs0xamkF414cZAW6fXQdR9Ptgbqt8OhLnlNJBQOcQcyEgtEoepTSOJ42zxE0bqJLGl0FT2RqiZmXPXwnWxwzl6g89eXnF1ug0tohRZoor2m4cuiPPxpbMDJ4_dJXX30bIg.fgZD2eJd3e4u.M8k0caDHcb.2eifVyf0ddHJizsRKA3JZweZpC6ENFMuE17o6PtI9yqrN1tlKVhQXem4OMJU9I9DRO14b1SFbMpDvdEwvX_oHzH2_pRHUV2w8pDZhbye3AHODebyMjD6AHwAesT6uJtx7DfjjztRQtendOyA01mupwG92rcgbL1F40X6xbPPteZwSdJXvijQBBb5Gr3MGDs82A1YsrKl4lCgWUM0ZFfOCd4xstrWGmoxOACTasnkm1Inhu5pqsXFWjcd6qCqkrIU3PuYQzJqkILVYM8G5QF.lXVuRf1DBJWBnsPmcJMOGEdzIpeZ0dv.fTU3Mh19WKInAUbN3InE6VQtiWF9lmKU8WpJeQXOKwc5cJ6vyhEhr.UtdfK.8DISZwn2G0jfmxto0aPEsNAdTk5SRVcRO8CdQFykJtSVCDg.ZW5w7.4uXL8xMb4INZcK0Qx4B.sqEH2jV8lsVffqnZ90SvSVWXo0bUTl8kyRBsSqDYUECsUKP9xBnYdZK28EI4Es0Jh8_WoVxyh5G8lYE8bEAWW1Bilb4Qm7S7p5m361.PNnfE2pJXqlB2xznAhw70qndSq2DT8Ij0NkYSMXdYfs2Tu8._BkjmmvQhCzZ8v.BZZoNOBkAFmVZWVNgtgie00RLE9pkxyQAtSzM2e5S8yHVaaYATIJ2Nh5FipYVxWOCLEtGPAoD4l8vvG3Mlj1y91G8hW.nK.sUU5a4v9b16sqZwoN.O4g94oItKfBnPpWGrAEMSHhjb9GTGCKXCON386Asr8swNDwPB5IpAantkXw47vz.iz3Gb2z204Rv5vpI8Xl_r6Vw3gaEuPM5fbAbis.mVG5BWnGe.HdtA3uN8Pq9sZFbXGItYzp0klbLgzhYpsOSHUXpb3337.YhLOUh1jyyE.P9qo6v23tyFtLbDbRvR0g596JxcJnxXU7fKgSuC4phGM7lTShPXHfWwQzeGs4u08bZdr2e5AwthZKQnEK9arsX2Xu9cHlxxJ0__kkW2.miU5G9bQIbPmZbxDiqR_pyUEaxFv0wcb9ZQGglK4I397kXKsM7VIe0SgFRSIwthqea8pMx.FluYszPpYX3z8_evCheNX2mRBV33V7gnDGza_F9TuIiT3vy0wX_wsauOZwaGab22uHXzgHhDyDnN9eEYQBAgxE76VKahSxkLkt4Yq2.2B4SCZ.kKi6jBvLufhmdtzwVxgNECRugT1UCqXIlGS4NeI5p42i4udb1i7zzUJurnFv3TeXEPF1uTQsrFzeUNrJgXUt7yOQjjN3cPjJYnwmuRacWCEnlLFzlbgwiQ7cHTmOyITfOU2IzbipWp_d8UpHv6.KsRfmSX7M9M5V4Ed7pUpnF9IQkwzZ5kXCrXB2kuUrfYUsBemwvYDdW5iuKgPXx5dgzQOMQRT__e5pEN4U\"};var cpo = document.createElement(\\'script\\');cpo.src = \\'/cdn-cgi/challenge-platform/h/g/orchestrate/chl_page/v1?ray=8f2681f54ee1c19a\\';window._cf_chl_opt.cOgUHash = location.hash === \\'\\' && location.href.indexOf(\\'#\\') !== -1 ? \\'#\\' : location.hash;window._cf_chl_opt.cOgUQuery = location.search === \\'\\' && location.href.slice(0, location.href.length - window._cf_chl_opt.cOgUHash.length).indexOf(\\'?\\') !== -1 ? \\'?\\' : location.search;if (window.history && window.history.replaceState) {var ogU = location.pathname + window._cf_chl_opt.cOgUQuery + window._cf_chl_opt.cOgUHash;history.replaceState(null, null, \"\\\\/all-products\\\\/?__cf_chl_rt_tk=MkJtwf_LMfUvPNqX76FAHLe8WGp78vj3Dl0P6XtrbW4-1734266484-1.0.1.1-SkdzvsFn1P4Au8JshzSKmjYvF36dSnAFKqNiXGcRaUI\" + window._cf_chl_opt.cOgUHash);cpo.onload = function() {history.replaceState(null, null, ogU);}}document.getElementsByTagName(\\'head\\')[0].appendChild(cpo);}());</script></body></html>'"
      ]
     },
     "execution_count": 4,
     "metadata": {},
     "output_type": "execute_result"
    }
   ],
   "source": [
    "jumia.content"
   ]
  },
  {
   "cell_type": "code",
   "execution_count": 5,
   "id": "bcec9d83-ac26-4c31-a28d-3fb6b4d5faad",
   "metadata": {},
   "outputs": [],
   "source": [
    "name_info = []\n",
    "price_info = []\n",
    "rating_info = []"
   ]
  },
  {
   "cell_type": "code",
   "execution_count": 19,
   "id": "4b4e2841-dc40-435f-972e-1f9da49484c8",
   "metadata": {
    "collapsed": true,
    "jupyter": {
     "outputs_hidden": true
    },
    "scrolled": true
   },
   "outputs": [
    {
     "name": "stdout",
     "output_type": "stream",
     "text": [
      "Page 1: Found 0 products\n",
      "Page 2: Found 0 products\n",
      "Page 3: Found 0 products\n",
      "Page 4: Found 0 products\n",
      "Page 5: Found 0 products\n",
      "Page 6: Found 0 products\n",
      "Page 7: Found 0 products\n",
      "Page 8: Found 0 products\n",
      "Page 9: Found 0 products\n",
      "Page 10: Found 0 products\n",
      "Page 11: Found 0 products\n",
      "Page 12: Found 0 products\n",
      "Page 13: Found 0 products\n",
      "Page 14: Found 0 products\n",
      "Page 15: Found 0 products\n",
      "Page 16: Found 0 products\n",
      "Page 17: Found 0 products\n",
      "Page 18: Found 0 products\n",
      "Page 19: Found 0 products\n",
      "Page 20: Found 0 products\n",
      "Page 21: Found 0 products\n",
      "Page 22: Found 0 products\n",
      "Page 23: Found 0 products\n",
      "Page 24: Found 0 products\n",
      "Page 25: Found 0 products\n",
      "Page 26: Found 0 products\n",
      "Page 27: Found 0 products\n",
      "Page 28: Found 0 products\n",
      "Page 29: Found 0 products\n",
      "Page 30: Found 0 products\n",
      "Page 31: Found 0 products\n",
      "Page 32: Found 0 products\n",
      "Page 33: Found 0 products\n",
      "Page 34: Found 0 products\n",
      "Page 35: Found 0 products\n",
      "Page 36: Found 0 products\n",
      "Page 37: Found 0 products\n",
      "Page 38: Found 0 products\n",
      "Page 39: Found 0 products\n",
      "Page 40: Found 0 products\n",
      "Page 41: Found 0 products\n",
      "Page 42: Found 0 products\n",
      "Page 43: Found 0 products\n",
      "Page 44: Found 0 products\n",
      "Page 45: Found 0 products\n",
      "Page 46: Found 0 products\n",
      "Page 47: Found 0 products\n",
      "Page 48: Found 0 products\n",
      "Page 49: Found 0 products\n",
      "Page 50: Found 0 products\n",
      "[] [] []\n"
     ]
    }
   ],
   "source": [
    "import requests\n",
    "from bs4 import BeautifulSoup\n",
    "\n",
    "name_info = []\n",
    "price_info = []\n",
    "rating_info = []\n",
    "\n",
    "for page in range(1, 51):\n",
    "    url = \"https://www.jumia.co.ke/all-products/\" + \"?page=\" + str(page) + \"#catalog.listing\"\n",
    "    furl = requests.get(url)\n",
    "    jsoup = BeautifulSoup(furl.content, 'html.parser')\n",
    "    products = jsoup.find_all('div', class_='info')\n",
    "\n",
    "    print(f\"Page {page}: Found {len(products)} products\")  # Debug print\n",
    "\n",
    "    for product in products:\n",
    "        Name = product.find('h3', class_='name')\n",
    "        Price = product.find('div', class_='prc')\n",
    "\n",
    "        if Name and Price:\n",
    "            Name = Name.text.replace('\\n', '')\n",
    "            Price = Price.text.replace('\\n', '')\n",
    "\n",
    "            try:\n",
    "                Rating = product.find('div', class_='stars _s').text.replace('\\n', '')\n",
    "            except:\n",
    "                Rating = 'None'\n",
    "\n",
    "            name_info.append(Name)\n",
    "            price_info.append(Price)\n",
    "            rating_info.append(Rating)\n",
    "\n",
    "            # Debug print for each product\n",
    "            print(f\"Appended: Name={Name}, Price={Price}, Rating={Rating}\")\n",
    "        else:\n",
    "            print(\"Name or Price not found for a product\")\n",
    "\n",
    "# Print the lists once after collecting all data\n",
    "print(name_info, price_info, rating_info)\n"
   ]
  },
  {
   "cell_type": "code",
   "execution_count": 16,
   "id": "b9d146a4-5dcf-4ee3-879a-30a51c3a46f2",
   "metadata": {},
   "outputs": [],
   "source": [
    "dict = {'Product Name' : name_info, 'Price' : price_info, 'Rating' : rating_info}"
   ]
  },
  {
   "cell_type": "code",
   "execution_count": 17,
   "id": "dc26aed0-0a1a-410f-8402-60375e5a6960",
   "metadata": {},
   "outputs": [
    {
     "data": {
      "text/html": [
       "<div>\n",
       "<style scoped>\n",
       "    .dataframe tbody tr th:only-of-type {\n",
       "        vertical-align: middle;\n",
       "    }\n",
       "\n",
       "    .dataframe tbody tr th {\n",
       "        vertical-align: top;\n",
       "    }\n",
       "\n",
       "    .dataframe thead th {\n",
       "        text-align: right;\n",
       "    }\n",
       "</style>\n",
       "<table border=\"1\" class=\"dataframe\">\n",
       "  <thead>\n",
       "    <tr style=\"text-align: right;\">\n",
       "      <th></th>\n",
       "      <th>Product Name</th>\n",
       "      <th>Price</th>\n",
       "      <th>Rating</th>\n",
       "    </tr>\n",
       "  </thead>\n",
       "  <tbody>\n",
       "  </tbody>\n",
       "</table>\n",
       "</div>"
      ],
      "text/plain": [
       "Empty DataFrame\n",
       "Columns: [Product Name, Price, Rating]\n",
       "Index: []"
      ]
     },
     "execution_count": 17,
     "metadata": {},
     "output_type": "execute_result"
    }
   ],
   "source": [
    "df = pd.DataFrame(dict)\n",
    "df"
   ]
  },
  {
   "cell_type": "code",
   "execution_count": 18,
   "id": "04260006-5815-4071-8a27-184b3e765f54",
   "metadata": {},
   "outputs": [],
   "source": [
    "df.to_csv('products_from_jumia.csv', index = False, encoding = 'utf-8')"
   ]
  },
  {
   "cell_type": "code",
   "execution_count": null,
   "id": "50d8285a-011c-499d-8148-7bdcf702196d",
   "metadata": {},
   "outputs": [],
   "source": []
  }
 ],
 "metadata": {
  "kernelspec": {
   "display_name": "Python 3 (ipykernel)",
   "language": "python",
   "name": "python3"
  },
  "language_info": {
   "codemirror_mode": {
    "name": "ipython",
    "version": 3
   },
   "file_extension": ".py",
   "mimetype": "text/x-python",
   "name": "python",
   "nbconvert_exporter": "python",
   "pygments_lexer": "ipython3",
   "version": "3.13.0"
  }
 },
 "nbformat": 4,
 "nbformat_minor": 5
}
